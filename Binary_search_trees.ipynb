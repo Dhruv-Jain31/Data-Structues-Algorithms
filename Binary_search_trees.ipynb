{
 "cells": [
  {
   "cell_type": "code",
   "execution_count": 1,
   "id": "2272c20f-ac51-49b5-97c3-554623da97f0",
   "metadata": {},
   "outputs": [],
   "source": [
    "class Binary_Tree_Node:\n",
    "    def __init__(self,data):\n",
    "        self.data = data\n",
    "        self.right = None\n",
    "        self.left = None\n",
    "\n",
    "btn1 = Binary_Tree_Node(1)\n",
    "btn2 = Binary_Tree_Node(2)\n",
    "btn3 = Binary_Tree_Node(3)\n",
    "\n",
    "btn1.left = btn2\n",
    "btn1.right = btn3\n",
    "\n",
    "\n",
    "def printTreeDetailed(root):\n",
    "    if root == None:\n",
    "        return\n",
    "\n",
    "    print(root.data, end = \" : \")\n",
    "    if root.left != None:\n",
    "        print(\"L\",root.left.data, end = \",\")\n",
    "    if root.right != None:\n",
    "        print(\"R\",root.right.data, end = \"\")\n",
    "    print()\n",
    "\n",
    "    printTreeDetailed(root.left)\n",
    "    printTreeDetailed(root.right)\n",
    "\n",
    "\n",
    "\n",
    "def TreeInput():\n",
    "    rootData = int(input())\n",
    "    if rootData == -1:\n",
    "        return None\n",
    "    root = Binary_Tree_Node(rootData)\n",
    "    left_tree = TreeInput()\n",
    "    right_tree = TreeInput()\n",
    "    root.left = left_tree\n",
    "    root.right = right_tree\n",
    "    return root"
   ]
  }
 ],
 "metadata": {
  "kernelspec": {
   "display_name": "Python 3 (ipykernel)",
   "language": "python",
   "name": "python3"
  },
  "language_info": {
   "codemirror_mode": {
    "name": "ipython",
    "version": 3
   },
   "file_extension": ".py",
   "mimetype": "text/x-python",
   "name": "python",
   "nbconvert_exporter": "python",
   "pygments_lexer": "ipython3",
   "version": "3.11.5"
  }
 },
 "nbformat": 4,
 "nbformat_minor": 5
}
