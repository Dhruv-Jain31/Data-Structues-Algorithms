{
 "cells": [
  {
   "cell_type": "code",
   "execution_count": 2,
   "id": "70dcbf84",
   "metadata": {},
   "outputs": [
    {
     "name": "stdout",
     "output_type": "stream",
     "text": [
      "[[1, 2, 3, 4], [5, 6, 7, 8], [9, 10, 11, 12], [13, 14, 15, 16]]\n"
     ]
    }
   ],
   "source": [
    "li=[[1,2,3,4],[5,6,7,8],[9,10,11,12],[13,14,15,16]]\n",
    "print(li)"
   ]
  },
  {
   "cell_type": "code",
   "execution_count": 4,
   "id": "cbd84b9e",
   "metadata": {},
   "outputs": [
    {
     "name": "stdout",
     "output_type": "stream",
     "text": [
      "11\n"
     ]
    }
   ],
   "source": [
    "print(li[2][2])"
   ]
  },
  {
   "cell_type": "code",
   "execution_count": 5,
   "id": "5e6c9993",
   "metadata": {},
   "outputs": [
    {
     "name": "stdout",
     "output_type": "stream",
     "text": [
      "12\n"
     ]
    }
   ],
   "source": [
    "print(li[2][3])"
   ]
  },
  {
   "cell_type": "code",
   "execution_count": 6,
   "id": "d786ddec",
   "metadata": {},
   "outputs": [
    {
     "ename": "IndexError",
     "evalue": "list index out of range",
     "output_type": "error",
     "traceback": [
      "\u001b[1;31m---------------------------------------------------------------------------\u001b[0m",
      "\u001b[1;31mIndexError\u001b[0m                                Traceback (most recent call last)",
      "\u001b[1;32m~\\AppData\\Local\\Temp\\ipykernel_5276\\1382240989.py\u001b[0m in \u001b[0;36m<module>\u001b[1;34m\u001b[0m\n\u001b[1;32m----> 1\u001b[1;33m \u001b[0mprint\u001b[0m\u001b[1;33m(\u001b[0m\u001b[0mli\u001b[0m\u001b[1;33m[\u001b[0m\u001b[1;36m2\u001b[0m\u001b[1;33m]\u001b[0m\u001b[1;33m[\u001b[0m\u001b[1;36m5\u001b[0m\u001b[1;33m]\u001b[0m\u001b[1;33m)\u001b[0m\u001b[1;33m\u001b[0m\u001b[1;33m\u001b[0m\u001b[0m\n\u001b[0m",
      "\u001b[1;31mIndexError\u001b[0m: list index out of range"
     ]
    }
   ],
   "source": [
    "print(li[2][5])"
   ]
  },
  {
   "cell_type": "code",
   "execution_count": 7,
   "id": "5e2d849c",
   "metadata": {},
   "outputs": [
    {
     "name": "stdout",
     "output_type": "stream",
     "text": [
      "[[1, 2, 3, 4], [5, 6, 20, 8], [9, 10, 11, 12], [13, 14, 15, 16]]\n"
     ]
    }
   ],
   "source": [
    "li[1][2]=20\n",
    "print(li)"
   ]
  },
  {
   "cell_type": "code",
   "execution_count": 8,
   "id": "ee26126d",
   "metadata": {},
   "outputs": [],
   "source": [
    "li=[[1,2,3,4],[5,6,7,8]]"
   ]
  },
  {
   "cell_type": "code",
   "execution_count": 9,
   "id": "e2495c10",
   "metadata": {},
   "outputs": [
    {
     "name": "stdout",
     "output_type": "stream",
     "text": [
      "[1, 2, 3, 4]\n"
     ]
    }
   ],
   "source": [
    "print(li[0])"
   ]
  },
  {
   "cell_type": "code",
   "execution_count": 11,
   "id": "9cda3f46",
   "metadata": {},
   "outputs": [
    {
     "data": {
      "text/plain": [
       "list"
      ]
     },
     "execution_count": 11,
     "metadata": {},
     "output_type": "execute_result"
    }
   ],
   "source": [
    "type(li[0])"
   ]
  },
  {
   "cell_type": "code",
   "execution_count": 12,
   "id": "19e611f8",
   "metadata": {},
   "outputs": [
    {
     "name": "stdout",
     "output_type": "stream",
     "text": [
      "[[1, 4, 3, 4], [5, 6, 7, 8]]\n"
     ]
    }
   ],
   "source": [
    "li[0][1]=4\n",
    "print(li)"
   ]
  },
  {
   "cell_type": "code",
   "execution_count": 13,
   "id": "059615a6",
   "metadata": {},
   "outputs": [
    {
     "data": {
      "text/plain": [
       "2212483793216"
      ]
     },
     "execution_count": 13,
     "metadata": {},
     "output_type": "execute_result"
    }
   ],
   "source": [
    "id(li)"
   ]
  },
  {
   "cell_type": "code",
   "execution_count": 14,
   "id": "84713269",
   "metadata": {},
   "outputs": [
    {
     "data": {
      "text/plain": [
       "2212483795200"
      ]
     },
     "execution_count": 14,
     "metadata": {},
     "output_type": "execute_result"
    }
   ],
   "source": [
    "id(li[0])"
   ]
  },
  {
   "cell_type": "code",
   "execution_count": 15,
   "id": "4e6d7394",
   "metadata": {},
   "outputs": [
    {
     "data": {
      "text/plain": [
       "2212400097680"
      ]
     },
     "execution_count": 15,
     "metadata": {},
     "output_type": "execute_result"
    }
   ],
   "source": [
    "id(li[0][1])"
   ]
  },
  {
   "cell_type": "code",
   "execution_count": 17,
   "id": "e0c8d9a8",
   "metadata": {},
   "outputs": [
    {
     "data": {
      "text/plain": [
       "2212483829632"
      ]
     },
     "execution_count": 17,
     "metadata": {},
     "output_type": "execute_result"
    }
   ],
   "source": [
    "id(li[1])"
   ]
  },
  {
   "cell_type": "code",
   "execution_count": 18,
   "id": "4054da86",
   "metadata": {},
   "outputs": [
    {
     "name": "stdout",
     "output_type": "stream",
     "text": [
      "[[1, 4, 3, 4], 'Dhruv']\n"
     ]
    }
   ],
   "source": [
    "li[1]=\"Dhruv\"\n",
    "print(li)"
   ]
  },
  {
   "cell_type": "markdown",
   "id": "7434aa59",
   "metadata": {},
   "source": [
    " ### Jagged Lists"
   ]
  },
  {
   "cell_type": "code",
   "execution_count": 20,
   "id": "afe427c0",
   "metadata": {},
   "outputs": [],
   "source": [
    "li=[[1,2,3,4],[7,8,9],[9,2]]\n"
   ]
  },
  {
   "cell_type": "code",
   "execution_count": 21,
   "id": "5dd14821",
   "metadata": {},
   "outputs": [
    {
     "data": {
      "text/plain": [
       "[1, 2, 3, 4]"
      ]
     },
     "execution_count": 21,
     "metadata": {},
     "output_type": "execute_result"
    }
   ],
   "source": [
    "li[0]"
   ]
  },
  {
   "cell_type": "code",
   "execution_count": 22,
   "id": "2bf73349",
   "metadata": {},
   "outputs": [
    {
     "data": {
      "text/plain": [
       "[7, 8, 9]"
      ]
     },
     "execution_count": 22,
     "metadata": {},
     "output_type": "execute_result"
    }
   ],
   "source": [
    "li[1]"
   ]
  },
  {
   "cell_type": "code",
   "execution_count": 23,
   "id": "70ea47ea",
   "metadata": {},
   "outputs": [
    {
     "ename": "IndexError",
     "evalue": "list index out of range",
     "output_type": "error",
     "traceback": [
      "\u001b[1;31m---------------------------------------------------------------------------\u001b[0m",
      "\u001b[1;31mIndexError\u001b[0m                                Traceback (most recent call last)",
      "\u001b[1;32m~\\AppData\\Local\\Temp\\ipykernel_5276\\1363762613.py\u001b[0m in \u001b[0;36m<module>\u001b[1;34m\u001b[0m\n\u001b[1;32m----> 1\u001b[1;33m \u001b[0mli\u001b[0m\u001b[1;33m[\u001b[0m\u001b[1;36m2\u001b[0m\u001b[1;33m]\u001b[0m\u001b[1;33m[\u001b[0m\u001b[1;36m3\u001b[0m\u001b[1;33m]\u001b[0m\u001b[1;33m\u001b[0m\u001b[1;33m\u001b[0m\u001b[0m\n\u001b[0m",
      "\u001b[1;31mIndexError\u001b[0m: list index out of range"
     ]
    }
   ],
   "source": [
    "li[2][3]"
   ]
  },
  {
   "cell_type": "markdown",
   "id": "fccbd352",
   "metadata": {},
   "source": [
    "### List comprehension"
   ]
  },
  {
   "cell_type": "code",
   "execution_count": 27,
   "id": "9363d75c",
   "metadata": {},
   "outputs": [
    {
     "name": "stdout",
     "output_type": "stream",
     "text": [
      "[1, 4, 9, 16]\n"
     ]
    }
   ],
   "source": [
    "li=[1,2,3,4]\n",
    "li_new=[]\n",
    "for ele in li:\n",
    "    li_new.append(ele**2)\n",
    "print(li_new)"
   ]
  },
  {
   "cell_type": "code",
   "execution_count": 29,
   "id": "0a0fd1e4",
   "metadata": {},
   "outputs": [
    {
     "name": "stdout",
     "output_type": "stream",
     "text": [
      "[1, 4, 9, 16]\n"
     ]
    }
   ],
   "source": [
    "li_new_c=[ele**2 for ele in li]\n",
    "print(li_new_c)"
   ]
  },
  {
   "cell_type": "code",
   "execution_count": 30,
   "id": "5593937e",
   "metadata": {},
   "outputs": [
    {
     "name": "stdout",
     "output_type": "stream",
     "text": [
      "[4, 16]\n"
     ]
    }
   ],
   "source": [
    "li_even_square=[ele**2 for ele in li if ele%2==0]\n",
    "print(li_even_square)"
   ]
  },
  {
   "cell_type": "code",
   "execution_count": 31,
   "id": "d08a0e39",
   "metadata": {},
   "outputs": [
    {
     "name": "stdout",
     "output_type": "stream",
     "text": [
      "[4, 16]\n"
     ]
    }
   ],
   "source": [
    "li_even_square=[]\n",
    "for ele in li:\n",
    "    if ele%2==0:\n",
    "        li_even_square.append(ele**2)\n",
    "print(li_even_square)        "
   ]
  },
  {
   "cell_type": "code",
   "execution_count": 33,
   "id": "51951e91",
   "metadata": {},
   "outputs": [
    {
     "name": "stdout",
     "output_type": "stream",
     "text": [
      "[6]\n"
     ]
    }
   ],
   "source": [
    "li=[1,2,3,4,5,6,7,8]\n",
    "li_new=[]\n",
    "for ele in li:\n",
    "    if ele%2==0 and ele%3==0:\n",
    "        li_new.append(ele)\n",
    "print(li_new)    "
   ]
  },
  {
   "cell_type": "code",
   "execution_count": 34,
   "id": "7d99b2ec",
   "metadata": {},
   "outputs": [
    {
     "name": "stdout",
     "output_type": "stream",
     "text": [
      "[6]\n"
     ]
    }
   ],
   "source": [
    "li_new_2=[ele for ele in li if ele%2==0 if ele%3==0]\n",
    "print(li_new_2)"
   ]
  },
  {
   "cell_type": "code",
   "execution_count": 35,
   "id": "ab3ae302",
   "metadata": {},
   "outputs": [
    {
     "name": "stdout",
     "output_type": "stream",
     "text": [
      "[2, 4]\n"
     ]
    }
   ],
   "source": [
    "li_1=[1,2,3,4,5]\n",
    "li_2=[2,4,6,7]\n",
    "li_inter=[]\n",
    "for ele in li_1:\n",
    "    for ele2 in li_2:\n",
    "        if ele==ele2:\n",
    "            li_inter.append(ele)\n",
    "print(li_inter)            "
   ]
  },
  {
   "cell_type": "code",
   "execution_count": 36,
   "id": "042fb780",
   "metadata": {},
   "outputs": [
    {
     "name": "stdout",
     "output_type": "stream",
     "text": [
      "[2, 4]\n"
     ]
    }
   ],
   "source": [
    "li_inter=[ele for ele in li_1 for ele2 in li_2 if ele==ele2]\n",
    "print(li_inter)"
   ]
  },
  {
   "cell_type": "code",
   "execution_count": 38,
   "id": "851f5276",
   "metadata": {},
   "outputs": [
    {
     "name": "stdout",
     "output_type": "stream",
     "text": [
      "[1, 4, 3, 16, 5]\n"
     ]
    }
   ],
   "source": [
    "li=[1,2,3,4,5]\n",
    "li_new=[]\n",
    "for ele in li:\n",
    "    if ele%2==0:\n",
    "        li_new.append(ele**2)\n",
    "    else:\n",
    "        li_new.append(ele)\n",
    "print(li_new)        "
   ]
  },
  {
   "cell_type": "code",
   "execution_count": 39,
   "id": "028dccca",
   "metadata": {},
   "outputs": [
    {
     "name": "stdout",
     "output_type": "stream",
     "text": [
      "[1, 4, 3, 16, 5]\n"
     ]
    }
   ],
   "source": [
    "li_new=[ele**2 if ele%2==0 else ele for ele in li]\n",
    "print(li_new)"
   ]
  },
  {
   "cell_type": "markdown",
   "id": "9c1af746",
   "metadata": {},
   "source": [
    "### List comprehension in 2-D Lists"
   ]
  },
  {
   "cell_type": "code",
   "execution_count": null,
   "id": "32e1eeb3",
   "metadata": {},
   "outputs": [],
   "source": []
  }
 ],
 "metadata": {
  "kernelspec": {
   "display_name": "Python 3 (ipykernel)",
   "language": "python",
   "name": "python3"
  },
  "language_info": {
   "codemirror_mode": {
    "name": "ipython",
    "version": 3
   },
   "file_extension": ".py",
   "mimetype": "text/x-python",
   "name": "python",
   "nbconvert_exporter": "python",
   "pygments_lexer": "ipython3",
   "version": "3.9.13"
  }
 },
 "nbformat": 4,
 "nbformat_minor": 5
}
