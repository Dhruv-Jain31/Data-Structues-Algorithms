{
 "cells": [
  {
   "cell_type": "markdown",
   "id": "a0d5a91e-6fc2-4f87-a6e8-1bb2d044df72",
   "metadata": {},
   "source": [
    "### Remove Leaf Nodes"
   ]
  },
  {
   "cell_type": "code",
   "execution_count": 4,
   "id": "74c441a3-fc3e-42d3-9777-a6ab178399a7",
   "metadata": {},
   "outputs": [],
   "source": [
    "class Binary_Tree_Node:\n",
    "    def __init__(self,data):\n",
    "        self.data = data\n",
    "        self.right = None\n",
    "        self.left = None\n",
    "\n",
    "btn1 = Binary_Tree_Node(1)\n",
    "btn2 = Binary_Tree_Node(2)\n",
    "btn3 = Binary_Tree_Node(3)\n",
    "\n",
    "btn1.left = btn2\n",
    "btn1.right = btn3\n",
    "\n",
    "\n",
    "def printTreeDetailed(root):\n",
    "    if root == None:\n",
    "        return\n",
    "\n",
    "    print(root.data, end = \" : \")\n",
    "    if root.left != None:\n",
    "        print(\"L\",root.left.data, end = \",\")\n",
    "    if root.right != None:\n",
    "        print(\"R\",root.right.data, end = \"\")\n",
    "    print()\n",
    "\n",
    "    printTreeDetailed(root.left)\n",
    "    printTreeDetailed(root.right)\n",
    "\n",
    "\n",
    "\n",
    "def TreeInput():\n",
    "    rootData = int(input())\n",
    "    if rootData == -1:\n",
    "        return None\n",
    "    root = Binary_Tree_Node(rootData)\n",
    "    left_tree = TreeInput()\n",
    "    right_tree = TreeInput()\n",
    "    root.left = left_tree\n",
    "    root.right = right_tree\n",
    "    return root"
   ]
  },
  {
   "cell_type": "code",
   "execution_count": 6,
   "id": "42636c09-04ab-417f-8545-61178036160a",
   "metadata": {},
   "outputs": [],
   "source": [
    "def removeLeaves(root):\n",
    "    if root == None:\n",
    "        return None\n",
    "    if root.left == None and root.right == None: # checking if root is a leaf or not\n",
    "        return None\n",
    "    root.left = removeLeaves(root.left) # since returning none won't do anything we must update root.left as well\n",
    "    root.right = removeLeaves(root.right) \n",
    "    return root\n",
    "    "
   ]
  },
  {
   "cell_type": "code",
   "execution_count": 9,
   "id": "f5525c75-514e-4f5e-a68b-b71bd66c1e10",
   "metadata": {},
   "outputs": [
    {
     "name": "stdin",
     "output_type": "stream",
     "text": [
      " 1\n",
      " 2\n",
      " 4\n",
      " -1\n",
      " -1\n",
      " 5\n",
      " 8\n",
      " -1\n",
      " -1\n",
      " 9\n",
      " -1\n",
      " -1\n",
      " 3\n",
      " 8\n",
      " -1\n",
      " -1\n",
      " 7\n",
      " -1\n",
      " -1\n"
     ]
    },
    {
     "name": "stdout",
     "output_type": "stream",
     "text": [
      "1 : L 2,R 3\n",
      "2 : L 4,R 5\n",
      "4 : \n",
      "5 : L 8,R 9\n",
      "8 : \n",
      "9 : \n",
      "3 : L 8,R 7\n",
      "8 : \n",
      "7 : \n",
      "\n",
      "1 : L 2,R 3\n",
      "2 : R 5\n",
      "5 : \n",
      "3 : \n"
     ]
    }
   ],
   "source": [
    "root = TreeInput()\n",
    "printTreeDetailed(root)\n",
    "print()\n",
    "root = removeLeaves(root) # we are storing the value in a root because if there is just a single node given\n",
    "                          # function will just return none not the root and we need to update the root also.\n",
    "if root == None:\n",
    "    print(\" root is leaf and tree is deleted\")\n",
    "else:\n",
    "    printTreeDetailed(root)"
   ]
  },
  {
   "cell_type": "markdown",
   "id": "969c5d60-9932-4785-a896-a782057f49f2",
   "metadata": {},
   "source": [
    "### Mirror Binary Tree"
   ]
  },
  {
   "cell_type": "markdown",
   "id": "330caa0e-a96c-4d9b-b2fc-f6c676e9018d",
   "metadata": {},
   "source": [
    "Given the root of a binary tree, check whether it is a mirror of itself (i.e., symmetric around its center)."
   ]
  },
  {
   "cell_type": "code",
   "execution_count": null,
   "id": "afb708cf-492e-4a33-bcce-0647bf07f35f",
   "metadata": {},
   "outputs": [],
   "source": []
  }
 ],
 "metadata": {
  "kernelspec": {
   "display_name": "Python 3 (ipykernel)",
   "language": "python",
   "name": "python3"
  },
  "language_info": {
   "codemirror_mode": {
    "name": "ipython",
    "version": 3
   },
   "file_extension": ".py",
   "mimetype": "text/x-python",
   "name": "python",
   "nbconvert_exporter": "python",
   "pygments_lexer": "ipython3",
   "version": "3.11.5"
  }
 },
 "nbformat": 4,
 "nbformat_minor": 5
}
