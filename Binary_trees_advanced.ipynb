{
 "cells": [
  {
   "cell_type": "markdown",
   "id": "a0d5a91e-6fc2-4f87-a6e8-1bb2d044df72",
   "metadata": {},
   "source": [
    "### Remove Leaf Nodes"
   ]
  },
  {
   "cell_type": "code",
   "execution_count": 3,
   "id": "74c441a3-fc3e-42d3-9777-a6ab178399a7",
   "metadata": {},
   "outputs": [],
   "source": [
    "class Binary_Tree_Node:\n",
    "    def __init__(self,data):\n",
    "        self.data = data\n",
    "        self.right = None\n",
    "        self.left = None\n",
    "\n",
    "btn1 = Binary_Tree_Node(1)\n",
    "btn2 = Binary_Tree_Node(2)\n",
    "btn3 = Binary_Tree_Node(3)\n",
    "\n",
    "btn1.left = btn2\n",
    "btn1.right = btn3\n",
    "\n",
    "\n",
    "def printTreeDetailed(root):\n",
    "    if root == None:\n",
    "        return\n",
    "\n",
    "    print(root.data, end = \" : \")\n",
    "    if root.left != None:\n",
    "        print(\"L\",root.left.data, end = \",\")\n",
    "    if root.right != None:\n",
    "        print(\"R\",root.right.data, end = \"\")\n",
    "    print()\n",
    "\n",
    "    printTreeDetailed(root.left)\n",
    "    printTreeDetailed(root.right)\n",
    "\n",
    "\n",
    "\n",
    "def TreeInput():\n",
    "    rootData = int(input())\n",
    "    if rootData == -1:\n",
    "        return None\n",
    "    root = Binary_Tree_Node(rootData)\n",
    "    left_tree = TreeInput()\n",
    "    right_tree = TreeInput()\n",
    "    root.left = left_tree\n",
    "    root.right = right_tree\n",
    "    return root"
   ]
  },
  {
   "cell_type": "code",
   "execution_count": 6,
   "id": "42636c09-04ab-417f-8545-61178036160a",
   "metadata": {},
   "outputs": [],
   "source": [
    "def removeLeaves(root):\n",
    "    if root == None:\n",
    "        return None\n",
    "    if root.left == None and root.right == None: # checking if root is a leaf or not\n",
    "        return None\n",
    "    root.left = removeLeaves(root.left) # since returning none won't do anything we must update root.left as well\n",
    "    root.right = removeLeaves(root.right) \n",
    "    return root\n",
    "    "
   ]
  },
  {
   "cell_type": "code",
   "execution_count": 9,
   "id": "f5525c75-514e-4f5e-a68b-b71bd66c1e10",
   "metadata": {},
   "outputs": [
    {
     "name": "stdin",
     "output_type": "stream",
     "text": [
      " 1\n",
      " 2\n",
      " 4\n",
      " -1\n",
      " -1\n",
      " 5\n",
      " 8\n",
      " -1\n",
      " -1\n",
      " 9\n",
      " -1\n",
      " -1\n",
      " 3\n",
      " 8\n",
      " -1\n",
      " -1\n",
      " 7\n",
      " -1\n",
      " -1\n"
     ]
    },
    {
     "name": "stdout",
     "output_type": "stream",
     "text": [
      "1 : L 2,R 3\n",
      "2 : L 4,R 5\n",
      "4 : \n",
      "5 : L 8,R 9\n",
      "8 : \n",
      "9 : \n",
      "3 : L 8,R 7\n",
      "8 : \n",
      "7 : \n",
      "\n",
      "1 : L 2,R 3\n",
      "2 : R 5\n",
      "5 : \n",
      "3 : \n"
     ]
    }
   ],
   "source": [
    "root = TreeInput()\n",
    "printTreeDetailed(root)\n",
    "print()\n",
    "root = removeLeaves(root) # we are storing the value in a root because if there is just a single node given\n",
    "                          # function will just return none not the root and we need to update the root also.\n",
    "if root == None:\n",
    "    print(\" root is leaf and tree is deleted\")\n",
    "else:\n",
    "    printTreeDetailed(root)"
   ]
  },
  {
   "cell_type": "markdown",
   "id": "969c5d60-9932-4785-a896-a782057f49f2",
   "metadata": {},
   "source": [
    "### Mirror Binary Tree"
   ]
  },
  {
   "cell_type": "markdown",
   "id": "330caa0e-a96c-4d9b-b2fc-f6c676e9018d",
   "metadata": {},
   "source": [
    "Given the root of a binary tree, check whether it is a mirror of itself (i.e., symmetric around its center)."
   ]
  },
  {
   "cell_type": "code",
   "execution_count": 11,
   "id": "afb708cf-492e-4a33-bcce-0647bf07f35f",
   "metadata": {},
   "outputs": [],
   "source": [
    "def mirrorBinaryTree(root):\n",
    "    if root is None:\n",
    "        return None\n",
    "\n",
    "    mirrorBinaryTree(root.left)\n",
    "    mirrorBinaryTree(root.right)\n",
    "\n",
    "    temp = root.left\n",
    "    root.left = root.right\n",
    "    root.right = temp\n",
    "\n",
    "    return root        \n"
   ]
  },
  {
   "cell_type": "code",
   "execution_count": 12,
   "id": "4e15c1d9-ea0e-4f44-bf33-0c3a6d93117b",
   "metadata": {},
   "outputs": [
    {
     "name": "stdin",
     "output_type": "stream",
     "text": [
      " 1\n",
      " 2\n",
      " 4\n",
      " -1\n",
      " -1\n",
      " 5\n",
      " 8\n",
      " -1\n",
      " -1\n",
      " 9\n",
      " -1\n",
      " -1\n",
      " 3\n",
      " 8\n",
      " -1\n",
      " -1\n",
      " 7\n",
      " -1\n",
      " -1\n"
     ]
    },
    {
     "name": "stdout",
     "output_type": "stream",
     "text": [
      "1 : L 2,R 3\n",
      "2 : L 4,R 5\n",
      "4 : \n",
      "5 : L 8,R 9\n",
      "8 : \n",
      "9 : \n",
      "3 : L 8,R 7\n",
      "8 : \n",
      "7 : \n",
      "\n",
      "1 : L 3,R 2\n",
      "3 : L 7,R 8\n",
      "7 : \n",
      "8 : \n",
      "2 : L 5,R 4\n",
      "5 : L 9,R 8\n",
      "9 : \n",
      "8 : \n",
      "4 : \n"
     ]
    }
   ],
   "source": [
    "root = TreeInput()\n",
    "printTreeDetailed(root)\n",
    "print()\n",
    "\n",
    "mirrorBinaryTree(root)\n",
    "printTreeDetailed(root)"
   ]
  },
  {
   "cell_type": "markdown",
   "id": "d51e7255-eb1a-4368-a081-3a31871a1e3a",
   "metadata": {},
   "source": [
    "### Checking if Binary Tree is Balanced or not"
   ]
  },
  {
   "cell_type": "markdown",
   "id": "97884546-4337-4a73-89d4-b6a3790d9df7",
   "metadata": {},
   "source": [
    "Balanced tree is the tree in which for each node in our tree, the node's left and right subtree should not \n",
    "have a height difference of more than one.\n",
    "if height of the left subtree from a node is 5 then height of right subtree from it's sibling node can be\n",
    "4 or 5 or 6 not above or below this range"
   ]
  },
  {
   "cell_type": "code",
   "execution_count": 5,
   "id": "36092b9c-8eae-4d3b-9244-92a45a2b347c",
   "metadata": {},
   "outputs": [],
   "source": [
    "def height(root):\n",
    "    if root == None:\n",
    "        return 0\n",
    "    return 1 + max(height(root.left),height(root.right))    "
   ]
  },
  {
   "cell_type": "code",
   "execution_count": 6,
   "id": "d5a01794-fea4-4158-a3b7-8757c1b5e46b",
   "metadata": {},
   "outputs": [],
   "source": [
    "def isBalanced(root):\n",
    "    if root == None:\n",
    "        return True\n",
    "    lh = height(root.left)\n",
    "    rh = height(root.right)\n",
    "    if lh - rh > 1 or rh - lh > 1 :\n",
    "        return False\n",
    "    isleftbalanced = isBalanced(root.left)\n",
    "    isrightbalanced = isBalanced(root.right)\n",
    "    if isleftbalanced and isrightbalanced :\n",
    "        return True\n",
    "    else:\n",
    "        return False\n",
    "        "
   ]
  },
  {
   "cell_type": "code",
   "execution_count": 7,
   "id": "278f1768-997b-4c7a-9a08-419c18d15b17",
   "metadata": {},
   "outputs": [
    {
     "name": "stdin",
     "output_type": "stream",
     "text": [
      " 1\n",
      " 2\n",
      " 4\n",
      " 6\n",
      " -1\n",
      " -1\n",
      " -1\n",
      " -1\n",
      " 3\n",
      " -1\n",
      " 5\n",
      " -1\n",
      " -1\n"
     ]
    },
    {
     "name": "stdout",
     "output_type": "stream",
     "text": [
      "1 : L 2,R 3\n",
      "2 : L 4,\n",
      "4 : L 6,\n",
      "6 : \n",
      "3 : R 5\n",
      "5 : \n"
     ]
    },
    {
     "data": {
      "text/plain": [
       "False"
      ]
     },
     "execution_count": 7,
     "metadata": {},
     "output_type": "execute_result"
    }
   ],
   "source": [
    "root = TreeInput()\n",
    "printTreeDetailed(root)\n",
    "\n",
    "isBalanced(root)"
   ]
  },
  {
   "cell_type": "markdown",
   "id": "19e2a4d1-3ec8-4564-8763-42ac2ad7fa45",
   "metadata": {},
   "source": [
    "### Check if tree is balanced or not improved code"
   ]
  },
  {
   "cell_type": "code",
   "execution_count": 13,
   "id": "463c3765-deb7-49dd-8d1a-0c7ca299f8cb",
   "metadata": {},
   "outputs": [],
   "source": [
    "# instead of calling same height function again and again as in above code for height and isbalanced function\n",
    "# put both the things and in recursion and recursion will return two things h,isbalanced value\n",
    "\n",
    "def isBalancedimproved(root):\n",
    "    if root == None:\n",
    "        return 0,True\n",
    "\n",
    "    lh,isleftbal = isBalancedimproved(root.left)\n",
    "    rh,isrightbal = isBalancedimproved(root.right)\n",
    "\n",
    "    h = 1 + max(lh,rh)\n",
    "    if lh - rh > 1 or rh - lh > 1 :\n",
    "        return h,False\n",
    "    if isleftbal and isrightbal :\n",
    "        return h,True\n",
    "    else:\n",
    "        return h,False"
   ]
  },
  {
   "cell_type": "code",
   "execution_count": 14,
   "id": "2f121b50-2582-4c23-bd9b-dc7d322c6667",
   "metadata": {},
   "outputs": [
    {
     "name": "stdin",
     "output_type": "stream",
     "text": [
      " 1\n",
      " 2\n",
      " 4\n",
      " 6\n",
      " -1\n",
      " -1\n",
      " -1\n",
      " -1\n",
      " 3\n",
      " -1\n",
      " 5\n",
      " -1\n",
      " -1\n"
     ]
    },
    {
     "name": "stdout",
     "output_type": "stream",
     "text": [
      "1 : L 2,R 3\n",
      "2 : L 4,\n",
      "4 : L 6,\n",
      "6 : \n",
      "3 : R 5\n",
      "5 : \n",
      "\n"
     ]
    },
    {
     "data": {
      "text/plain": [
       "(4, False)"
      ]
     },
     "execution_count": 14,
     "metadata": {},
     "output_type": "execute_result"
    }
   ],
   "source": [
    "root = TreeInput()\n",
    "printTreeDetailed(root)\n",
    "print()\n",
    "isBalancedimproved(root)"
   ]
  },
  {
   "cell_type": "markdown",
   "id": "d1802411-2595-4754-a312-2fbc7fb6eb67",
   "metadata": {},
   "source": [
    "### Diameter of Tree"
   ]
  },
  {
   "cell_type": "code",
   "execution_count": 15,
   "id": "edcf9d7a-cab7-4c6d-ac3a-93f9c1140826",
   "metadata": {},
   "outputs": [],
   "source": [
    "def diameterOfBinaryTree(root) :\n",
    "    if root == None:\n",
    "        return 0\n",
    "\n",
    "    lh = height(root.left)\n",
    "    rh = height(root.right)\n",
    "\n",
    "    ld = diameterOfBinaryTree(root.left)\n",
    "    rd = diameterOfBinaryTree(root.right)\n",
    "\n",
    "    return max(ld,rd,(lh+rh+1))  "
   ]
  },
  {
   "cell_type": "code",
   "execution_count": 17,
   "id": "b74d3e37-2258-47ef-a224-8020d64b7cfb",
   "metadata": {},
   "outputs": [
    {
     "name": "stdin",
     "output_type": "stream",
     "text": [
      " 1\n",
      " 2\n",
      " 3\n",
      " 4\n",
      " 5\n",
      " -1\n",
      " -1\n",
      " -1\n",
      " -1\n",
      " -1\n",
      " 10\n",
      " -1\n",
      " 11\n",
      " -1\n",
      " -1\n"
     ]
    },
    {
     "name": "stdout",
     "output_type": "stream",
     "text": [
      "1 : L 2,R 10\n",
      "2 : L 3,\n",
      "3 : L 4,\n",
      "4 : L 5,\n",
      "5 : \n",
      "10 : R 11\n",
      "11 : \n",
      "\n"
     ]
    },
    {
     "data": {
      "text/plain": [
       "7"
      ]
     },
     "execution_count": 17,
     "metadata": {},
     "output_type": "execute_result"
    }
   ],
   "source": [
    "root = TreeInput()\n",
    "printTreeDetailed(root)\n",
    "print()\n",
    "diameterOfBinaryTree(root)"
   ]
  },
  {
   "cell_type": "markdown",
   "id": "06a94aac-3443-47c3-b5b1-a5e176855c16",
   "metadata": {},
   "source": [
    "### Diameter of a Tree improved Code"
   ]
  },
  {
   "cell_type": "code",
   "execution_count": 8,
   "id": "460955c6-cf3a-4cb8-a31e-2e632b86d4bd",
   "metadata": {},
   "outputs": [],
   "source": [
    "def diameterOfBinaryTreeimproved(root) :\n",
    "    if root == None:\n",
    "        return 0, 0\n",
    "\n",
    "    lh,ld = diameterOfBinaryTreeimproved(root.left)\n",
    "    rh,rd = diameterOfBinaryTreeimproved(root.right)\n",
    "\n",
    "    h = 1 + max(lh,rh)\n",
    "\n",
    "    d = max(ld,rd,(lh+rh+1)) \n",
    "\n",
    "    return h , d\n",
    "\n",
    "\n",
    "def diameterOfBinaryTree(root) :\n",
    "\n",
    "    h , diameter = diameterOfBinaryTreeimproved(root)\n",
    "\n",
    "    return diameter\n",
    "# if recursion is called and if it is returning two things like h and d in above case then you must return two things\n",
    "#in the return function else there would be a error. In second function there is no recursion call inside that function\n",
    "#it is instead calling another function, stores it's values in two variable and returns only the required one.\n",
    "\n"
   ]
  },
  {
   "cell_type": "code",
   "execution_count": 6,
   "id": "8dd6ebf8-db5b-4474-9a0b-d9530f11b8a7",
   "metadata": {},
   "outputs": [
    {
     "name": "stdin",
     "output_type": "stream",
     "text": [
      " 1\n",
      " 2\n",
      " 3\n",
      " 4\n",
      " 5\n",
      " -1\n",
      " -1\n",
      " -1\n",
      " -1\n",
      " -1\n",
      " 10\n",
      " -1\n",
      " 11\n",
      " -1\n",
      " -1\n"
     ]
    },
    {
     "name": "stdout",
     "output_type": "stream",
     "text": [
      "1 : L 2,R 10\n",
      "2 : L 3,\n",
      "3 : L 4,\n",
      "4 : L 5,\n",
      "5 : \n",
      "10 : R 11\n",
      "11 : \n",
      "\n"
     ]
    },
    {
     "data": {
      "text/plain": [
       "7"
      ]
     },
     "execution_count": 6,
     "metadata": {},
     "output_type": "execute_result"
    }
   ],
   "source": [
    "root = TreeInput()\n",
    "printTreeDetailed(root)\n",
    "print()\n",
    "diameterOfBinaryTree(root)"
   ]
  },
  {
   "cell_type": "markdown",
   "id": "dae05b25-9e5e-4cde-b876-e9ee85f322d5",
   "metadata": {},
   "source": [
    "### Level-wise Input in Binary Tree"
   ]
  },
  {
   "cell_type": "markdown",
   "id": "3d23e4ca-e9e5-4aff-aed3-9d1947ae2d19",
   "metadata": {},
   "source": [
    "Recursion won't work here because if you call recursion on left sub-tree it will complete it's work\n",
    "and then will go to right sub-tree. And in this case we need to simultaneously jump to left and right subtree.\n",
    "So, we'll be solving it iteratively by queue implementation.\n",
    "Steps:\n",
    "1. Take root input\n",
    "2. Add it to the queue\n",
    "3. while queue is not empty\n",
    "4. take the first element of queue -> b\n",
    "5. ask for it's children and if they are valid attach to the element b and add to queue and so on.\n",
    "6. We are working on the node, exactly in the order we are recieving them for queue. hence queue implementation becomes\n",
    "   utmost important."
   ]
  },
  {
   "cell_type": "code",
   "execution_count": 2,
   "id": "d02f7030-8c6b-47c6-835f-8553659f5dca",
   "metadata": {},
   "outputs": [],
   "source": [
    "import queue\n",
    "\n",
    "def take_level_wise_input():\n",
    "    q = queue.Queue()\n",
    "    print(\"Enter root\")\n",
    "    rootdata = int(input())\n",
    "    if rootdata != -1:\n",
    "        root = Binary_Tree_Node(rootdata)\n",
    "        q.put(root)\n",
    "    else:\n",
    "        return None\n",
    "    while (not(q.empty())):\n",
    "        curr_node = q.get()\n",
    "        print(\"Enter left Child of \",curr_node.data)\n",
    "        left_child_data = int(input())\n",
    "        if left_child_data != -1 :\n",
    "            left_child = Binary_Tree_Node(left_child_data)\n",
    "            curr_node.left = left_child\n",
    "            q.put(left_child)\n",
    "\n",
    "        print(\"Enter right Child of\",curr_node.data)\n",
    "        right_child_data = int(input())\n",
    "        if right_child_data != -1:\n",
    "            right_child = Binary_Tree_Node(right_child_data)\n",
    "            curr_node.right = right_child\n",
    "            q.put(right_child)\n",
    "\n",
    "    return root"
   ]
  },
  {
   "cell_type": "code",
   "execution_count": 16,
   "id": "dfadec62-e075-4d0c-af44-6008ee487989",
   "metadata": {},
   "outputs": [
    {
     "name": "stdout",
     "output_type": "stream",
     "text": [
      "Enter root\n"
     ]
    },
    {
     "name": "stdin",
     "output_type": "stream",
     "text": [
      " 1\n"
     ]
    },
    {
     "name": "stdout",
     "output_type": "stream",
     "text": [
      "Enter left Child of  1\n"
     ]
    },
    {
     "name": "stdin",
     "output_type": "stream",
     "text": [
      " 2\n"
     ]
    },
    {
     "name": "stdout",
     "output_type": "stream",
     "text": [
      "Enter right Child of 1\n"
     ]
    },
    {
     "name": "stdin",
     "output_type": "stream",
     "text": [
      " 3\n"
     ]
    },
    {
     "name": "stdout",
     "output_type": "stream",
     "text": [
      "Enter left Child of  2\n"
     ]
    },
    {
     "name": "stdin",
     "output_type": "stream",
     "text": [
      " 4\n"
     ]
    },
    {
     "name": "stdout",
     "output_type": "stream",
     "text": [
      "Enter right Child of 2\n"
     ]
    },
    {
     "name": "stdin",
     "output_type": "stream",
     "text": [
      " 5\n"
     ]
    },
    {
     "name": "stdout",
     "output_type": "stream",
     "text": [
      "Enter left Child of  3\n"
     ]
    },
    {
     "name": "stdin",
     "output_type": "stream",
     "text": [
      " 6\n"
     ]
    },
    {
     "name": "stdout",
     "output_type": "stream",
     "text": [
      "Enter right Child of 3\n"
     ]
    },
    {
     "name": "stdin",
     "output_type": "stream",
     "text": [
      " 7\n"
     ]
    },
    {
     "name": "stdout",
     "output_type": "stream",
     "text": [
      "Enter left Child of  4\n"
     ]
    },
    {
     "name": "stdin",
     "output_type": "stream",
     "text": [
      " 8\n"
     ]
    },
    {
     "name": "stdout",
     "output_type": "stream",
     "text": [
      "Enter right Child of 4\n"
     ]
    },
    {
     "name": "stdin",
     "output_type": "stream",
     "text": [
      " -1\n"
     ]
    },
    {
     "name": "stdout",
     "output_type": "stream",
     "text": [
      "Enter left Child of  5\n"
     ]
    },
    {
     "name": "stdin",
     "output_type": "stream",
     "text": [
      " -1\n"
     ]
    },
    {
     "name": "stdout",
     "output_type": "stream",
     "text": [
      "Enter right Child of 5\n"
     ]
    },
    {
     "name": "stdin",
     "output_type": "stream",
     "text": [
      " -1\n"
     ]
    },
    {
     "name": "stdout",
     "output_type": "stream",
     "text": [
      "Enter left Child of  6\n"
     ]
    },
    {
     "name": "stdin",
     "output_type": "stream",
     "text": [
      " -1\n"
     ]
    },
    {
     "name": "stdout",
     "output_type": "stream",
     "text": [
      "Enter right Child of 6\n"
     ]
    },
    {
     "name": "stdin",
     "output_type": "stream",
     "text": [
      " -1\n"
     ]
    },
    {
     "name": "stdout",
     "output_type": "stream",
     "text": [
      "Enter left Child of  7\n"
     ]
    },
    {
     "name": "stdin",
     "output_type": "stream",
     "text": [
      " -1\n"
     ]
    },
    {
     "name": "stdout",
     "output_type": "stream",
     "text": [
      "Enter right Child of 7\n"
     ]
    },
    {
     "name": "stdin",
     "output_type": "stream",
     "text": [
      " -1\n"
     ]
    },
    {
     "name": "stdout",
     "output_type": "stream",
     "text": [
      "Enter left Child of  8\n"
     ]
    },
    {
     "name": "stdin",
     "output_type": "stream",
     "text": [
      " 9\n"
     ]
    },
    {
     "name": "stdout",
     "output_type": "stream",
     "text": [
      "Enter right Child of 8\n"
     ]
    },
    {
     "name": "stdin",
     "output_type": "stream",
     "text": [
      " -1\n"
     ]
    },
    {
     "name": "stdout",
     "output_type": "stream",
     "text": [
      "Enter left Child of  9\n"
     ]
    },
    {
     "name": "stdin",
     "output_type": "stream",
     "text": [
      " -1\n"
     ]
    },
    {
     "name": "stdout",
     "output_type": "stream",
     "text": [
      "Enter right Child of 9\n"
     ]
    },
    {
     "name": "stdin",
     "output_type": "stream",
     "text": [
      " -1\n"
     ]
    },
    {
     "name": "stdout",
     "output_type": "stream",
     "text": [
      "1 : L 2,R 3\n",
      "2 : L 4,R 5\n",
      "4 : L 8,\n",
      "8 : L 9,\n",
      "9 : \n",
      "5 : \n",
      "3 : L 6,R 7\n",
      "6 : \n",
      "7 : \n"
     ]
    }
   ],
   "source": [
    "root = take_level_wise_input()\n",
    "printTreeDetailed(root)"
   ]
  },
  {
   "cell_type": "markdown",
   "id": "6db4e35c-f4dc-4a4e-b724-bc44b947d56d",
   "metadata": {},
   "source": [
    "### Print Tree LevelWise"
   ]
  },
  {
   "cell_type": "code",
   "execution_count": 8,
   "id": "afee4d5d-4dd1-4d3d-aad7-73615b60f223",
   "metadata": {},
   "outputs": [],
   "source": [
    "import queue\n",
    "def print_tree_levelwise(root):\n",
    "    q = queue.Queue()\n",
    "    if root != None:\n",
    "        q.put(root)\n",
    "    else:\n",
    "        print(\"no node is there\")\n",
    "        return None\n",
    "    while (not(q.empty())):\n",
    "        curr_data = q.get()\n",
    "        print(curr_data.data,end = \" \")\n",
    "        if curr_data.left != None:\n",
    "            left_node = curr_data.left\n",
    "            q.put(left_node)    \n",
    "        if curr_data.right != None:\n",
    "            right_node = curr_data.right\n",
    "            q.put(right_node)       \n",
    "                \n",
    "                "
   ]
  },
  {
   "cell_type": "code",
   "execution_count": 12,
   "id": "56fd20fb-58c9-428f-b0d2-35742f6ca0e1",
   "metadata": {},
   "outputs": [
    {
     "name": "stdout",
     "output_type": "stream",
     "text": [
      "Enter root\n"
     ]
    },
    {
     "name": "stdin",
     "output_type": "stream",
     "text": [
      " 1\n"
     ]
    },
    {
     "name": "stdout",
     "output_type": "stream",
     "text": [
      "Enter left Child of  1\n"
     ]
    },
    {
     "name": "stdin",
     "output_type": "stream",
     "text": [
      " 2\n"
     ]
    },
    {
     "name": "stdout",
     "output_type": "stream",
     "text": [
      "Enter right Child of 1\n"
     ]
    },
    {
     "name": "stdin",
     "output_type": "stream",
     "text": [
      " 3\n"
     ]
    },
    {
     "name": "stdout",
     "output_type": "stream",
     "text": [
      "Enter left Child of  2\n"
     ]
    },
    {
     "name": "stdin",
     "output_type": "stream",
     "text": [
      " 4\n"
     ]
    },
    {
     "name": "stdout",
     "output_type": "stream",
     "text": [
      "Enter right Child of 2\n"
     ]
    },
    {
     "name": "stdin",
     "output_type": "stream",
     "text": [
      " 5\n"
     ]
    },
    {
     "name": "stdout",
     "output_type": "stream",
     "text": [
      "Enter left Child of  3\n"
     ]
    },
    {
     "name": "stdin",
     "output_type": "stream",
     "text": [
      " 6\n"
     ]
    },
    {
     "name": "stdout",
     "output_type": "stream",
     "text": [
      "Enter right Child of 3\n"
     ]
    },
    {
     "name": "stdin",
     "output_type": "stream",
     "text": [
      " 7\n"
     ]
    },
    {
     "name": "stdout",
     "output_type": "stream",
     "text": [
      "Enter left Child of  4\n"
     ]
    },
    {
     "name": "stdin",
     "output_type": "stream",
     "text": [
      " -1\n"
     ]
    },
    {
     "name": "stdout",
     "output_type": "stream",
     "text": [
      "Enter right Child of 4\n"
     ]
    },
    {
     "name": "stdin",
     "output_type": "stream",
     "text": [
      " -1\n"
     ]
    },
    {
     "name": "stdout",
     "output_type": "stream",
     "text": [
      "Enter left Child of  5\n"
     ]
    },
    {
     "name": "stdin",
     "output_type": "stream",
     "text": [
      " -1\n"
     ]
    },
    {
     "name": "stdout",
     "output_type": "stream",
     "text": [
      "Enter right Child of 5\n"
     ]
    },
    {
     "name": "stdin",
     "output_type": "stream",
     "text": [
      " -1\n"
     ]
    },
    {
     "name": "stdout",
     "output_type": "stream",
     "text": [
      "Enter left Child of  6\n"
     ]
    },
    {
     "name": "stdin",
     "output_type": "stream",
     "text": [
      " -1\n"
     ]
    },
    {
     "name": "stdout",
     "output_type": "stream",
     "text": [
      "Enter right Child of 6\n"
     ]
    },
    {
     "name": "stdin",
     "output_type": "stream",
     "text": [
      " -1\n"
     ]
    },
    {
     "name": "stdout",
     "output_type": "stream",
     "text": [
      "Enter left Child of  7\n"
     ]
    },
    {
     "name": "stdin",
     "output_type": "stream",
     "text": [
      " -1\n"
     ]
    },
    {
     "name": "stdout",
     "output_type": "stream",
     "text": [
      "Enter right Child of 7\n"
     ]
    },
    {
     "name": "stdin",
     "output_type": "stream",
     "text": [
      " -1\n"
     ]
    },
    {
     "name": "stdout",
     "output_type": "stream",
     "text": [
      "1 2 3 4 5 6 7 "
     ]
    }
   ],
   "source": [
    "root = take_level_wise_input()\n",
    "print_tree_levelwise(root)"
   ]
  },
  {
   "cell_type": "markdown",
   "id": "34dcfee4-f5d8-4c97-ae47-524d51119c17",
   "metadata": {},
   "source": [
    "### Print Tree Levelwise Detailed"
   ]
  },
  {
   "cell_type": "code",
   "execution_count": null,
   "id": "f9a8b302-ff1a-4a1b-9cfe-12995bd1403d",
   "metadata": {},
   "outputs": [],
   "source": []
  },
  {
   "cell_type": "markdown",
   "id": "3b91f515-2665-4ed7-ae16-832250549847",
   "metadata": {},
   "source": [
    "### Build A tree from Inorder and preorder given"
   ]
  },
  {
   "cell_type": "markdown",
   "id": "7f7f8d14-a174-4150-9af1-668d0e1aaa60",
   "metadata": {},
   "source": [
    "it is not possible to built unique tree from just inorder and preorder given since there can be many tree possible.\n",
    "So in order to built just a single tree we need both inorder and preorder."
   ]
  },
  {
   "cell_type": "code",
   "execution_count": null,
   "id": "057986dc-c989-4994-a074-867b65a4fb6e",
   "metadata": {},
   "outputs": [],
   "source": [
    "def buildtreefromPreIn(pre,Inorder):\n",
    "    if len(pre) == 0:\n",
    "        return None\n",
    "    rootdata = pre[0]\n",
    "    root = BinaryTreeNode(rootdata)\n",
    "    rootIndexInorder = -1\n",
    "    for i in range (0,len(Inorder)):\n",
    "        if Inorder[i] = rootdata\n",
    "        rootIndexInorder = i\n",
    "        break\n",
    "    if rootIndexInorder == -1:\n",
    "        print(\"Invalid Input\")\n",
    "        return None\n",
    "   leftInorder = [0:rootIndexInorder]\n",
    "   rightInorder = [rootIndexInorder+1 :]\n",
    "   lenleftsubtree = len(leftInorder)\n",
    "   leftpreorder = [1:lenleftsubtree+1]\n",
    "   rightpreorder = [lenleftsubtree + 1 :]\n",
    "   \n",
    "   "
   ]
  }
 ],
 "metadata": {
  "kernelspec": {
   "display_name": "Python 3 (ipykernel)",
   "language": "python",
   "name": "python3"
  },
  "language_info": {
   "codemirror_mode": {
    "name": "ipython",
    "version": 3
   },
   "file_extension": ".py",
   "mimetype": "text/x-python",
   "name": "python",
   "nbconvert_exporter": "python",
   "pygments_lexer": "ipython3",
   "version": "3.11.5"
  }
 },
 "nbformat": 4,
 "nbformat_minor": 5
}
