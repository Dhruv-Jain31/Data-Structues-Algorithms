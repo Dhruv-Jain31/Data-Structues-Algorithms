{
 "cells": [
  {
   "cell_type": "markdown",
   "id": "a0d5a91e-6fc2-4f87-a6e8-1bb2d044df72",
   "metadata": {},
   "source": [
    "### Remove Leaf Nodes"
   ]
  },
  {
   "cell_type": "code",
   "execution_count": null,
   "id": "42636c09-04ab-417f-8545-61178036160a",
   "metadata": {},
   "outputs": [],
   "source": []
  }
 ],
 "metadata": {
  "kernelspec": {
   "display_name": "Python 3 (ipykernel)",
   "language": "python",
   "name": "python3"
  },
  "language_info": {
   "codemirror_mode": {
    "name": "ipython",
    "version": 3
   },
   "file_extension": ".py",
   "mimetype": "text/x-python",
   "name": "python",
   "nbconvert_exporter": "python",
   "pygments_lexer": "ipython3",
   "version": "3.11.5"
  }
 },
 "nbformat": 4,
 "nbformat_minor": 5
}
