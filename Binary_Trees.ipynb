{
 "cells": [
  {
   "cell_type": "markdown",
   "id": "56c8b1e7-c5e3-40ab-962f-3b9a90e226ec",
   "metadata": {},
   "source": [
    "### Create a Binary Tree"
   ]
  },
  {
   "cell_type": "code",
   "execution_count": 6,
   "id": "12c707b2-cafb-47c6-ad85-d5a3b4891983",
   "metadata": {},
   "outputs": [],
   "source": [
    "class Binary_Tree_Node:\n",
    "    def __init__(self,data):\n",
    "        self.data = data\n",
    "        self.right = None\n",
    "        self.left = None\n",
    "\n",
    "btn1 = Binary_Tree_Node(1)\n",
    "btn2 = Binary_Tree_Node(2)\n",
    "btn3 = Binary_Tree_Node(3)\n",
    "\n",
    "btn1.left = btn2\n",
    "btn1.right = btn3"
   ]
  },
  {
   "cell_type": "markdown",
   "id": "b90f725e-6eeb-4bdd-a7be-9a3ffd772ff5",
   "metadata": {},
   "source": [
    "### Printing a Binary Tree"
   ]
  },
  {
   "cell_type": "markdown",
   "id": "fce113a5-8381-40a4-bba9-6b15b1612bfe",
   "metadata": {},
   "source": [
    "Just by using the root node we'll be printing the whole binary tree and we'll be primarily calling \n",
    "recursion for printing. It'll make the things pretty much easy."
   ]
  },
  {
   "cell_type": "code",
   "execution_count": 5,
   "id": "d0046ad1-5f5c-4ebd-b6c6-478d4d5cfd1a",
   "metadata": {},
   "outputs": [
    {
     "name": "stdout",
     "output_type": "stream",
     "text": [
      "1\n",
      "2\n",
      "3\n"
     ]
    }
   ],
   "source": [
    "def printTree(root):\n",
    "    if root == None:\n",
    "        return\n",
    "\n",
    "    print(root.data)\n",
    "    printTree(root.left)\n",
    "    printTree(root.right)\n",
    "\n",
    "printTree(btn1)"
   ]
  },
  {
   "cell_type": "code",
   "execution_count": 6,
   "id": "dd616899-51bf-4925-808e-5c5d53222b0a",
   "metadata": {},
   "outputs": [],
   "source": [
    "btn4 = Binary_Tree_Node(1)\n",
    "btn5 = Binary_Tree_Node(2)\n",
    "btn6 = Binary_Tree_Node(3)\n",
    "btn7 = Binary_Tree_Node(4)\n",
    "btn8 = Binary_Tree_Node(5)\n",
    "\n",
    "btn4.left = btn5\n",
    "btn4.right = btn6\n",
    "btn5.left = btn7\n",
    "btn5.right = btn8"
   ]
  },
  {
   "cell_type": "code",
   "execution_count": 7,
   "id": "7d191a36-f128-4eb1-97ef-d461bc214b1d",
   "metadata": {},
   "outputs": [
    {
     "name": "stdout",
     "output_type": "stream",
     "text": [
      "1 : L 2,R 3\n",
      "2 : L 4,R 5\n",
      "4 : \n",
      "5 : \n",
      "3 : \n"
     ]
    }
   ],
   "source": [
    "def printTreeDetailed(root):\n",
    "    if root == None:\n",
    "        return\n",
    "\n",
    "    print(root.data, end = \" : \")\n",
    "    if root.left != None:\n",
    "        print(\"L\",root.left.data, end = \",\")\n",
    "    if root.right != None:\n",
    "        print(\"R\",root.right.data, end = \"\")\n",
    "    print()\n",
    "\n",
    "    printTreeDetailed(root.left)\n",
    "    printTreeDetailed(root.right)\n",
    "\n",
    "printTreeDetailed(btn4)\n"
   ]
  },
  {
   "cell_type": "markdown",
   "id": "dffc0226-d13a-43dc-8d44-d083e4a584c4",
   "metadata": {},
   "source": [
    "### Input a Binary Tree"
   ]
  },
  {
   "cell_type": "code",
   "execution_count": 8,
   "id": "5c1b6eb5-f9f2-4c07-bf3e-0ceedd7aca27",
   "metadata": {},
   "outputs": [
    {
     "name": "stdin",
     "output_type": "stream",
     "text": [
      " 1\n",
      " 2\n",
      " 4\n",
      " -1\n",
      " -1\n",
      " 3\n",
      " 5\n",
      " -1\n",
      " -1\n",
      " -1\n",
      " 6\n",
      " 7\n",
      " -1\n",
      " -1\n",
      " 8\n",
      " -1\n",
      " -1\n"
     ]
    },
    {
     "name": "stdout",
     "output_type": "stream",
     "text": [
      "1 : L 2,R 6\n",
      "2 : L 4,R 3\n",
      "4 : \n",
      "3 : L 5,\n",
      "5 : \n",
      "6 : L 7,R 8\n",
      "7 : \n",
      "8 : \n"
     ]
    }
   ],
   "source": [
    "def TreeInput():\n",
    "    rootData = int(input())\n",
    "    if rootData == -1:\n",
    "        return None\n",
    "    root = Binary_Tree_Node(rootData)\n",
    "    left_tree = TreeInput()\n",
    "    right_tree = TreeInput()\n",
    "    root.left = left_tree\n",
    "    root.right = right_tree\n",
    "    return root\n",
    "\n",
    "root = TreeInput()\n",
    "printTreeDetailed(root)"
   ]
  },
  {
   "cell_type": "markdown",
   "id": "cbf6c62b-ac85-483d-90ee-45251a68cf50",
   "metadata": {},
   "source": [
    "### No. of nodes in a Binary tree"
   ]
  },
  {
   "cell_type": "code",
   "execution_count": 1,
   "id": "ce54c303-ddfe-43c9-bc6a-9528d4fd95ac",
   "metadata": {},
   "outputs": [],
   "source": [
    "def num_nodes(root):\n",
    "    if root == None:\n",
    "        return 0\n",
    "    left_count = num_nodes(root.left)\n",
    "    right_count = num_nodes(root.right)\n",
    "    return 1 + left_count + right_count"
   ]
  },
  {
   "cell_type": "code",
   "execution_count": 9,
   "id": "3b9bf28d-8d20-4565-ac8d-a7f8292478db",
   "metadata": {},
   "outputs": [
    {
     "name": "stdin",
     "output_type": "stream",
     "text": [
      " 5\n",
      " 6\n",
      " 7\n",
      " -1\n",
      " -1\n",
      " 8\n",
      " -1\n",
      " -1\n",
      " 9\n",
      " 10\n",
      " 12\n",
      " -1\n",
      " -1\n",
      " 13\n",
      " -1\n",
      " -1\n",
      " 11\n",
      " -1\n",
      " -1\n"
     ]
    },
    {
     "name": "stdout",
     "output_type": "stream",
     "text": [
      "5 : L 6,R 9\n",
      "6 : L 7,R 8\n",
      "7 : \n",
      "8 : \n",
      "9 : L 10,R 11\n",
      "10 : L 12,R 13\n",
      "12 : \n",
      "13 : \n",
      "11 : \n",
      "9\n"
     ]
    }
   ],
   "source": [
    "root = TreeInput()\n",
    "printTreeDetailed(root)\n",
    "print(num_nodes(root))"
   ]
  },
  {
   "cell_type": "markdown",
   "id": "cee1f1f3-09b7-4332-905d-5a3a7cd5a909",
   "metadata": {},
   "source": [
    "### Sum of nodes"
   ]
  },
  {
   "cell_type": "code",
   "execution_count": 11,
   "id": "ecb63d12-8f58-49c4-9db0-62686867c5e7",
   "metadata": {},
   "outputs": [],
   "source": [
    "def getSum(root):\n",
    "    if root == None:\n",
    "        return 0\n",
    "    left_sum = getSum(root.left)\n",
    "    right_sum = getSum(root.right)\n",
    "    return root.data + left_sum + right_sum"
   ]
  },
  {
   "cell_type": "code",
   "execution_count": 12,
   "id": "da56fd8e-f1e6-4f9e-8ff0-7dcecacd0897",
   "metadata": {},
   "outputs": [
    {
     "name": "stdin",
     "output_type": "stream",
     "text": [
      " 10\n",
      " 11\n",
      " 12\n",
      " 13\n",
      " -1\n",
      " -1\n",
      " -1\n",
      " 14\n",
      " -1\n",
      " -1\n",
      " 15\n",
      " 16\n",
      " 17\n",
      " -1\n",
      " -1\n",
      " 18\n",
      " 19\n",
      " -1\n",
      " -1\n",
      " 20\n",
      " -1\n",
      " -1\n",
      " -1\n"
     ]
    },
    {
     "name": "stdout",
     "output_type": "stream",
     "text": [
      "10 : L 11,R 15\n",
      "11 : L 12,R 14\n",
      "12 : L 13,\n",
      "13 : \n",
      "14 : \n",
      "15 : L 16,\n",
      "16 : L 17,R 18\n",
      "17 : \n",
      "18 : L 19,R 20\n",
      "19 : \n",
      "20 : \n",
      "11\n",
      "165\n"
     ]
    }
   ],
   "source": [
    "root = TreeInput()\n",
    "printTreeDetailed(root)\n",
    "print(num_nodes(root))\n",
    "print(getSum(root))"
   ]
  },
  {
   "cell_type": "markdown",
   "id": "b319bed6-85e7-4a97-9f2d-cef9903cc380",
   "metadata": {},
   "source": [
    "### Preorder Traversal in  Binary Tree"
   ]
  },
  {
   "cell_type": "code",
   "execution_count": 16,
   "id": "70174c9c-19d7-441f-8135-e8b6508232fe",
   "metadata": {},
   "outputs": [],
   "source": [
    "def preOrder(root):\n",
    "    if root == None:\n",
    "        return\n",
    "    print(root.data, end = \" \")\n",
    "    preOrder(root.left)\n",
    "    preOrder(root.right)"
   ]
  },
  {
   "cell_type": "code",
   "execution_count": 14,
   "id": "162c3f35-3a14-491b-8c45-8d26b386f443",
   "metadata": {},
   "outputs": [
    {
     "name": "stdin",
     "output_type": "stream",
     "text": [
      " 1\n",
      " 2\n",
      " 4\n",
      " -1\n",
      " -1\n",
      " 5\n",
      " -1\n",
      " -1\n",
      " 3\n",
      " -1\n",
      " -1\n"
     ]
    },
    {
     "name": "stdout",
     "output_type": "stream",
     "text": [
      "1 2 4 5 3 None\n"
     ]
    }
   ],
   "source": [
    "root = TreeInput()\n",
    "print(preOrder(root))"
   ]
  },
  {
   "cell_type": "markdown",
   "id": "479015a7-6d63-467f-b478-7200b80890f1",
   "metadata": {},
   "source": [
    "### Postorder Traversal in Binary tree"
   ]
  },
  {
   "cell_type": "code",
   "execution_count": 17,
   "id": "5cdd9b3f-73b2-4e2d-9940-5055e74d5385",
   "metadata": {},
   "outputs": [],
   "source": [
    "def postOrder(root):\n",
    "    if root == None:\n",
    "        return\n",
    "    postOrder(root.left)\n",
    "    postOrder(root.right)  \n",
    "    print(root.data, end = \" \") "
   ]
  },
  {
   "cell_type": "code",
   "execution_count": 18,
   "id": "ea2f5d05-d11a-477f-b5e0-f5a7ba62a3c9",
   "metadata": {},
   "outputs": [
    {
     "name": "stdin",
     "output_type": "stream",
     "text": [
      " 1\n",
      " 2\n",
      " 4\n",
      " -1\n",
      " -1\n",
      " 5\n",
      " -1\n",
      " -1\n",
      " 3\n",
      " -1\n",
      " -1\n"
     ]
    },
    {
     "name": "stdout",
     "output_type": "stream",
     "text": [
      "4 5 2 3 1 None\n"
     ]
    }
   ],
   "source": [
    "root = TreeInput()\n",
    "print(postOrder(root))"
   ]
  },
  {
   "cell_type": "markdown",
   "id": "a9dfc69f-b907-4a0a-a03a-235d426e68bd",
   "metadata": {},
   "source": [
    "### Node with largest data"
   ]
  },
  {
   "cell_type": "code",
   "execution_count": 19,
   "id": "7ee60d91-9535-40a8-bc7d-535ca959405a",
   "metadata": {},
   "outputs": [],
   "source": [
    "def largestData(root):\n",
    "    if root == None:\n",
    "        return -1\n",
    "\n",
    "    leftlargest = largestData(root.left)\n",
    "    rightlargest = largestData(root.right)\n",
    "    largest = max(leftlargest,rightlargest,root.data)\n",
    "    return largest"
   ]
  },
  {
   "cell_type": "code",
   "execution_count": 20,
   "id": "2258d54a-ff68-4a91-ac72-8d8c4d35bfb5",
   "metadata": {},
   "outputs": [
    {
     "name": "stdin",
     "output_type": "stream",
     "text": [
      " 10\n",
      " 20\n",
      " 9\n",
      " -1\n",
      " -1\n",
      " 3\n",
      " -1\n",
      " -1\n",
      " 5\n",
      " -1\n",
      " -1\n"
     ]
    },
    {
     "name": "stdout",
     "output_type": "stream",
     "text": [
      "10 : L 20,R 5\n",
      "20 : L 9,R 3\n",
      "9 : \n",
      "3 : \n",
      "5 : \n"
     ]
    },
    {
     "data": {
      "text/plain": [
       "20"
      ]
     },
     "execution_count": 20,
     "metadata": {},
     "output_type": "execute_result"
    }
   ],
   "source": [
    "root =  TreeInput()\n",
    "printTreeDetailed(root)\n",
    "largestData(root)"
   ]
  },
  {
   "cell_type": "markdown",
   "id": "9cbf2111-216c-4ca0-9d30-eae6a60ed6d0",
   "metadata": {},
   "source": [
    "### Nodes greater than X"
   ]
  },
  {
   "cell_type": "code",
   "execution_count": 21,
   "id": "2b139073-f875-4f0f-8f20-b9b2a3cec3f2",
   "metadata": {},
   "outputs": [],
   "source": [
    "def countNodesGreaterThanX(root, x) :\n",
    "    if root == None:\n",
    "        return 0\n",
    "    lefttree = countNodesGreaterThanX(root.left,x)\n",
    "    righttree = countNodesGreaterThanX(root.right,x)\n",
    "    if root.data > x:\n",
    "        return 1+ lefttree + righttree\n",
    "    else:\n",
    "        return lefttree + righttree "
   ]
  },
  {
   "cell_type": "code",
   "execution_count": 22,
   "id": "22d82089-bee1-4d62-9268-39d872792ae9",
   "metadata": {},
   "outputs": [
    {
     "name": "stdin",
     "output_type": "stream",
     "text": [
      " 6\n",
      " 1\n",
      " 3\n",
      " 7\n",
      " 8\n",
      " 10\n",
      " -1\n",
      " -1\n",
      " -1\n",
      " -1\n",
      " 4\n",
      " -1\n",
      " -1\n",
      " 5\n",
      " 11\n",
      " 2\n",
      " 1\n",
      " -1\n",
      " -1\n",
      " -1\n",
      " 12\n",
      " -1\n",
      " -1\n",
      " -1\n"
     ]
    },
    {
     "name": "stdout",
     "output_type": "stream",
     "text": [
      "1 : L 3,R 5\n",
      "3 : L 7,R 4\n",
      "7 : L 8,\n",
      "8 : L 10,\n",
      "10 : \n",
      "4 : \n",
      "5 : L 11,\n",
      "11 : L 2,R 12\n",
      "2 : L 1,\n",
      "1 : \n",
      "12 : \n"
     ]
    },
    {
     "data": {
      "text/plain": [
       "5"
      ]
     },
     "execution_count": 22,
     "metadata": {},
     "output_type": "execute_result"
    }
   ],
   "source": [
    "x = int(input())\n",
    "root =  TreeInput()\n",
    "printTreeDetailed(root)\n",
    "largestData(root)\n",
    "countNodesGreaterThanX(root,x)"
   ]
  },
  {
   "cell_type": "markdown",
   "id": "674d569e-5cce-4cfe-a82a-e7540b5bd6dd",
   "metadata": {},
   "source": [
    "### Height of the tree"
   ]
  },
  {
   "cell_type": "code",
   "execution_count": null,
   "id": "dc71d7a4-682c-4ed6-a4f7-0d4933178575",
   "metadata": {},
   "outputs": [],
   "source": []
  },
  {
   "cell_type": "markdown",
   "id": "07d1ce62-2e54-4162-9586-0bc9b4c0746b",
   "metadata": {},
   "source": [
    "### No. of leaf nodes"
   ]
  },
  {
   "cell_type": "code",
   "execution_count": 3,
   "id": "1dfd50ba-d0e6-463f-827e-8e3d489c733c",
   "metadata": {},
   "outputs": [],
   "source": [
    "def numleafnodes(root):\n",
    "    if root == None : # this case is very important if there is a skew tree then none node to not enter \n",
    "                        # in this function this becomes extremely important\n",
    "        return 0\n",
    "    if root.left == None and root.right == None:\n",
    "        return 1\n",
    "    numleafleft = numleafnodes(root.left)\n",
    "    numleafright = numleafnodes(root.right)\n",
    "    return numleafleft + numleafright\n",
    "\n",
    "# for priting tree\n",
    "def printTreeDetailed(root):\n",
    "    if root == None:\n",
    "        return\n",
    "\n",
    "    print(root.data, end = \" : \")\n",
    "    if root.left != None:\n",
    "        print(\"L\",root.left.data, end = \",\")\n",
    "    if root.right != None:\n",
    "        print(\"R\",root.right.data, end = \"\")\n",
    "    print()\n",
    "\n",
    "    printTreeDetailed(root.left)\n",
    "    printTreeDetailed(root.right)\n",
    "\n",
    "\n",
    "# for taking input\n",
    "def TreeInput():\n",
    "    rootData = int(input())\n",
    "    if rootData == -1:\n",
    "        return None\n",
    "    root = Binary_Tree_Node(rootData)\n",
    "    left_tree = TreeInput()\n",
    "    right_tree = TreeInput()\n",
    "    root.left = left_tree\n",
    "    root.right = right_tree\n",
    "    return root"
   ]
  },
  {
   "cell_type": "code",
   "execution_count": 8,
   "id": "b1eca034-276e-4a6a-8f83-c36fd79e479c",
   "metadata": {},
   "outputs": [
    {
     "name": "stdin",
     "output_type": "stream",
     "text": [
      " 1\n",
      " 2\n",
      " 3\n",
      " -1\n",
      " -1\n",
      " -1\n",
      " -1\n"
     ]
    },
    {
     "name": "stdout",
     "output_type": "stream",
     "text": [
      "1 : L 2,\n",
      "2 : L 3,\n",
      "3 : \n"
     ]
    },
    {
     "data": {
      "text/plain": [
       "1"
      ]
     },
     "execution_count": 8,
     "metadata": {},
     "output_type": "execute_result"
    }
   ],
   "source": [
    "root = TreeInput()\n",
    "printTreeDetailed(root)\n",
    "numleafnodes(root)"
   ]
  },
  {
   "cell_type": "markdown",
   "id": "aaaf070d-4ed4-41f9-b7bf-637e76f069e8",
   "metadata": {},
   "source": [
    "### No. of nodes at depth K"
   ]
  },
  {
   "cell_type": "code",
   "execution_count": 18,
   "id": "57aab715-110a-4863-a2b2-6e1d42211502",
   "metadata": {},
   "outputs": [],
   "source": [
    "def print_at_depth_K(root, d):\n",
    "    if root == None:\n",
    "        return\n",
    "\n",
    "    if d == 0:\n",
    "        print(root.data,end = \" \")\n",
    "        return\n",
    "\n",
    "    print_at_depth_K(root.left, d-1)\n",
    "    print_at_depth_K(root.right, d-1)\n",
    "\n"
   ]
  },
  {
   "cell_type": "code",
   "execution_count": 19,
   "id": "49b873b1-846c-4c35-ad0d-dbacc3221876",
   "metadata": {},
   "outputs": [
    {
     "name": "stdin",
     "output_type": "stream",
     "text": [
      " 1\n",
      " 2\n",
      " 4\n",
      " 6\n",
      " -1\n",
      " -1\n",
      " 7\n",
      " -1\n",
      " -1\n",
      " 8\n",
      " -1\n",
      " -1\n",
      " 10\n",
      " 11\n",
      " -1\n",
      " -1\n",
      " -1\n"
     ]
    },
    {
     "name": "stdout",
     "output_type": "stream",
     "text": [
      "1 : L 2,R 10\n",
      "2 : L 4,R 8\n",
      "4 : L 6,R 7\n",
      "6 : \n",
      "7 : \n",
      "8 : \n",
      "10 : L 11,\n",
      "11 : \n",
      "6 7 "
     ]
    }
   ],
   "source": [
    "root = TreeInput()\n",
    "printTreeDetailed(root)\n",
    "print_at_depth_K(root,3)\n"
   ]
  },
  {
   "cell_type": "code",
   "execution_count": 20,
   "id": "9b5f34c1-c388-47c6-8c1c-d1c8b88c3534",
   "metadata": {},
   "outputs": [],
   "source": [
    "def print_at_depth_k_V2(root,K,d=0):\n",
    "    if root == None:\n",
    "        return\n",
    "    if K == d:\n",
    "        print(root.data)\n",
    "    print_at_depth_k_V2(root,K,d+1)\n",
    "    print_at_depth_k_V2(root,K,d+1)"
   ]
  },
  {
   "cell_type": "code",
   "execution_count": 21,
   "id": "66053d70-35d0-49ae-9e4e-f9c8523b847f",
   "metadata": {},
   "outputs": [
    {
     "name": "stdin",
     "output_type": "stream",
     "text": [
      " 1\n",
      " 2\n",
      " 4\n",
      " 6\n",
      " -1\n",
      " -1\n",
      " 7\n",
      " -1\n",
      " -1\n",
      " 8\n",
      " -1\n",
      " -1\n",
      " 10\n",
      " -1\n",
      " -1\n"
     ]
    },
    {
     "name": "stdout",
     "output_type": "stream",
     "text": [
      "1 : L 2,R 10\n",
      "2 : L 4,R 8\n",
      "4 : L 6,R 7\n",
      "6 : \n",
      "7 : \n",
      "8 : \n",
      "10 : \n",
      "6 7 "
     ]
    }
   ],
   "source": [
    "root = TreeInput()\n",
    "printTreeDetailed(root)\n",
    "print_at_depth_K(root,3)"
   ]
  },
  {
   "cell_type": "markdown",
   "id": "82a4fddf-2d6b-4d9c-9d8d-083ac37dcc54",
   "metadata": {},
   "source": [
    "### Replace Node with Depth"
   ]
  },
  {
   "cell_type": "markdown",
   "id": "e1c7c6b6-f38f-4f43-b4a8-614b2484379d",
   "metadata": {},
   "source": [
    "Given a binary tree, replace each node with its depth value. For example, consider the following tree. Root is at depth 0, change its value to 0 and next level nodes are at depth 1 and so on. "
   ]
  },
  {
   "cell_type": "code",
   "execution_count": null,
   "id": "359e8139-e4d5-441a-b0ec-e0bc85a25f92",
   "metadata": {},
   "outputs": [],
   "source": [
    "        3                       0\n",
    "      /  \\                    /   \\\n",
    "     2    5      == >;       1     1\n",
    "   /   \\                   /   \\\n",
    "  1     4                 2     2"
   ]
  },
  {
   "cell_type": "code",
   "execution_count": 23,
   "id": "5ebfa642-716a-4dc3-9f54-9632ef240d70",
   "metadata": {},
   "outputs": [],
   "source": [
    "def changeToDepthTree(root,level =0) :\n",
    "    if root == None:\n",
    "        return \n",
    "    root.data = level\n",
    "    lefttree = changeToDepthTree(root.left,level + 1) \n",
    "    righttree = changeToDepthTree(root.right,level + 1)\n",
    "    return "
   ]
  },
  {
   "cell_type": "code",
   "execution_count": 26,
   "id": "68af8343-da07-4733-8500-5917018eca9c",
   "metadata": {},
   "outputs": [
    {
     "name": "stdin",
     "output_type": "stream",
     "text": [
      " 1\n",
      " 2\n",
      " 4\n",
      " 6\n",
      " -1\n",
      " -1\n",
      " 7\n",
      " -1\n",
      " -1\n",
      " 8\n",
      " -1\n",
      " -1\n",
      " 10\n",
      " -1\n",
      " -1\n"
     ]
    },
    {
     "name": "stdout",
     "output_type": "stream",
     "text": [
      "1 : L 2,R 10\n",
      "2 : L 4,R 8\n",
      "4 : L 6,R 7\n",
      "6 : \n",
      "7 : \n",
      "8 : \n",
      "10 : \n",
      "\n",
      "0 : L 1,R 1\n",
      "1 : L 2,R 2\n",
      "2 : L 3,R 3\n",
      "3 : \n",
      "3 : \n",
      "2 : \n",
      "1 : \n"
     ]
    }
   ],
   "source": [
    "root = TreeInput()\n",
    "printTreeDetailed(root)\n",
    "changeToDepthTree(root)\n",
    "print()\n",
    "printTreeDetailed(root)\n"
   ]
  },
  {
   "cell_type": "code",
   "execution_count": null,
   "id": "3236b532-28f6-4242-a88c-93d4ff0bbb81",
   "metadata": {},
   "outputs": [],
   "source": []
  }
 ],
 "metadata": {
  "kernelspec": {
   "display_name": "Python 3 (ipykernel)",
   "language": "python",
   "name": "python3"
  },
  "language_info": {
   "codemirror_mode": {
    "name": "ipython",
    "version": 3
   },
   "file_extension": ".py",
   "mimetype": "text/x-python",
   "name": "python",
   "nbconvert_exporter": "python",
   "pygments_lexer": "ipython3",
   "version": "3.11.5"
  }
 },
 "nbformat": 4,
 "nbformat_minor": 5
}
