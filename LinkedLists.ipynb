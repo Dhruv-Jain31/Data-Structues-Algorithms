{
 "cells": [
  {
   "cell_type": "code",
   "execution_count": 2,
   "id": "e2f95b50",
   "metadata": {},
   "outputs": [
    {
     "name": "stdout",
     "output_type": "stream",
     "text": [
      "13\n",
      "21\n",
      "21\n",
      "<__main__.Node object at 0x0000014F0EE2E5B0>\n",
      "<__main__.Node object at 0x0000014F0F2A8D90>\n",
      "<__main__.Node object at 0x0000014F0F2A8D90>\n",
      "None\n"
     ]
    },
    {
     "ename": "AttributeError",
     "evalue": "'NoneType' object has no attribute 'data'",
     "output_type": "error",
     "traceback": [
      "\u001b[1;31m---------------------------------------------------------------------------\u001b[0m",
      "\u001b[1;31mAttributeError\u001b[0m                            Traceback (most recent call last)",
      "\u001b[1;32m~\\AppData\\Local\\Temp\\ipykernel_12316\\3606915568.py\u001b[0m in \u001b[0;36m<module>\u001b[1;34m\u001b[0m\n\u001b[0;32m     13\u001b[0m \u001b[0mprint\u001b[0m\u001b[1;33m(\u001b[0m\u001b[0ma\u001b[0m\u001b[1;33m.\u001b[0m\u001b[0mnext\u001b[0m\u001b[1;33m)\u001b[0m\u001b[1;33m\u001b[0m\u001b[1;33m\u001b[0m\u001b[0m\n\u001b[0;32m     14\u001b[0m \u001b[0mprint\u001b[0m\u001b[1;33m(\u001b[0m\u001b[0mb\u001b[0m\u001b[1;33m.\u001b[0m\u001b[0mnext\u001b[0m\u001b[1;33m)\u001b[0m\u001b[1;33m\u001b[0m\u001b[1;33m\u001b[0m\u001b[0m\n\u001b[1;32m---> 15\u001b[1;33m \u001b[0mprint\u001b[0m\u001b[1;33m(\u001b[0m\u001b[0mb\u001b[0m\u001b[1;33m.\u001b[0m\u001b[0mnext\u001b[0m\u001b[1;33m.\u001b[0m\u001b[0mdata\u001b[0m\u001b[1;33m)\u001b[0m\u001b[1;33m\u001b[0m\u001b[1;33m\u001b[0m\u001b[0m\n\u001b[0m",
      "\u001b[1;31mAttributeError\u001b[0m: 'NoneType' object has no attribute 'data'"
     ]
    }
   ],
   "source": [
    "class Node:\n",
    "    def __init__(self,data):\n",
    "        self.data = data\n",
    "        self.next = None\n",
    "a = Node(13)\n",
    "b = Node(21)\n",
    "a.next = b\n",
    "print(a.data)\n",
    "print(b.data)\n",
    "print(a.next.data)\n",
    "print(a)\n",
    "print(b)\n",
    "print(a.next) # since b.next has none so no address is printed and there is an error in b.next.data\n",
    "print(b.next)\n",
    "print(b.next.data)\n"
   ]
  },
  {
   "cell_type": "markdown",
   "id": "c909b5bc-e0f3-45ef-ace6-b4e663c68afe",
   "metadata": {},
   "source": [
    "### Taking input and printing a LL"
   ]
  },
  {
   "cell_type": "code",
   "execution_count": 14,
   "id": "67c44108-3501-458d-8642-04bf8cea77d0",
   "metadata": {},
   "outputs": [],
   "source": [
    "class Node:\n",
    "    def __init__(self,data):\n",
    "        self.data = data\n",
    "        self.next = None\n",
    "\n",
    "def takeinput():\n",
    "    inputlist = [int(ele) for ele in input().split()]\n",
    "    head = None\n",
    "    for currdata in inputlist:\n",
    "        if currdata == -1:\n",
    "            break\n",
    "        newnode = Node(currdata)\n",
    "        if head is None:\n",
    "            head = newnode\n",
    "        else:\n",
    "            curr = head\n",
    "            while curr.next is not None:\n",
    "                curr = curr.next\n",
    "            curr.next = newnode\n",
    "    return head\n",
    "\n",
    "\n",
    "def printll(head):\n",
    "    while head is not None:\n",
    "         print(str(head.data) + \"->\",end = \"\")\n",
    "         head = head.next\n",
    "    print(\"None\")\n",
    "    return      \n",
    "    \n",
    "    \n",
    "\n",
    "\n"
   ]
  },
  {
   "cell_type": "code",
   "execution_count": 16,
   "id": "b1d9b96e-c7d9-4af5-a536-93a55043b95b",
   "metadata": {},
   "outputs": [
    {
     "name": "stdin",
     "output_type": "stream",
     "text": [
      " 45 56 78 90 100 1001 -1\n"
     ]
    },
    {
     "name": "stdout",
     "output_type": "stream",
     "text": [
      "45->56->78->90->100->1001->None\n"
     ]
    }
   ],
   "source": [
    "head = takeinput()\n",
    "printll(head)"
   ]
  },
  {
   "cell_type": "code",
   "execution_count": 20,
   "id": "08b3b834-633a-40bc-8e8b-6a82942bde1f",
   "metadata": {},
   "outputs": [],
   "source": [
    "class Node:\n",
    "    def __init__(self,data):\n",
    "        self.data = data\n",
    "        self.next = None\n",
    "\n",
    "def takeinput():\n",
    "    inputlist = [int(ele) for ele in input().split()]\n",
    "    head = None\n",
    "    for currdata in inputlist:\n",
    "        if currdata == -1:\n",
    "            break\n",
    "        newnode = Node(currdata)\n",
    "        if head is None:\n",
    "            head = newnode\n",
    "            tail = newnode # this tail is introduced here just to optimise the solution in terms of time complexity as it saves the \n",
    "                           # whole iteration of curr from head and t.c = O(n)\n",
    "        else:\n",
    "            tail.next = newnode\n",
    "            tail = newnode\n",
    "\n",
    "\n",
    "        \n",
    "    return head\n",
    "\n",
    "\n",
    "def printll(head):\n",
    "    while head is not None:\n",
    "         print(str(head.data) + \"->\",end = \"\")\n",
    "         head = head.next\n",
    "    print(\"None\")\n",
    "    return      "
   ]
  },
  {
   "cell_type": "code",
   "execution_count": 21,
   "id": "7d98de76-1cb1-4371-9994-c4d1796b3e13",
   "metadata": {},
   "outputs": [
    {
     "name": "stdin",
     "output_type": "stream",
     "text": [
      " 2 3 5 6 7\n"
     ]
    },
    {
     "name": "stdout",
     "output_type": "stream",
     "text": [
      "2->3->5->6->7->None\n"
     ]
    }
   ],
   "source": [
    "head = takeinput()\n",
    "printll(head)"
   ]
  },
  {
   "cell_type": "code",
   "execution_count": 2,
   "id": "a77cb0ea-2371-40cd-89dc-cec35e84b63f",
   "metadata": {},
   "outputs": [
    {
     "name": "stdin",
     "output_type": "stream",
     "text": [
      " 1 2 3 4 5 6 7\n"
     ]
    },
    {
     "name": "stdout",
     "output_type": "stream",
     "text": [
      "1->2->3->4->5->6->7->None\n",
      "7\n",
      "1->2->3->5->4->5->6->7->None\n",
      "8\n",
      "1->9->2->3->5->4->5->6->7->None\n",
      "9\n",
      "1->9->34->2->3->5->4->5->6->7->None\n",
      "10\n"
     ]
    }
   ],
   "source": [
    "from sys import stdin\n",
    "class Node:\n",
    "    def __init__(self, data):\n",
    "        self.data = data\n",
    "        self.next = None\n",
    "\n",
    "# Taking Input Using Fast I/O\n",
    "def takeinput():\n",
    "    inputlist = [int(ele) for ele in input().split()]\n",
    "    head = None\n",
    "    for currdata in inputlist:\n",
    "        if currdata == -1:\n",
    "            break\n",
    "        newnode = Node(currdata)\n",
    "        if head is None:\n",
    "            head = newnode\n",
    "            tail = newnode # this tail is introduced here just to optimise the solution in terms of time complexity as it saves the \n",
    "                           # whole iteration of curr from head and t.c = O(n)\n",
    "        else:\n",
    "            tail.next = newnode\n",
    "            tail = newnode\n",
    "\n",
    "\n",
    "        \n",
    "    return head\n",
    "\n",
    "# length of ll funtion\n",
    "def length(head) :\n",
    "    #Your code goes here\n",
    "    le = 0\n",
    "    while head is not None:\n",
    "        le += 1\n",
    "        head = head.next\n",
    "    return le\n",
    "\n",
    "\n",
    "# insertion at ith pos function.\n",
    "def insert_at_i(head,i,data):\n",
    "    if i<0 or i>length(head):\n",
    "        return head\n",
    "    else:\n",
    "        curr = head\n",
    "        prev = None\n",
    "        count = 0\n",
    "        while count<i:\n",
    "            prev = curr\n",
    "            curr = curr.next\n",
    "            count = count+1\n",
    "        newnode = Node(data)\n",
    "        if prev is not None:\n",
    "            prev.next = newnode\n",
    "        else:\n",
    "            head = newnode\n",
    "        newnode.next = curr    \n",
    "\n",
    "        return head\n",
    "\n",
    "           \n",
    "           \n",
    "# print ll function\n",
    "def printll(head):\n",
    "    while head is not None:\n",
    "         print(str(head.data) + \"->\",end = \"\")\n",
    "         head = head.next\n",
    "    print(\"None\")\n",
    "    return  \n",
    "\n",
    "\n",
    "\n",
    "# print ith node ll function\n",
    "def printIthNode(head, i):\n",
    "    #Your code goes here\n",
    "    count = 0\n",
    "    while head is not None and count < i: # count variable is used to stop the loop when the input arrives.\n",
    "        head = head.next\n",
    "        count = count + 1\n",
    "    if head is None:\n",
    "        print(\"\")\n",
    "    else:\n",
    "\n",
    "\n",
    "        print (head.data)\n",
    "\n",
    "\n",
    "\n",
    "\n",
    "\n",
    "\n",
    "head = takeinput()\n",
    "printll(head)\n",
    "print(length(head))\n",
    "insert_at_i(head,3,5)\n",
    "printll(head)\n",
    "print(length(head))\n",
    "insert_at_i(head,1,9)\n",
    "printll(head)\n",
    "print(length(head))\n",
    "insert_at_i(head,2,34)\n",
    "printll(head)\n",
    "print(length(head))"
   ]
  },
  {
   "cell_type": "code",
   "execution_count": 4,
   "id": "2eabadcb-d043-42d7-9a89-021c29402099",
   "metadata": {},
   "outputs": [
    {
     "name": "stdout",
     "output_type": "stream",
     "text": [
      "1->2->3->5->4->5->6->7->8->9->34->10->11->None\n"
     ]
    }
   ],
   "source": [
    "insert_at_i(head,0,9)\n",
    "printll(head)"
   ]
  },
  {
   "cell_type": "code",
   "execution_count": 6,
   "id": "ea4c7e37-20b5-402d-b8ad-b201e08478d7",
   "metadata": {},
   "outputs": [
    {
     "name": "stdin",
     "output_type": "stream",
     "text": [
      " 1 2 3 4 5\n"
     ]
    },
    {
     "name": "stdout",
     "output_type": "stream",
     "text": [
      "1->2->3->4->5->None\n",
      "1->2->3->4->5->6->None\n"
     ]
    }
   ],
   "source": [
    "# insert at i recursively\n",
    "def insert_at_i_r(head,i,data):\n",
    "    if i<0:\n",
    "        return head\n",
    "    \n",
    "    \n",
    "    if i==0:\n",
    "        newnode = Node(data)\n",
    "        newnode.next = head\n",
    "        return newnode\n",
    "    \n",
    "    \n",
    "    if head is None: # it is written after i==0 because if insertion is to be performed at the end then we can do it easily. since\n",
    "        # at the end head will become none and this condition is returned first none will be returned.\n",
    "        \n",
    "        return None\n",
    "\n",
    "    smallhead = insert_at_i_r(head.next,i-1,data)\n",
    "    head.next = smallhead\n",
    "    return head\n",
    "\n",
    "def takeinput():\n",
    "    inputlist = [int(ele) for ele in input().split()]\n",
    "    head = None\n",
    "    for currdata in inputlist:\n",
    "        if currdata == -1:\n",
    "            break\n",
    "        newnode = Node(currdata)\n",
    "        if head is None:\n",
    "            head = newnode\n",
    "            tail = newnode # this tail is introduced here just to optimise the solution in terms of time complexity as it saves the \n",
    "                           # whole iteration of curr from head and t.c = O(n)\n",
    "        else:\n",
    "            tail.next = newnode\n",
    "            tail = newnode\n",
    "\n",
    "\n",
    "        \n",
    "    return head\n",
    "\n",
    "def printll(head):\n",
    "    while head is not None:\n",
    "         print(str(head.data) + \"->\",end = \"\")\n",
    "         head = head.next\n",
    "    print(\"None\")\n",
    "    return \n",
    "\n",
    "head = takeinput()\n",
    "printll(head)\n",
    "insert_at_i_r(head,5,6)\n",
    "printll(head)"
   ]
  },
  {
   "cell_type": "raw",
   "id": "5c835c2c-050a-4e85-b89d-5d6ccd2a6773",
   "metadata": {},
   "source": []
  }
 ],
 "metadata": {
  "kernelspec": {
   "display_name": "Python 3 (ipykernel)",
   "language": "python",
   "name": "python3"
  },
  "language_info": {
   "codemirror_mode": {
    "name": "ipython",
    "version": 3
   },
   "file_extension": ".py",
   "mimetype": "text/x-python",
   "name": "python",
   "nbconvert_exporter": "python",
   "pygments_lexer": "ipython3",
   "version": "3.11.5"
  }
 },
 "nbformat": 4,
 "nbformat_minor": 5
}
