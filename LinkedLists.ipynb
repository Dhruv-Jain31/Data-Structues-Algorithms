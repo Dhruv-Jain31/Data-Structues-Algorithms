{
 "cells": [
  {
   "cell_type": "code",
   "execution_count": 2,
   "id": "e2f95b50",
   "metadata": {},
   "outputs": [
    {
     "name": "stdout",
     "output_type": "stream",
     "text": [
      "13\n",
      "21\n",
      "21\n",
      "<__main__.Node object at 0x0000014F0EE2E5B0>\n",
      "<__main__.Node object at 0x0000014F0F2A8D90>\n",
      "<__main__.Node object at 0x0000014F0F2A8D90>\n",
      "None\n"
     ]
    },
    {
     "ename": "AttributeError",
     "evalue": "'NoneType' object has no attribute 'data'",
     "output_type": "error",
     "traceback": [
      "\u001b[1;31m---------------------------------------------------------------------------\u001b[0m",
      "\u001b[1;31mAttributeError\u001b[0m                            Traceback (most recent call last)",
      "\u001b[1;32m~\\AppData\\Local\\Temp\\ipykernel_12316\\3606915568.py\u001b[0m in \u001b[0;36m<module>\u001b[1;34m\u001b[0m\n\u001b[0;32m     13\u001b[0m \u001b[0mprint\u001b[0m\u001b[1;33m(\u001b[0m\u001b[0ma\u001b[0m\u001b[1;33m.\u001b[0m\u001b[0mnext\u001b[0m\u001b[1;33m)\u001b[0m\u001b[1;33m\u001b[0m\u001b[1;33m\u001b[0m\u001b[0m\n\u001b[0;32m     14\u001b[0m \u001b[0mprint\u001b[0m\u001b[1;33m(\u001b[0m\u001b[0mb\u001b[0m\u001b[1;33m.\u001b[0m\u001b[0mnext\u001b[0m\u001b[1;33m)\u001b[0m\u001b[1;33m\u001b[0m\u001b[1;33m\u001b[0m\u001b[0m\n\u001b[1;32m---> 15\u001b[1;33m \u001b[0mprint\u001b[0m\u001b[1;33m(\u001b[0m\u001b[0mb\u001b[0m\u001b[1;33m.\u001b[0m\u001b[0mnext\u001b[0m\u001b[1;33m.\u001b[0m\u001b[0mdata\u001b[0m\u001b[1;33m)\u001b[0m\u001b[1;33m\u001b[0m\u001b[1;33m\u001b[0m\u001b[0m\n\u001b[0m",
      "\u001b[1;31mAttributeError\u001b[0m: 'NoneType' object has no attribute 'data'"
     ]
    }
   ],
   "source": [
    "class Node:\n",
    "    def __init__(self,data):\n",
    "        self.data = data\n",
    "        self.next = None\n",
    "a = Node(13)\n",
    "b = Node(21)\n",
    "a.next = b\n",
    "print(a.data)\n",
    "print(b.data)\n",
    "print(a.next.data)\n",
    "print(a)\n",
    "print(b)\n",
    "print(a.next) # since b.next has none so no address is printed and there is an error in b.next.data\n",
    "print(b.next)\n",
    "print(b.next.data)\n"
   ]
  },
  {
   "cell_type": "markdown",
   "id": "c909b5bc-e0f3-45ef-ace6-b4e663c68afe",
   "metadata": {},
   "source": [
    "### Taking input and printing a LL and operations on LL"
   ]
  },
  {
   "cell_type": "code",
   "execution_count": 14,
   "id": "67c44108-3501-458d-8642-04bf8cea77d0",
   "metadata": {},
   "outputs": [],
   "source": [
    "class Node:\n",
    "    def __init__(self,data):\n",
    "        self.data = data\n",
    "        self.next = None\n",
    "\n",
    "def takeinput():\n",
    "    inputlist = [int(ele) for ele in input().split()]\n",
    "    head = None\n",
    "    for currdata in inputlist:\n",
    "        if currdata == -1:\n",
    "            break\n",
    "        newnode = Node(currdata)\n",
    "        if head is None:\n",
    "            head = newnode\n",
    "        else:\n",
    "            curr = head\n",
    "            while curr.next is not None:\n",
    "                curr = curr.next\n",
    "            curr.next = newnode\n",
    "    return head\n",
    "\n",
    "\n",
    "def printll(head):\n",
    "    while head is not None:\n",
    "         print(str(head.data) + \"->\",end = \"\")\n",
    "         head = head.next\n",
    "    print(\"None\")\n",
    "    return      \n",
    "    \n",
    "    \n",
    "\n",
    "\n"
   ]
  },
  {
   "cell_type": "code",
   "execution_count": 16,
   "id": "b1d9b96e-c7d9-4af5-a536-93a55043b95b",
   "metadata": {},
   "outputs": [
    {
     "name": "stdin",
     "output_type": "stream",
     "text": [
      " 45 56 78 90 100 1001 -1\n"
     ]
    },
    {
     "name": "stdout",
     "output_type": "stream",
     "text": [
      "45->56->78->90->100->1001->None\n"
     ]
    }
   ],
   "source": [
    "head = takeinput()\n",
    "printll(head)"
   ]
  },
  {
   "cell_type": "code",
   "execution_count": 20,
   "id": "08b3b834-633a-40bc-8e8b-6a82942bde1f",
   "metadata": {},
   "outputs": [],
   "source": [
    "class Node:\n",
    "    def __init__(self,data):\n",
    "        self.data = data\n",
    "        self.next = None\n",
    "\n",
    "def takeinput():\n",
    "    inputlist = [int(ele) for ele in input().split()]\n",
    "    head = None\n",
    "    for currdata in inputlist:\n",
    "        if currdata == -1:\n",
    "            break\n",
    "        newnode = Node(currdata)\n",
    "        if head is None:\n",
    "            head = newnode\n",
    "            tail = newnode # this tail is introduced here just to optimise the solution in terms of time complexity as it saves the \n",
    "                           # whole iteration of curr from head and t.c = O(n)\n",
    "        else:\n",
    "            tail.next = newnode\n",
    "            tail = newnode\n",
    "\n",
    "\n",
    "        \n",
    "    return head\n",
    "\n",
    "\n",
    "def printll(head):\n",
    "    while head is not None:\n",
    "         print(str(head.data) + \"->\",end = \"\")\n",
    "         head = head.next\n",
    "    print(\"None\")\n",
    "    return      "
   ]
  },
  {
   "cell_type": "code",
   "execution_count": 21,
   "id": "7d98de76-1cb1-4371-9994-c4d1796b3e13",
   "metadata": {},
   "outputs": [
    {
     "name": "stdin",
     "output_type": "stream",
     "text": [
      " 2 3 5 6 7\n"
     ]
    },
    {
     "name": "stdout",
     "output_type": "stream",
     "text": [
      "2->3->5->6->7->None\n"
     ]
    }
   ],
   "source": [
    "head = takeinput()\n",
    "printll(head)"
   ]
  },
  {
   "cell_type": "code",
   "execution_count": 2,
   "id": "a77cb0ea-2371-40cd-89dc-cec35e84b63f",
   "metadata": {},
   "outputs": [
    {
     "name": "stdin",
     "output_type": "stream",
     "text": [
      " 1 2 3 4 5 6 7\n"
     ]
    },
    {
     "name": "stdout",
     "output_type": "stream",
     "text": [
      "1->2->3->4->5->6->7->None\n",
      "7\n",
      "1->2->3->5->4->5->6->7->None\n",
      "8\n",
      "1->9->2->3->5->4->5->6->7->None\n",
      "9\n",
      "1->9->34->2->3->5->4->5->6->7->None\n",
      "10\n"
     ]
    }
   ],
   "source": [
    "from sys import stdin\n",
    "class Node:\n",
    "    def __init__(self, data):\n",
    "        self.data = data\n",
    "        self.next = None\n",
    "\n",
    "# Taking Input Using Fast I/O\n",
    "def takeinput():\n",
    "    inputlist = [int(ele) for ele in input().split()]\n",
    "    head = None\n",
    "    for currdata in inputlist:\n",
    "        if currdata == -1:\n",
    "            break\n",
    "        newnode = Node(currdata)\n",
    "        if head is None:\n",
    "            head = newnode\n",
    "            tail = newnode # this tail is introduced here just to optimise the solution in terms of time complexity as it saves the \n",
    "                           # whole iteration of curr from head and t.c = O(n)\n",
    "        else:\n",
    "            tail.next = newnode\n",
    "            tail = newnode\n",
    "\n",
    "\n",
    "        \n",
    "    return head\n",
    "\n",
    "# length of ll funtion\n",
    "def length(head) :\n",
    "    #Your code goes here\n",
    "    le = 0\n",
    "    while head is not None:\n",
    "        le += 1\n",
    "        head = head.next\n",
    "    return le\n",
    "\n",
    "\n",
    "# insertion at ith pos function.\n",
    "def insert_at_i(head,i,data):\n",
    "    if i<0 or i>length(head):\n",
    "        return head\n",
    "    else:\n",
    "        curr = head\n",
    "        prev = None\n",
    "        count = 0\n",
    "        while count<i:\n",
    "            prev = curr\n",
    "            curr = curr.next\n",
    "            count = count+1\n",
    "        newnode = Node(data)\n",
    "        if prev is not None:\n",
    "            prev.next = newnode\n",
    "        else:\n",
    "            head = newnode\n",
    "        newnode.next = curr    \n",
    "\n",
    "        return head\n",
    "\n",
    "           \n",
    "           \n",
    "# print ll function\n",
    "def printll(head):\n",
    "    while head is not None:\n",
    "         print(str(head.data) + \"->\",end = \"\")\n",
    "         head = head.next\n",
    "    print(\"None\")\n",
    "    return  \n",
    "\n",
    "\n",
    "\n",
    "# print ith node ll function\n",
    "def printIthNode(head, i):\n",
    "    #Your code goes here\n",
    "    count = 0\n",
    "    while head is not None and count < i: # count variable is used to stop the loop when the input arrives.\n",
    "        head = head.next\n",
    "        count = count + 1\n",
    "    if head is None:\n",
    "        print(\"\")\n",
    "    else:\n",
    "\n",
    "\n",
    "        print (head.data)\n",
    "\n",
    "\n",
    "\n",
    "\n",
    "\n",
    "\n",
    "head = takeinput()\n",
    "printll(head)\n",
    "print(length(head))\n",
    "insert_at_i(head,3,5)\n",
    "printll(head)\n",
    "print(length(head))\n",
    "insert_at_i(head,1,9)\n",
    "printll(head)\n",
    "print(length(head))\n",
    "insert_at_i(head,2,34)\n",
    "printll(head)\n",
    "print(length(head))"
   ]
  },
  {
   "cell_type": "code",
   "execution_count": 4,
   "id": "2eabadcb-d043-42d7-9a89-021c29402099",
   "metadata": {},
   "outputs": [
    {
     "name": "stdout",
     "output_type": "stream",
     "text": [
      "1->2->3->5->4->5->6->7->8->9->34->10->11->None\n"
     ]
    }
   ],
   "source": [
    "insert_at_i(head,0,9)\n",
    "printll(head)"
   ]
  },
  {
   "cell_type": "code",
   "execution_count": 6,
   "id": "ea4c7e37-20b5-402d-b8ad-b201e08478d7",
   "metadata": {},
   "outputs": [
    {
     "name": "stdin",
     "output_type": "stream",
     "text": [
      " 1 2 3 4 5\n"
     ]
    },
    {
     "name": "stdout",
     "output_type": "stream",
     "text": [
      "1->2->3->4->5->None\n",
      "1->2->3->4->5->6->None\n"
     ]
    }
   ],
   "source": [
    "# insert at i recursively\n",
    "def insert_at_i_r(head,i,data):\n",
    "    if i<0:\n",
    "        return head\n",
    "    \n",
    "    \n",
    "    if i==0:\n",
    "        newnode = Node(data)\n",
    "        newnode.next = head\n",
    "        return newnode\n",
    "    \n",
    "    \n",
    "    if head is None: # it is written after i==0 because if insertion is to be performed at the end then we can do it easily. since\n",
    "        # at the end head will become none and this condition is returned first none will be returned.\n",
    "        \n",
    "        return None\n",
    "\n",
    "    smallhead = insert_at_i_r(head.next,i-1,data)\n",
    "    head.next = smallhead\n",
    "    return head\n",
    "\n",
    "def takeinput():\n",
    "    inputlist = [int(ele) for ele in input().split()]\n",
    "    head = None\n",
    "    for currdata in inputlist:\n",
    "        if currdata == -1:\n",
    "            break\n",
    "        newnode = Node(currdata)\n",
    "        if head is None:\n",
    "            head = newnode\n",
    "            tail = newnode # this tail is introduced here just to optimise the solution in terms of time complexity as it saves the \n",
    "                           # whole iteration of curr from head and t.c = O(n)\n",
    "        else:\n",
    "            tail.next = newnode\n",
    "            tail = newnode\n",
    "\n",
    "\n",
    "        \n",
    "    return head\n",
    "\n",
    "def printll(head):\n",
    "    while head is not None:\n",
    "         print(str(head.data) + \"->\",end = \"\")\n",
    "         head = head.next\n",
    "    print(\"None\")\n",
    "    return \n",
    "\n",
    "head = takeinput()\n",
    "printll(head)\n",
    "insert_at_i_r(head,5,6)\n",
    "printll(head)"
   ]
  },
  {
   "cell_type": "code",
   "execution_count": 1,
   "id": "58de8488-2b54-4251-a38f-c058d473c06a",
   "metadata": {},
   "outputs": [
    {
     "name": "stdin",
     "output_type": "stream",
     "text": [
      " 1 2 3 4 5 6 7 8\n"
     ]
    },
    {
     "name": "stdout",
     "output_type": "stream",
     "text": [
      "1->2->3->4->5->6->7->8->None\n",
      "1->2->3->4->6->7->8->None\n"
     ]
    }
   ],
   "source": [
    "# delete node recursively\n",
    "import sys\n",
    "sys.setrecursionlimit(10**6)\n",
    "class Node :\n",
    "    def __init__(self, data) :\n",
    "        self.data = data\n",
    "        self.next = None\n",
    "\n",
    "\n",
    "def deleteNodeRec(head, pos) :\n",
    "\t#Your code goes here\n",
    "    if pos < 0:\n",
    "        return head\n",
    "    \n",
    "    if head is None:\n",
    "        return None # it is written here because if it is written after pos == 0 then if pos greater\n",
    "    # than the length is given then it would traverse uptill the none and head.next would give an\n",
    "    # attribute error since head.next in that case won't make many sort of sense\n",
    "    \n",
    "    if pos ==0:\n",
    "        head = head.next\n",
    "        return head\n",
    "\n",
    "    \n",
    "\n",
    "    smallhead = deleteNodeRec(head.next,pos - 1)\n",
    "    head.next = smallhead\n",
    "    return head \n",
    "\n",
    "# for taking input\n",
    "def takeinput():\n",
    "    inputlist = [int(ele) for ele in input().split()]\n",
    "    head = None\n",
    "    for currdata in inputlist:\n",
    "        if currdata == -1:\n",
    "            break\n",
    "        newnode = Node(currdata)\n",
    "        if head is None:\n",
    "            head = newnode\n",
    "            tail = newnode # this tail is introduced here just to optimise the solution in terms of time complexity as it saves the \n",
    "                           # whole iteration of curr from head and t.c = O(n)\n",
    "        else:\n",
    "            tail.next = newnode\n",
    "            tail = newnode\n",
    "\n",
    "\n",
    "        \n",
    "    return head\n",
    "# for printing the linked list\n",
    "def printll(head):\n",
    "    while head is not None:\n",
    "         print(str(head.data) + \"->\",end = \"\")\n",
    "         head = head.next\n",
    "    print(\"None\")\n",
    "    return \n",
    "\n",
    "head = takeinput()\n",
    "printll(head)\n",
    "deleteNodeRec(head,4)\n",
    "printll(head)"
   ]
  },
  {
   "cell_type": "markdown",
   "id": "97678fbc-8e2c-422e-9002-8a224a6babcc",
   "metadata": {},
   "source": [
    "### Append Last N to First"
   ]
  },
  {
   "cell_type": "raw",
   "id": "ae163b2f-f2a1-410b-99f0-ffbcacfce5d0",
   "metadata": {},
   "source": [
    "You have been given a singly linked list of integers along with an integer 'N'. Write a function to append the last 'N' nodes towards the front of the singly linked list and returns the new head to the list.\n",
    "\n",
    "SAMPLE INPUT:\n",
    "1 2 3 4 5 -1\n",
    "3\n",
    "10 20 30 40 50 60 -1\n",
    "5\n",
    "\n",
    "SAMPLE OUTPUT:\n",
    "3 4 5 1 2\n",
    "20 30 40 50 60 10"
   ]
  },
  {
   "cell_type": "code",
   "execution_count": 3,
   "id": "f889e38f-b677-4af7-a2ee-607a9ad16cdb",
   "metadata": {},
   "outputs": [
    {
     "name": "stdin",
     "output_type": "stream",
     "text": [
      " 4 5 6 7 8 9 10 11\n"
     ]
    },
    {
     "name": "stdout",
     "output_type": "stream",
     "text": [
      "4->5->6->7->8->9->10->11->None\n",
      "9->10->11->4->5->6->7->8->None\n"
     ]
    }
   ],
   "source": [
    "class Node :\n",
    "    def __init__(self, data) :\n",
    "        self.data = data\n",
    "        self.next = None\n",
    "\n",
    "def length(head):\n",
    "    count = 0\n",
    "    while head is not None:\n",
    "        head = head.next\n",
    "        count = count + 1\n",
    "    return count\n",
    "\n",
    "def appendLastNToFirst(head, n):\n",
    "    if n >= length(head) or n==0:\n",
    "        return head\n",
    "\n",
    "    tail = head\n",
    "    while tail.next is not None:\n",
    "        tail = tail.next\n",
    "    i = length(head) - 1\n",
    "    curr = head\n",
    "    prev = None\n",
    "    j = i-n+1 # it is used to set curr and prev pointer at correct positions\n",
    "              # according to given N \n",
    "    \n",
    "    while j>=1:\n",
    "        prev = curr\n",
    "        curr = curr.next\n",
    "        j = j-1\n",
    "\n",
    "    prev.next = None\n",
    "    tail.next = head\n",
    "    head = curr        \n",
    "\n",
    "\n",
    "    return head  # Return the new head of the modified list\n",
    "\n",
    "\n",
    "# for taking input\n",
    "def takeinput():\n",
    "    inputlist = [int(ele) for ele in input().split()]\n",
    "    head = None\n",
    "    for currdata in inputlist:\n",
    "        if currdata == -1:\n",
    "            break\n",
    "        newnode = Node(currdata)\n",
    "        if head is None:\n",
    "            head = newnode\n",
    "            tail = newnode \n",
    "        else:\n",
    "            tail.next = newnode\n",
    "            tail = newnode\n",
    "\n",
    "\n",
    "        \n",
    "    return head\n",
    "\n",
    "# for printing the linked list\n",
    "def printll(head):\n",
    "    while head is not None:\n",
    "         print(str(head.data) + \"->\",end = \"\")\n",
    "         head = head.next\n",
    "    print(\"None\")\n",
    "    return\n",
    "\n",
    "head = takeinput()\n",
    "printll(head)\n",
    "head = appendLastNToFirst(head,3)\n",
    "printll(head)"
   ]
  },
  {
   "cell_type": "code",
   "execution_count": null,
   "id": "28cf93ea-73f1-463c-98c7-c3c8b28d107c",
   "metadata": {},
   "outputs": [],
   "source": []
  }
 ],
 "metadata": {
  "kernelspec": {
   "display_name": "Python 3 (ipykernel)",
   "language": "python",
   "name": "python3"
  },
  "language_info": {
   "codemirror_mode": {
    "name": "ipython",
    "version": 3
   },
   "file_extension": ".py",
   "mimetype": "text/x-python",
   "name": "python",
   "nbconvert_exporter": "python",
   "pygments_lexer": "ipython3",
   "version": "3.11.5"
  }
 },
 "nbformat": 4,
 "nbformat_minor": 5
}
