{
 "cells": [
  {
   "cell_type": "markdown",
   "id": "56c8b1e7-c5e3-40ab-962f-3b9a90e226ec",
   "metadata": {},
   "source": [
    "### Create a Binary Tree"
   ]
  },
  {
   "cell_type": "code",
   "execution_count": 1,
   "id": "12c707b2-cafb-47c6-ad85-d5a3b4891983",
   "metadata": {},
   "outputs": [],
   "source": [
    "class Binary_Tree_Node:\n",
    "    def __init__(self,data):\n",
    "        self.data = data\n",
    "        self.right = None\n",
    "        self.left = None\n",
    "\n",
    "btn1 = Binary_Tree_Node(1)\n",
    "btn2 = Binary_Tree_Node(2)\n",
    "btn3 = Binary_Tree_Node(3)\n",
    "\n",
    "btn1.left = btn2\n",
    "btn1.right = btn3"
   ]
  }
 ],
 "metadata": {
  "kernelspec": {
   "display_name": "Python 3 (ipykernel)",
   "language": "python",
   "name": "python3"
  },
  "language_info": {
   "codemirror_mode": {
    "name": "ipython",
    "version": 3
   },
   "file_extension": ".py",
   "mimetype": "text/x-python",
   "name": "python",
   "nbconvert_exporter": "python",
   "pygments_lexer": "ipython3",
   "version": "3.11.5"
  }
 },
 "nbformat": 4,
 "nbformat_minor": 5
}
