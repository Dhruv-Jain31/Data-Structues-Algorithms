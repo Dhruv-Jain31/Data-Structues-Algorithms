{
 "cells": [
  {
   "cell_type": "code",
   "execution_count": 2,
   "id": "fae139e4",
   "metadata": {},
   "outputs": [],
   "source": [
    "# BINARY SEARCH WORKS FOR A SORTED ARRAY\n",
    "\n",
    "\n",
    "def binary_search(array,element,debug=False):\n",
    "    lower_bound=0\n",
    "    upper_bound=len(array)-1\n",
    "    while lower_bound<=upper_bound:\n",
    "        middle=(lower_bound + upper_bound)//2\n",
    "        if debug:\n",
    "            print(\"lower_bound\",lower_bound)\n",
    "            print(\"upper_bound\",upper_bound)\n",
    "            print(\"middle\",middle)\n",
    "        if element==array[middle]:\n",
    "            return (\"Your value is found at index\",middle)\n",
    "        elif element<array[middle]:\n",
    "            upper_bound=middle-1\n",
    "        else:\n",
    "            lower_bound=middle+1\n",
    "    return (\"Your element is not in the array\")        "
   ]
  },
  {
   "cell_type": "code",
   "execution_count": 3,
   "id": "0face88d",
   "metadata": {},
   "outputs": [
    {
     "name": "stdout",
     "output_type": "stream",
     "text": [
      "lower_bound 0\n",
      "upper_bound 14\n",
      "middle 7\n",
      "lower_bound 0\n",
      "upper_bound 6\n",
      "middle 3\n",
      "lower_bound 0\n",
      "upper_bound 2\n",
      "middle 1\n",
      "lower_bound 2\n",
      "upper_bound 2\n",
      "middle 2\n"
     ]
    },
    {
     "data": {
      "text/plain": [
       "('Your value is found at index', 2)"
      ]
     },
     "execution_count": 3,
     "metadata": {},
     "output_type": "execute_result"
    }
   ],
   "source": [
    "arr=[12,34,45,46,48,54,54,55,55,55,55,56,56,89,87]\n",
    "x1=45\n",
    "binary_search(arr,x1,debug=True)"
   ]
  },
  {
   "cell_type": "code",
   "execution_count": 5,
   "id": "ca8b12a8",
   "metadata": {},
   "outputs": [
    {
     "name": "stdout",
     "output_type": "stream",
     "text": [
      "2\n",
      "2 2 3 3 4 4 7 7 6 6 5 5 7 7 3 3 1 8 8 9 90\n",
      "['2', '2', '3', '3', '4', '4', '7', '7', '6', '6', '5', '5', '7', '7', '3', '3', '1', '8', '8', '9', '90']\n",
      "90\n",
      "[2, 2, 3, 3, 4, 4, 7, 7, 6, 6, 5, 5, 7, 7, 3, 3, 1, 8, 8, 9, 90]\n",
      "first occ. of element is 20\n"
     ]
    },
    {
     "data": {
      "text/plain": [
       "20"
      ]
     },
     "execution_count": 5,
     "metadata": {},
     "output_type": "execute_result"
    }
   ],
   "source": [
    "def binary_search(array, element):\n",
    "    lower_bound = 0\n",
    "    upper_bound = len(array)-1\n",
    "    while lower_bound <= upper_bound:\n",
    "        middle = (lower_bound + upper_bound)//2\n",
    "        if element == array[middle]:\n",
    "            return (middle)\n",
    "        elif element < array[middle]:\n",
    "            upper_bound = middle-1\n",
    "        else:\n",
    "            lower_bound = middle+1\n",
    "    return -1\n",
    "n=int(input())\n",
    "st=input()\n",
    "string=st.split()\n",
    "print(string)\n",
    "li=[]\n",
    "for i in string:\n",
    "    li.append(int(i))\n",
    "ele=int(input())\n",
    "print(li)\n",
    "for i in range (len(li)):\n",
    "    \n",
    "    if li[i]==ele:\n",
    "        print(\"first occ. of element is\",i)\n",
    "        break\n",
    "binary_search(li,ele)\n",
    "        \n",
    "\n"
   ]
  },
  {
   "cell_type": "code",
   "execution_count": 21,
   "id": "832d6b29",
   "metadata": {},
   "outputs": [],
   "source": [
    " # selection sort\n",
    "def selection_sort(a):\n",
    "    for i in range(len(a)):\n",
    "        min_index=i\n",
    "        for j in range(i+1,len(a)):\n",
    "            if a[j]<a[min_index]:\n",
    "                min_index=j\n",
    "                a[i],a[min_index]=a[min_index],a[i]\n",
    "                print(a)\n",
    "            \n",
    "    return a        \n",
    "            \n",
    "        "
   ]
  },
  {
   "cell_type": "code",
   "execution_count": 22,
   "id": "8e9daace",
   "metadata": {},
   "outputs": [
    {
     "name": "stdout",
     "output_type": "stream",
     "text": [
      "[4, 13, 9, 5, 3]\n",
      "[9, 13, 4, 5, 3]\n",
      "[3, 13, 4, 5, 9]\n",
      "[3, 4, 13, 5, 9]\n",
      "[3, 5, 13, 4, 9]\n",
      "[3, 5, 4, 13, 9]\n",
      "[3, 5, 9, 13, 4]\n",
      "[3, 5, 9, 4, 13]\n"
     ]
    },
    {
     "data": {
      "text/plain": [
       "[3, 5, 9, 4, 13]"
      ]
     },
     "execution_count": 22,
     "metadata": {},
     "output_type": "execute_result"
    }
   ],
   "source": [
    "selection_sort([13,4,9,5,3])"
   ]
  },
  {
   "cell_type": "code",
   "execution_count": 16,
   "id": "cdc83a62",
   "metadata": {},
   "outputs": [],
   "source": [
    "# optimised bubble sort\n",
    "def bubble_sort(array):\n",
    "    for i in range(len(array)-1):\n",
    "        for j in range(len(array)-1-i):\n",
    "            if array[j]>array[j+1]:\n",
    "                array[j],array[j+1]=array[j+1],array[j]\n",
    "                print(array)\n",
    "    return array            "
   ]
  },
  {
   "cell_type": "code",
   "execution_count": 17,
   "id": "a4031e71",
   "metadata": {},
   "outputs": [
    {
     "name": "stdout",
     "output_type": "stream",
     "text": [
      "[5, 7, 6, 8, 3]\n",
      "[5, 7, 6, 3, 8]\n",
      "[5, 6, 7, 3, 8]\n",
      "[5, 6, 3, 7, 8]\n",
      "[5, 3, 6, 7, 8]\n",
      "[3, 5, 6, 7, 8]\n"
     ]
    },
    {
     "data": {
      "text/plain": [
       "[3, 5, 6, 7, 8]"
      ]
     },
     "execution_count": 17,
     "metadata": {},
     "output_type": "execute_result"
    }
   ],
   "source": [
    "bubble_sort([5,7,8,6,3])"
   ]
  },
  {
   "cell_type": "code",
   "execution_count": 1,
   "id": "cf545511",
   "metadata": {},
   "outputs": [],
   "source": [
    "def insertion_sort(arr):\n",
    "    for i in range(1,len(arr)):\n",
    "        temp=arr[i]\n",
    "        for j in range(i-1,-1,-1):\n",
    "            if (j>=0 and arr[j]>temp):\n",
    "                arr[j+1],arr[j]=arr[j],arr[j+1]\n",
    "                print(arr)\n",
    "            else:\n",
    "                continue\n",
    "    return arr           "
   ]
  },
  {
   "cell_type": "code",
   "execution_count": 2,
   "id": "13266360",
   "metadata": {},
   "outputs": [
    {
     "name": "stdout",
     "output_type": "stream",
     "text": [
      "[3, 5, 4, 6, 1, 2, 9, 10, 56, 34, 55, 78]\n",
      "[3, 4, 5, 6, 1, 2, 9, 10, 56, 34, 55, 78]\n",
      "[3, 4, 5, 1, 6, 2, 9, 10, 56, 34, 55, 78]\n",
      "[3, 4, 1, 5, 6, 2, 9, 10, 56, 34, 55, 78]\n",
      "[3, 1, 4, 5, 6, 2, 9, 10, 56, 34, 55, 78]\n",
      "[1, 3, 4, 5, 6, 2, 9, 10, 56, 34, 55, 78]\n",
      "[1, 3, 4, 5, 2, 6, 9, 10, 56, 34, 55, 78]\n",
      "[1, 3, 4, 2, 5, 6, 9, 10, 56, 34, 55, 78]\n",
      "[1, 3, 2, 4, 5, 6, 9, 10, 56, 34, 55, 78]\n",
      "[1, 2, 3, 4, 5, 6, 9, 10, 56, 34, 55, 78]\n",
      "[1, 2, 3, 4, 5, 6, 9, 10, 34, 56, 55, 78]\n",
      "[1, 2, 3, 4, 5, 6, 9, 10, 34, 55, 56, 78]\n"
     ]
    },
    {
     "data": {
      "text/plain": [
       "[1, 2, 3, 4, 5, 6, 9, 10, 34, 55, 56, 78]"
      ]
     },
     "execution_count": 2,
     "metadata": {},
     "output_type": "execute_result"
    }
   ],
   "source": [
    "insertion_sort([5,3,4,6,1,2,9,10,56,34,55,78])"
   ]
  },
  {
   "cell_type": "code",
   "execution_count": 10,
   "id": "7d5a7aeb",
   "metadata": {},
   "outputs": [],
   "source": [
    "def insertion_sort1(arr):\n",
    "    for i in range(1,len(arr)):\n",
    "        temp=arr[i]\n",
    "        j=i-1\n",
    "        while(j>=0 and arr[j]>temp):\n",
    "            arr[j+1]=arr[j] # for swapping positions\n",
    "            j=j-1\n",
    "        arr[j+1]=temp # for swapping the postions        \n",
    "    return arr"
   ]
  },
  {
   "cell_type": "code",
   "execution_count": 11,
   "id": "0da611f0",
   "metadata": {},
   "outputs": [
    {
     "data": {
      "text/plain": [
       "[0, 1, 5, 6, 7, 8, 9, 43, 56, 67, 86]"
      ]
     },
     "execution_count": 11,
     "metadata": {},
     "output_type": "execute_result"
    }
   ],
   "source": [
    "insertion_sort1([9,8,5,6,7,1,0,56,43,67,86])"
   ]
  },
  {
   "cell_type": "code",
   "execution_count": 12,
   "id": "6f367196",
   "metadata": {},
   "outputs": [],
   "source": [
    "def merge_two_sorted_arrays(a1,a2):\n",
    "    i,j=0,0\n",
    "    len1,len2=len(a1),len(a2)\n",
    "    new_array=[]\n",
    "    \n",
    "    while(i<len1 and j<len2):\n",
    "        if(a1[i]<a2[j]):\n",
    "            new_array.append(a1[i])\n",
    "            i=i+1\n",
    "        else:\n",
    "            new_array.append(a2[j])\n",
    "            j=j+1\n",
    "    while(i<len1): #since the value of i is already updated in the upper while loop in the if condition it's value will not start from 0\n",
    "        new_array.append(a1[i])\n",
    "        i=i+1\n",
    "    while(j<len2): #since the value of j is already updated in the upper while loop in the else condition it's value will not start from 0\n",
    "        new_array.append(a2[j])\n",
    "        j=j+1\n",
    "    return new_array    "
   ]
  },
  {
   "cell_type": "code",
   "execution_count": 13,
   "id": "4b9cc47e",
   "metadata": {},
   "outputs": [
    {
     "data": {
      "text/plain": [
       "[2, 3, 3, 4, 4, 5, 5, 6, 6, 8, 8, 9, 10, 12]"
      ]
     },
     "execution_count": 13,
     "metadata": {},
     "output_type": "execute_result"
    }
   ],
   "source": [
    "merge_two_sorted_arrays([2,3,4,5,6,8,9],[3,4,5,6,8,10,12])"
   ]
  },
  {
   "cell_type": "code",
   "execution_count": 3,
   "id": "79c23862",
   "metadata": {},
   "outputs": [],
   "source": [
    "def pushZerosAtEnd(arr) :\n",
    "    #Your code goes here\n",
    "    temp=[]\n",
    "    for i in range(len(arr)):\n",
    "        if (arr[i]==0):\n",
    "            continue\n",
    "        else:\n",
    "            temp.append(arr[i])\n",
    "    for i in range(len(arr)):\n",
    "        if (arr[i]==0):\n",
    "            temp.append(arr[i])\n",
    "        else:\n",
    "            continue\n",
    "    return temp"
   ]
  },
  {
   "cell_type": "code",
   "execution_count": 5,
   "id": "73e20438",
   "metadata": {},
   "outputs": [
    {
     "data": {
      "text/plain": [
       "[5, 7, 4, 8, 1, 3, 7, 2, 0, 0, 0]"
      ]
     },
     "execution_count": 5,
     "metadata": {},
     "output_type": "execute_result"
    }
   ],
   "source": [
    "pushZerosAtEnd([5,0,7,4,8,1,3,0,7,2,0 ])"
   ]
  },
  {
   "cell_type": "code",
   "execution_count": 24,
   "id": "59b9b32b",
   "metadata": {},
   "outputs": [],
   "source": [
    "def pushzeroatend1(arr):\n",
    "    k=0\n",
    "    while(k<len(arr)):\n",
    "        temp=arr[k]\n",
    "        for i in range(len(arr)):\n",
    "            if (temp==0 and arr[i]!=0):\n",
    "                temp,arr[i]=arr[i],temp\n",
    "            else:\n",
    "                k=k+1\n",
    "    return arr            \n",
    "            "
   ]
  },
  {
   "cell_type": "code",
   "execution_count": 25,
   "id": "a448fc3e",
   "metadata": {},
   "outputs": [
    {
     "data": {
      "text/plain": [
       "[2, 6, 0, 0, 1, 9, 0, 8, 0]"
      ]
     },
     "execution_count": 25,
     "metadata": {},
     "output_type": "execute_result"
    }
   ],
   "source": [
    "pushzeroatend1([2,6,0,0,1,9,0,8,0])"
   ]
  },
  {
   "cell_type": "code",
   "execution_count": 30,
   "id": "9a0e6d01",
   "metadata": {},
   "outputs": [],
   "source": [
    "def rotate_array(arr,d):\n",
    "    for i in range(d):\n",
    "        temp=arr[0]\n",
    "        length=len(arr)\n",
    "        for j in range(length-1):\n",
    "            arr[j]=arr[j+1]\n",
    "            print(arr)\n",
    "        arr[-1]=temp #very important part. if we'll use the append function instead then size of array may increase due to extra 8\n",
    "    return arr    \n",
    "                "
   ]
  },
  {
   "cell_type": "code",
   "execution_count": 31,
   "id": "b395e5ff",
   "metadata": {},
   "outputs": [
    {
     "name": "stdout",
     "output_type": "stream",
     "text": [
      "[6, 6, 3, 1, 5, 9, 8]\n",
      "[6, 3, 3, 1, 5, 9, 8]\n",
      "[6, 3, 1, 1, 5, 9, 8]\n",
      "[6, 3, 1, 5, 5, 9, 8]\n",
      "[6, 3, 1, 5, 9, 9, 8]\n",
      "[6, 3, 1, 5, 9, 8, 8]\n",
      "[3, 3, 1, 5, 9, 8, 2]\n",
      "[3, 1, 1, 5, 9, 8, 2]\n",
      "[3, 1, 5, 5, 9, 8, 2]\n",
      "[3, 1, 5, 9, 9, 8, 2]\n",
      "[3, 1, 5, 9, 8, 8, 2]\n",
      "[3, 1, 5, 9, 8, 2, 2]\n"
     ]
    },
    {
     "data": {
      "text/plain": [
       "[3, 1, 5, 9, 8, 2, 6]"
      ]
     },
     "execution_count": 31,
     "metadata": {},
     "output_type": "execute_result"
    }
   ],
   "source": [
    "rotate_array([2,6,3,1,5,9,8],2)"
   ]
  },
  {
   "cell_type": "code",
   "execution_count": 36,
   "id": "5bf89c0c",
   "metadata": {},
   "outputs": [],
   "source": [
    "def rotate_array1(arr,d):\n",
    "    for i in range(d):\n",
    "        temp=arr[0]\n",
    "        length=len(arr)\n",
    "        for j in range(1,length):\n",
    "            arr[j-1]=arr[j]\n",
    "        arr[-1]=temp #very important part if we'll use the append function instead then the size of array might increase due to extra 8\n",
    "    return arr "
   ]
  },
  {
   "cell_type": "code",
   "execution_count": 37,
   "id": "b708db3a",
   "metadata": {},
   "outputs": [
    {
     "data": {
      "text/plain": [
       "[26, 1, 3, 6, 11, 12, 17, 22]"
      ]
     },
     "execution_count": 37,
     "metadata": {},
     "output_type": "execute_result"
    }
   ],
   "source": [
    "rotate_array1([1,3,6,11,12,17,22,26],7)"
   ]
  },
  {
   "cell_type": "code",
   "execution_count": 44,
   "id": "fca12d13",
   "metadata": {},
   "outputs": [],
   "source": [
    "# this method saves a lot of time\n",
    "def rotate_array2(arr,d):\n",
    "    n=len(arr)\n",
    "    arr1=arr[::-1]\n",
    "    print(arr1)\n",
    "    temp=arr1[n-d-1::-1]\n",
    "    print(temp)\n",
    "    temp1=arr1[-1:n-d-1:-1]\n",
    "    print(temp1)\n",
    "    temp2=temp+temp1\n",
    "    return temp2"
   ]
  },
  {
   "cell_type": "code",
   "execution_count": 46,
   "id": "a5634cbe",
   "metadata": {},
   "outputs": [
    {
     "name": "stdout",
     "output_type": "stream",
     "text": [
      "[26, 22, 17, 12, 11, 6, 3, 1]\n",
      "[26]\n",
      "[1, 3, 6, 11, 12, 17, 22]\n"
     ]
    },
    {
     "data": {
      "text/plain": [
       "[26, 1, 3, 6, 11, 12, 17, 22]"
      ]
     },
     "execution_count": 46,
     "metadata": {},
     "output_type": "execute_result"
    }
   ],
   "source": [
    "rotate_array2([1,3,6,11,12,17,22,26],7)"
   ]
  },
  {
   "cell_type": "code",
   "execution_count": 29,
   "id": "82276cee",
   "metadata": {},
   "outputs": [],
   "source": [
    "def second_largest_element(arr):\n",
    "    L=0\n",
    "    for i in range(len(arr)):\n",
    "        if(arr[i]>L):\n",
    "            L=arr[i]\n",
    "        else:\n",
    "            continue\n",
    "    print(L)\n",
    "    L2=0\n",
    "    for i in range(len(arr)):\n",
    "        if(arr[i]<L and arr[i]>=L2):\n",
    "            L2=arr[i]\n",
    "        else:\n",
    "            continue\n",
    "    return L2        "
   ]
  },
  {
   "cell_type": "code",
   "execution_count": 32,
   "id": "b4e8b68d",
   "metadata": {},
   "outputs": [
    {
     "name": "stdout",
     "output_type": "stream",
     "text": [
      "67\n"
     ]
    },
    {
     "data": {
      "text/plain": [
       "43"
      ]
     },
     "execution_count": 32,
     "metadata": {},
     "output_type": "execute_result"
    }
   ],
   "source": [
    "second_largest_element([2,6,7,8,12,43,5,23,13,67,43,67])"
   ]
  },
  {
   "cell_type": "code",
   "execution_count": null,
   "id": "00aa7762",
   "metadata": {},
   "outputs": [],
   "source": [
    "def second_largest_element2(arr):\n",
    "    "
   ]
  }
 ],
 "metadata": {
  "kernelspec": {
   "display_name": "Python 3 (ipykernel)",
   "language": "python",
   "name": "python3"
  },
  "language_info": {
   "codemirror_mode": {
    "name": "ipython",
    "version": 3
   },
   "file_extension": ".py",
   "mimetype": "text/x-python",
   "name": "python",
   "nbconvert_exporter": "python",
   "pygments_lexer": "ipython3",
   "version": "3.11.5"
  }
 },
 "nbformat": 4,
 "nbformat_minor": 5
}
