{
 "cells": [
  {
   "cell_type": "markdown",
   "id": "c8d80892-2aa0-49b8-bdfd-69f90697a8ca",
   "metadata": {},
   "source": [
    "### Stack implementation using Array"
   ]
  },
  {
   "cell_type": "code",
   "execution_count": 26,
   "id": "418f9cd7-aeef-44f1-a19e-6d41d29d2afe",
   "metadata": {},
   "outputs": [],
   "source": [
    "class Stack:\n",
    "\n",
    "    def __init__(self):\n",
    "        self.data = []\n",
    "    def push(self,item):\n",
    "        self.data.append(item)\n",
    "    def pop(self):\n",
    "        if self.isEmpty():\n",
    "            print(\"Stack is Empty\")\n",
    "            return\n",
    "        else:\n",
    "            return self.data.pop()\n",
    "    def top(self):\n",
    "        if self.isEmpty():\n",
    "            print(\"Stack is Empty\")\n",
    "            return\n",
    "        else:\n",
    "            return self.data[len(self.data) - 1]\n",
    "    def size(self):\n",
    "        return len(self.data)\n",
    "    def isEmpty(self):\n",
    "        if self.size() == 0:\n",
    "            return True\n",
    "        else:\n",
    "            return False\n",
    "        "
   ]
  },
  {
   "cell_type": "code",
   "execution_count": 25,
   "id": "be1e7003-a27e-43aa-8488-d540891bfb5e",
   "metadata": {},
   "outputs": [
    {
     "name": "stdout",
     "output_type": "stream",
     "text": [
      "[12, 13, 14]\n",
      "[12, 13]\n",
      "13\n",
      "2\n",
      "False\n",
      "13\n",
      "12\n"
     ]
    },
    {
     "data": {
      "text/plain": [
       "True"
      ]
     },
     "execution_count": 25,
     "metadata": {},
     "output_type": "execute_result"
    }
   ],
   "source": [
    "s = Stack()\n",
    "s.push(12)\n",
    "s.push(13)\n",
    "s.push(14)\n",
    "print(s.data)\n",
    "\n",
    "s.pop()\n",
    "print(s.data)\n",
    "\n",
    "print(s.top())\n",
    "print(s.size())\n",
    "print(s.isEmpty())\n",
    "\n",
    "while s.isEmpty() is False:\n",
    "    print(s.pop())\n",
    "\n",
    "s.isEmpty()"
   ]
  },
  {
   "cell_type": "markdown",
   "id": "3ca19ca2-d071-4081-83c8-5179d648f6ee",
   "metadata": {},
   "source": [
    "### Stack implementation using LL"
   ]
  },
  {
   "cell_type": "code",
   "execution_count": 2,
   "id": "7a1adac9-acb3-4192-b728-4e1a79c9b1f9",
   "metadata": {},
   "outputs": [],
   "source": [
    "class Node:\n",
    "    def __init__(self,data):\n",
    "        self.data = data\n",
    "        self.next = None\n",
    "\n",
    "class Stack:\n",
    "    def __init__(self):\n",
    "        self.__head = None\n",
    "        self.__count = 0\n",
    "    def push(self,element):\n",
    "        newNode = Node(element)\n",
    "        newNode.next = self.__head # so that newnode stores none as the next reference\n",
    "        self.__head = newNode # so that head point to newnode\n",
    "        self.__count = self.__count+1\n",
    "    def pop(self):\n",
    "        if self.isEmpty() is True:\n",
    "            print(\"Stack is Empty\")\n",
    "            return\n",
    "        data = self.__head.data\n",
    "        self.__head = self.__head.next\n",
    "        self.__count = self.__count-1\n",
    "        return data\n",
    "    def top(self):\n",
    "        if self.isEmpty() is True:\n",
    "            print(\"Stack is Empty\")\n",
    "            return\n",
    "        data = self.__head.data\n",
    "        return data\n",
    "    def size(self):\n",
    "        return self.__count\n",
    "    def isEmpty(self):\n",
    "        if self.__count == 0:\n",
    "            return True\n",
    "        else:\n",
    "            return False"
   ]
  },
  {
   "cell_type": "code",
   "execution_count": 5,
   "id": "1d3c4bf7-4d49-49ca-9b51-cc3c7590e4e6",
   "metadata": {},
   "outputs": [
    {
     "name": "stdout",
     "output_type": "stream",
     "text": [
      "13\n",
      "2\n",
      "False\n",
      "13\n",
      "12\n"
     ]
    },
    {
     "data": {
      "text/plain": [
       "True"
      ]
     },
     "execution_count": 5,
     "metadata": {},
     "output_type": "execute_result"
    }
   ],
   "source": [
    "s = Stack()\n",
    "s.push(12)\n",
    "s.push(13)\n",
    "s.push(14)\n",
    "\n",
    "s.pop()\n",
    "\n",
    "print(s.top())\n",
    "print(s.size())\n",
    "print(s.isEmpty())\n",
    "\n",
    "while s.isEmpty() is False:\n",
    "    print(s.pop())\n",
    "\n",
    "s.isEmpty()"
   ]
  },
  {
   "cell_type": "markdown",
   "id": "f168b608-a060-4cde-8b46-c28a36e79fcf",
   "metadata": {},
   "source": [
    "### Balnaced Parenthesis"
   ]
  },
  {
   "cell_type": "code",
   "execution_count": null,
   "id": "97334205-e909-48d5-a687-28a6bf97613a",
   "metadata": {},
   "outputs": [],
   "source": []
  }
 ],
 "metadata": {
  "kernelspec": {
   "display_name": "Python 3 (ipykernel)",
   "language": "python",
   "name": "python3"
  },
  "language_info": {
   "codemirror_mode": {
    "name": "ipython",
    "version": 3
   },
   "file_extension": ".py",
   "mimetype": "text/x-python",
   "name": "python",
   "nbconvert_exporter": "python",
   "pygments_lexer": "ipython3",
   "version": "3.11.5"
  }
 },
 "nbformat": 4,
 "nbformat_minor": 5
}
