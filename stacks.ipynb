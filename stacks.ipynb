{
 "cells": [
  {
   "cell_type": "code",
   "execution_count": 2,
   "id": "418f9cd7-aeef-44f1-a19e-6d41d29d2afe",
   "metadata": {},
   "outputs": [],
   "source": [
    "class Stacks:\n",
    "\n",
    "    def __init__(self):\n",
    "        self.data = []\n",
    "    def push(self,item):\n",
    "        self.data.append(item)\n",
    "    def pop(self):\n",
    "        if self.isEmpty():\n",
    "            print(\"Stack is Empty\")\n",
    "        else:\n",
    "            return self.data.pop()\n",
    "    def top(self):\n",
    "        if self.isEmpty():\n",
    "            print(\"Stack is Empty\")\n",
    "        else:\n",
    "            return self.data[len(self.data) - 1]\n",
    "    def size(self):\n",
    "        return self.data[len(self.data)]\n",
    "    def isEmpty():\n",
    "        return self.size == 0\n",
    "        return False\n",
    "        "
   ]
  },
  {
   "cell_type": "code",
   "execution_count": null,
   "id": "be1e7003-a27e-43aa-8488-d540891bfb5e",
   "metadata": {},
   "outputs": [],
   "source": []
  }
 ],
 "metadata": {
  "kernelspec": {
   "display_name": "Python 3 (ipykernel)",
   "language": "python",
   "name": "python3"
  },
  "language_info": {
   "codemirror_mode": {
    "name": "ipython",
    "version": 3
   },
   "file_extension": ".py",
   "mimetype": "text/x-python",
   "name": "python",
   "nbconvert_exporter": "python",
   "pygments_lexer": "ipython3",
   "version": "3.11.5"
  }
 },
 "nbformat": 4,
 "nbformat_minor": 5
}
