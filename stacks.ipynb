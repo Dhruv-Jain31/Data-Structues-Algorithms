{
 "cells": [
  {
   "cell_type": "markdown",
   "id": "c8d80892-2aa0-49b8-bdfd-69f90697a8ca",
   "metadata": {},
   "source": [
    "### Stack implementation using Array"
   ]
  },
  {
   "cell_type": "code",
   "execution_count": 26,
   "id": "418f9cd7-aeef-44f1-a19e-6d41d29d2afe",
   "metadata": {},
   "outputs": [],
   "source": [
    "class Stack:\n",
    "\n",
    "    def __init__(self):\n",
    "        self.data = []\n",
    "    def push(self,item):\n",
    "        self.data.append(item)\n",
    "    def pop(self):\n",
    "        if self.isEmpty():\n",
    "            print(\"Stack is Empty\")\n",
    "            return\n",
    "        else:\n",
    "            return self.data.pop()\n",
    "    def top(self):\n",
    "        if self.isEmpty():\n",
    "            print(\"Stack is Empty\")\n",
    "            return\n",
    "        else:\n",
    "            return self.data[len(self.data) - 1]\n",
    "    def size(self):\n",
    "        return len(self.data)\n",
    "    def isEmpty(self):\n",
    "        if self.size() == 0:\n",
    "            return True\n",
    "        else:\n",
    "            return False\n",
    "        "
   ]
  },
  {
   "cell_type": "code",
   "execution_count": 25,
   "id": "be1e7003-a27e-43aa-8488-d540891bfb5e",
   "metadata": {},
   "outputs": [
    {
     "name": "stdout",
     "output_type": "stream",
     "text": [
      "[12, 13, 14]\n",
      "[12, 13]\n",
      "13\n",
      "2\n",
      "False\n",
      "13\n",
      "12\n"
     ]
    },
    {
     "data": {
      "text/plain": [
       "True"
      ]
     },
     "execution_count": 25,
     "metadata": {},
     "output_type": "execute_result"
    }
   ],
   "source": [
    "s = Stack()\n",
    "s.push(12)\n",
    "s.push(13)\n",
    "s.push(14)\n",
    "print(s.data)\n",
    "\n",
    "s.pop()\n",
    "print(s.data)\n",
    "\n",
    "print(s.top())\n",
    "print(s.size())\n",
    "print(s.isEmpty())\n",
    "\n",
    "while s.isEmpty() is False:\n",
    "    print(s.pop())\n",
    "\n",
    "s.isEmpty()"
   ]
  },
  {
   "cell_type": "markdown",
   "id": "3ca19ca2-d071-4081-83c8-5179d648f6ee",
   "metadata": {},
   "source": [
    "### Stack implementation using LL"
   ]
  },
  {
   "cell_type": "code",
   "execution_count": 2,
   "id": "7a1adac9-acb3-4192-b728-4e1a79c9b1f9",
   "metadata": {},
   "outputs": [],
   "source": [
    "class Node:\n",
    "    def __init__(self,data):\n",
    "        self.data = data\n",
    "        self.next = None\n",
    "\n",
    "class Stack:\n",
    "    def __init__(self):\n",
    "        self.__head = None\n",
    "        self.__count = 0\n",
    "    def push(self,element):\n",
    "        newNode = Node(element)\n",
    "        newNode.next = self.__head # so that newnode stores none as the next reference\n",
    "        self.__head = newNode # so that head point to newnode\n",
    "        self.__count = self.__count+1\n",
    "    def pop(self):\n",
    "        if self.isEmpty() is True:\n",
    "            print(\"Stack is Empty\")\n",
    "            return\n",
    "        data = self.__head.data\n",
    "        self.__head = self.__head.next\n",
    "        self.__count = self.__count-1\n",
    "        return data\n",
    "    def top(self):\n",
    "        if self.isEmpty() is True:\n",
    "            print(\"Stack is Empty\")\n",
    "            return\n",
    "        data = self.__head.data\n",
    "        return data\n",
    "    def size(self):\n",
    "        return self.__count\n",
    "    def isEmpty(self):\n",
    "        if self.__count == 0:\n",
    "            return True\n",
    "        else:\n",
    "            return False"
   ]
  },
  {
   "cell_type": "code",
   "execution_count": 5,
   "id": "1d3c4bf7-4d49-49ca-9b51-cc3c7590e4e6",
   "metadata": {},
   "outputs": [
    {
     "name": "stdout",
     "output_type": "stream",
     "text": [
      "13\n",
      "2\n",
      "False\n",
      "13\n",
      "12\n"
     ]
    },
    {
     "data": {
      "text/plain": [
       "True"
      ]
     },
     "execution_count": 5,
     "metadata": {},
     "output_type": "execute_result"
    }
   ],
   "source": [
    "s = Stack()\n",
    "s.push(12)\n",
    "s.push(13)\n",
    "s.push(14)\n",
    "\n",
    "s.pop()\n",
    "\n",
    "print(s.top())\n",
    "print(s.size())\n",
    "print(s.isEmpty())\n",
    "\n",
    "while s.isEmpty() is False:\n",
    "    print(s.pop())\n",
    "\n",
    "s.isEmpty()"
   ]
  },
  {
   "cell_type": "markdown",
   "id": "f168b608-a060-4cde-8b46-c28a36e79fcf",
   "metadata": {},
   "source": [
    "### Balnaced Parenthesis"
   ]
  },
  {
   "cell_type": "code",
   "execution_count": null,
   "id": "97334205-e909-48d5-a687-28a6bf97613a",
   "metadata": {},
   "outputs": [],
   "source": [
    "It is a problem in which you are given to check the order of brackets. If the order brackets is correct then it is a balanced\n",
    "parenthesis and true value is returned else false is returned. In this one can follow a lifo approach i.e whatever comes in \n",
    "last close that first.\n",
    "eg. {(a+b) * (c+d)} => order is balanced\n",
    "2. {(a+b) * (c+) d } => order is balanced\n",
    "3. {(a+b})=> order is unbalanced"
   ]
  },
  {
   "cell_type": "code",
   "execution_count": 26,
   "id": "0472dba2-e008-4e72-9440-0986d0e00ec9",
   "metadata": {},
   "outputs": [],
   "source": [
    "def isBalanced(string):\n",
    "    s = []\n",
    "    for char in string:\n",
    "        if char in '({[':\n",
    "            s.append(char)\n",
    "        elif char == ')':\n",
    "            if (not s or s[-1]!='('):\n",
    "                return False\n",
    "            s.pop()\n",
    "        elif char == '}':\n",
    "            if (not s or s[-1]!='{'):\n",
    "                return False\n",
    "            s.pop()\n",
    "        elif char == ']':\n",
    "            if (not s or s[-1]!='['):\n",
    "                return False\n",
    "            s.pop()\n",
    "    if(not s):\n",
    "        return True\n",
    "    return False\n",
    "                "
   ]
  },
  {
   "cell_type": "code",
   "execution_count": 28,
   "id": "2e8ef884-34b4-463d-b213-44c132859d57",
   "metadata": {},
   "outputs": [
    {
     "name": "stdin",
     "output_type": "stream",
     "text": [
      " (())\n"
     ]
    },
    {
     "name": "stdout",
     "output_type": "stream",
     "text": [
      "True\n"
     ]
    }
   ],
   "source": [
    "str = input()\n",
    "ans = isBalanced(str)\n",
    "print(ans)"
   ]
  },
  {
   "cell_type": "markdown",
   "id": "7d9291bd-37d6-4787-a744-402916e9ca4d",
   "metadata": {},
   "source": [
    "### Reverse Stack"
   ]
  },
  {
   "cell_type": "markdown",
   "id": "e946d402-c85f-4928-bb56-68ba4823bf97",
   "metadata": {},
   "source": [
    "You are given a stack and problem is to reverse that stack using another stack. We'll be using recursive\n",
    "approach here. "
   ]
  },
  {
   "cell_type": "code",
   "execution_count": 3,
   "id": "72210863-7d62-43be-abc8-3a7791164d37",
   "metadata": {},
   "outputs": [
    {
     "name": "stdin",
     "output_type": "stream",
     "text": [
      " 7\n",
      " 1 2 3 4 5 6 7\n"
     ]
    },
    {
     "name": "stdout",
     "output_type": "stream",
     "text": [
      "1 2 3 4 5 6 7 "
     ]
    },
    {
     "data": {
      "text/plain": [
       "' it is important to note that input and output will print the same values because in sample input we are using push operation\\nand while printing we are using pop i.e s1.pop() due to which output is same but our stack is reversed'"
      ]
     },
     "execution_count": 3,
     "metadata": {},
     "output_type": "execute_result"
    }
   ],
   "source": [
    "from sys import setrecursionlimit\n",
    "setrecursionlimit(10000)\n",
    "\n",
    "def reverseStack(s1,s2):\n",
    "    if (len(s1) <=1):\n",
    "        return\n",
    "    while (len(s1)!=1):\n",
    "        ele = s1.pop()\n",
    "        s2.append(ele)\n",
    "    last_ele = s1.pop()\n",
    "\n",
    "    while (len(s2)!=0):\n",
    "        ele = s2.pop()\n",
    "        s1.append(ele)\n",
    "\n",
    "    reverseStack(s1,s2)\n",
    "    s1.append(last_ele)\n",
    "\n",
    "n = int(input())\n",
    "s1 = [int(ele) for ele in input().split()]\n",
    "s2 = []\n",
    "reverseStack(s1,s2)\n",
    "while (len(s1)!=0):\n",
    "    print(s1.pop(),end = ' ')\n",
    "\n",
    "''' it is important to note that input and output will print the same values because in sample input we are using push operation\n",
    "and while printing we are using pop i.e s1.pop() due to which output is same but our stack is reversed'''"
   ]
  }
 ],
 "metadata": {
  "kernelspec": {
   "display_name": "Python 3 (ipykernel)",
   "language": "python",
   "name": "python3"
  },
  "language_info": {
   "codemirror_mode": {
    "name": "ipython",
    "version": 3
   },
   "file_extension": ".py",
   "mimetype": "text/x-python",
   "name": "python",
   "nbconvert_exporter": "python",
   "pygments_lexer": "ipython3",
   "version": "3.11.5"
  }
 },
 "nbformat": 4,
 "nbformat_minor": 5
}
