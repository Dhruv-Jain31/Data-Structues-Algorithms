{
 "cells": [
  {
   "cell_type": "code",
   "execution_count": 6,
   "id": "7245ffd0",
   "metadata": {},
   "outputs": [
    {
     "name": "stdout",
     "output_type": "stream",
     "text": [
      "True\n"
     ]
    },
    {
     "data": {
      "text/plain": [
       "bool"
      ]
     },
     "execution_count": 6,
     "metadata": {},
     "output_type": "execute_result"
    }
   ],
   "source": [
    "a=True\n",
    "b=False\n",
    "\n",
    "c=True\n",
    "print(c)\n",
    "type(c)"
   ]
  },
  {
   "cell_type": "markdown",
   "id": "325c8912",
   "metadata": {},
   "source": [
    "### Relational Operators"
   ]
  },
  {
   "cell_type": "code",
   "execution_count": 8,
   "id": "60df3302",
   "metadata": {},
   "outputs": [
    {
     "name": "stdout",
     "output_type": "stream",
     "text": [
      "False\n",
      "False\n",
      "True\n",
      "True\n",
      "False\n",
      "True\n"
     ]
    }
   ],
   "source": [
    "a=10\n",
    "b=20\n",
    "print(a>b)\n",
    "print(a>=b)\n",
    "print(a<b)\n",
    "print(a<=b)\n",
    "print(a==b)\n",
    "print(a!=b)"
   ]
  },
  {
   "cell_type": "markdown",
   "id": "f5bb57d1",
   "metadata": {},
   "source": [
    "### Logical Operators"
   ]
  },
  {
   "cell_type": "code",
   "execution_count": 13,
   "id": "fde44c21",
   "metadata": {},
   "outputs": [
    {
     "name": "stdout",
     "output_type": "stream",
     "text": [
      "False\n",
      "True\n",
      "True\n"
     ]
    }
   ],
   "source": [
    "c1=a>10\n",
    "c2=b>10\n",
    "r1=c1 and c2\n",
    "r2=c1 or c2\n",
    "r3=not c1\n",
    "print(r1)\n",
    "print(r2)\n",
    "print(r3)"
   ]
  },
  {
   "cell_type": "markdown",
   "id": "4d57a212",
   "metadata": {},
   "source": [
    "### If else"
   ]
  },
  {
   "cell_type": "code",
   "execution_count": 11,
   "id": "c8f9923b",
   "metadata": {},
   "outputs": [
    {
     "name": "stdout",
     "output_type": "stream",
     "text": [
      "4\n",
      "n is even\n",
      "5\n"
     ]
    }
   ],
   "source": [
    "# checking no. to be odd or even\n",
    "n=int(input())\n",
    "if n%2==0:\n",
    "    print(\"n is even\")\n",
    "    n=n+1\n",
    "else:\n",
    "    print(\"n is odd\")\n",
    "    n=n-1\n",
    "print(n)    "
   ]
  },
  {
   "cell_type": "code",
   "execution_count": 13,
   "id": "6175b8e4",
   "metadata": {},
   "outputs": [
    {
     "name": "stdout",
     "output_type": "stream",
     "text": [
      "32\n",
      "34\n",
      "both >10\n"
     ]
    }
   ],
   "source": [
    "a=int(input())\n",
    "b=int(input())\n",
    "\n",
    "c1=a>10\n",
    "c2=b>10\n",
    "if (c1 and c2):\n",
    "    print(\"both >10\")\n",
    "else:\n",
    "    print(\"no they are not\")"
   ]
  },
  {
   "cell_type": "code",
   "execution_count": 18,
   "id": "3e1f5e0d",
   "metadata": {},
   "outputs": [
    {
     "name": "stdout",
     "output_type": "stream",
     "text": [
      "7\n",
      "it is 7\n"
     ]
    }
   ],
   "source": [
    "a=int(input())\n",
    "if a==7:\n",
    "    print(\"it is 7\")\n",
    "else:\n",
    "    print(\"not 7\")"
   ]
  },
  {
   "cell_type": "code",
   "execution_count": 3,
   "id": "8079e352",
   "metadata": {},
   "outputs": [
    {
     "name": "stdout",
     "output_type": "stream",
     "text": [
      "45\n",
      "56\n",
      "43\n",
      "56\n"
     ]
    }
   ],
   "source": [
    "a=int(input())\n",
    "b=int(input())\n",
    "c=int(input())\n",
    "if a>=b and a>=c:\n",
    "    print(a)\n",
    "elif b>=a and b>=c:\n",
    "    print(b)\n",
    "else:\n",
    "    print(c)\n"
   ]
  },
  {
   "cell_type": "code",
   "execution_count": 19,
   "id": "1b6f081a",
   "metadata": {},
   "outputs": [
    {
     "name": "stdout",
     "output_type": "stream",
     "text": [
      "134\n",
      "red\n"
     ]
    }
   ],
   "source": [
    "# given a number n if n>10 print red and 5<n>=10 print green and 0<n>4 print yellow\n",
    "n=int(input())\n",
    "if n>10:\n",
    "    print(\"red\")\n",
    "elif n>=5:\n",
    "    print(\"green\")\n",
    "else:\n",
    "    print(\"yellow\")\n"
   ]
  },
  {
   "cell_type": "code",
   "execution_count": 20,
   "id": "e56aab88",
   "metadata": {},
   "outputs": [
    {
     "name": "stdout",
     "output_type": "stream",
     "text": [
      "5\n",
      "Hello\n",
      "Hi\n"
     ]
    }
   ],
   "source": [
    "x=int(input())\n",
    "if x<6:\n",
    "    print(\"Hello\")\n",
    "if x==5:\n",
    "    print(\"Hi\")\n",
    "else:\n",
    "    print(\"Hey\") # the else at the end is acting as the else condition for the 2nd if not for the 1st if..."
   ]
  },
  {
   "cell_type": "markdown",
   "id": "b177939f",
   "metadata": {},
   "source": [
    "### Nested if else"
   ]
  },
  {
   "cell_type": "code",
   "execution_count": 22,
   "id": "b8264ede",
   "metadata": {},
   "outputs": [
    {
     "name": "stdout",
     "output_type": "stream",
     "text": [
      "4\n",
      "n is even\n",
      "3\n"
     ]
    }
   ],
   "source": [
    "n=int(input())\n",
    "if n%2==0:\n",
    "    print(\"n is even\")\n",
    "    if n==0:\n",
    "        print(\" n is zero\")\n",
    "    n=n-1\n",
    "else:\n",
    "    print(\"n is odd\")\n",
    "print(n)"
   ]
  },
  {
   "cell_type": "code",
   "execution_count": 25,
   "id": "60b49152",
   "metadata": {},
   "outputs": [
    {
     "name": "stdout",
     "output_type": "stream",
     "text": [
      "4\n",
      "6\n",
      "1\n"
     ]
    }
   ],
   "source": [
    "n=int(input())\n",
    "m=int(input())\n",
    "if n%2==0:\n",
    "    if m%2==0:\n",
    "        print(\"1\")\n",
    "    else:\n",
    "        print(\"2\")\n",
    "else:\n",
    "    print(\"3\")"
   ]
  },
  {
   "cell_type": "code",
   "execution_count": 28,
   "id": "14556532",
   "metadata": {},
   "outputs": [
    {
     "name": "stdout",
     "output_type": "stream",
     "text": [
      "C\n"
     ]
    }
   ],
   "source": [
    "if True and True:\n",
    "    if False and True or False:\n",
    "        print('A')\n",
    "    elif False and True or False and True:\n",
    "       print('B')\n",
    "    else:\n",
    "      print('C')\n",
    "else:\n",
    "     print('D')\n"
   ]
  },
  {
   "cell_type": "markdown",
   "id": "133e28bd",
   "metadata": {},
   "source": [
    "### Loops"
   ]
  },
  {
   "cell_type": "markdown",
   "id": "adde5c4e",
   "metadata": {},
   "source": [
    "### While Loops"
   ]
  },
  {
   "cell_type": "code",
   "execution_count": 29,
   "id": "3e145c88",
   "metadata": {},
   "outputs": [
    {
     "name": "stdout",
     "output_type": "stream",
     "text": [
      "4\n",
      "1\n",
      "1\n",
      "1\n",
      "1\n"
     ]
    }
   ],
   "source": [
    "n=int(input())\n",
    "count=1\n",
    "while count<=n:\n",
    "    print(1)\n",
    "    count=count+1"
   ]
  },
  {
   "cell_type": "code",
   "execution_count": 33,
   "id": "3740d7ff",
   "metadata": {},
   "outputs": [
    {
     "name": "stdout",
     "output_type": "stream",
     "text": [
      "6\n",
      "1\n",
      "2\n",
      "3\n",
      "4\n",
      "5\n",
      "6\n"
     ]
    }
   ],
   "source": [
    "#print first n natural numbers\n",
    "n=int(input())\n",
    "count=1\n",
    "while count<=n:\n",
    "    print(count)\n",
    "    count=count+1"
   ]
  },
  {
   "cell_type": "code",
   "execution_count": 30,
   "id": "668f489e",
   "metadata": {},
   "outputs": [
    {
     "name": "stdout",
     "output_type": "stream",
     "text": [
      "7\n",
      "n is prime\n"
     ]
    }
   ],
   "source": [
    "#checking whether a number is prime or not\n",
    "n=int(input())\n",
    "d=2\n",
    "if n==1:\n",
    "    print(\"it is neither prime or composite\")\n",
    "elif n>1:\n",
    "    Flag=False\n",
    "    while d<n:\n",
    "        if(n%d==0):\n",
    "            Flag=True\n",
    "        d=d+1\n",
    "        \n",
    "    if Flag:\n",
    "        print(\"n is not prime\")\n",
    "    else:\n",
    "        print(\"n is prime\")\n",
    "        \n",
    "else:\n",
    "    print(\"prime no. are always positive\")\n",
    "        \n"
   ]
  },
  {
   "cell_type": "code",
   "execution_count": 40,
   "id": "2dbec745",
   "metadata": {},
   "outputs": [
    {
     "name": "stdout",
     "output_type": "stream",
     "text": [
      "Enter Number:45\n",
      "Composite\n"
     ]
    }
   ],
   "source": [
    "n=int(input(\"Enter Number:\"))\n",
    "c=1\n",
    "f=0  \n",
    "while(c<=n):\n",
    "    if(n%c==0):\n",
    "        f=f+1\n",
    "    c=c+1\n",
    "if(f==2):\n",
    "    print(\"Prime Number\")\n",
    "elif(f==1):\n",
    "    print(\"Neither Prime Nor Composite\")\n",
    "    \n",
    "else:\n",
    "    print(\"Composite\")\n",
    "         "
   ]
  },
  {
   "cell_type": "code",
   "execution_count": 1,
   "id": "35f18f27",
   "metadata": {},
   "outputs": [
    {
     "name": "stdout",
     "output_type": "stream",
     "text": [
      "10\n",
      "2\n",
      "3\n",
      "5\n",
      "7\n"
     ]
    }
   ],
   "source": [
    "# printing prime numbers for a range of n.\n",
    "n=int(input())\n",
    "k=2\n",
    "while k<=n:\n",
    "    d=2\n",
    "    flag=False\n",
    "    while(d<k):\n",
    "        if(k%d==0):\n",
    "            \n",
    "            flag=True\n",
    "        d=d+1\n",
    "    if flag==False:\n",
    "        print(k)\n",
    "    k=k+1        \n",
    "    "
   ]
  },
  {
   "cell_type": "code",
   "execution_count": 4,
   "id": "04bc01f5",
   "metadata": {},
   "outputs": [
    {
     "name": "stdout",
     "output_type": "stream",
     "text": [
      "-8\n",
      "print a valid input\n",
      "0\n"
     ]
    }
   ],
   "source": [
    "# sum of first n natural numbers\n",
    "n=int(input())\n",
    "sum=0\n",
    "count=1\n",
    "if n<0:\n",
    "    print(\"print a valid input\")\n",
    "else:\n",
    "    while count<=n:\n",
    "        \n",
    "        sum=sum+count\n",
    "        count=count+1\n",
    "print(sum)    "
   ]
  },
  {
   "cell_type": "code",
   "execution_count": 16,
   "id": "d5bf15a9",
   "metadata": {},
   "outputs": [
    {
     "name": "stdout",
     "output_type": "stream",
     "text": [
      "8\n",
      "20\n"
     ]
    }
   ],
   "source": [
    "# sum of even no. only for n natural numbers\n",
    "N=int(input())\n",
    "sum=0\n",
    "count=1\n",
    "while count<=N:\n",
    "\tif count%2==0:\n",
    "\t\tsum=sum+count\n",
    "\tcount=count+1\n",
    "print(sum)   # if we would given for sum of odd then condition would be count%2!=0"
   ]
  },
  {
   "cell_type": "code",
   "execution_count": 3,
   "id": "be25cf1e",
   "metadata": {},
   "outputs": [
    {
     "name": "stdout",
     "output_type": "stream",
     "text": [
      "1\n",
      "20\n",
      "5\n",
      "1 -17\n",
      "6 -14\n",
      "11 -11\n",
      "16 -8\n"
     ]
    }
   ],
   "source": [
    "# C to F conversion for a given range and step size\n",
    "S=int(input())\n",
    "E=int(input())\n",
    "W=int(input())\n",
    "C=0\n",
    "while S<=E:\n",
    "    C=int((S-32)*5/9)\n",
    "    print(S, C)\n",
    "    S=S+W\n"
   ]
  },
  {
   "cell_type": "code",
   "execution_count": null,
   "id": "85508328",
   "metadata": {},
   "outputs": [],
   "source": [
    "n=int(input())\n",
    "while n!=6:\n",
    "\n",
    "    if n<=5 and n>=1 :\n",
    "            a=int(input())\n",
    "            b=int(input())\n",
    "            \n",
    "    if n==1:\n",
    "            print(a+b)\n",
    "    elif n==2:\n",
    "            print(a-b)\n",
    "    elif n==3:\n",
    "            print(a*b)\n",
    "    elif n==4:\n",
    "             print(a//b)\n",
    "    elif n==5:\n",
    "             print(a%b)\n",
    "    else:\n",
    "            \n",
    "            print(\"Invalid operation\")\n",
    "            break"
   ]
  },
  {
   "cell_type": "code",
   "execution_count": 4,
   "id": "26ac07b2",
   "metadata": {},
   "outputs": [
    {
     "name": "stdout",
     "output_type": "stream",
     "text": [
      "432\n",
      "234\n"
     ]
    }
   ],
   "source": [
    "# reverse of a number\n",
    "N=int(input())\n",
    "c=0\n",
    "d=N\n",
    "while (N!=0):\n",
    "    q=N%10\n",
    "    c=(c*10)+q\n",
    "    N=N//10\n",
    "print(c)"
   ]
  },
  {
   "cell_type": "code",
   "execution_count": 1,
   "id": "dac42c93",
   "metadata": {},
   "outputs": [
    {
     "name": "stdout",
     "output_type": "stream",
     "text": [
      "456\n",
      "false\n"
     ]
    }
   ],
   "source": [
    "# checking for a palindrome\n",
    "N = int(input())\n",
    "c = 0\n",
    "d=N\n",
    "while (N!=0):\n",
    "    a = N % 10\n",
    "    c = (c*10)+a\n",
    "    N=N//10\n",
    "if (d==c): #since N is altering its value again and again.So we need to store its value in a temp. variable which will be used for comparison at the end...\n",
    "    \n",
    "    print(\"true\")\n",
    "else:\n",
    "     print(\"false\")\t\n"
   ]
  },
  {
   "cell_type": "code",
   "execution_count": 3,
   "id": "76d81068",
   "metadata": {},
   "outputs": [
    {
     "name": "stdout",
     "output_type": "stream",
     "text": [
      "1234\n",
      "6 4\n"
     ]
    }
   ],
   "source": [
    "# cal. sum of even and odd in a given number.\n",
    "N=int(input())\n",
    "e=0\n",
    "o=0\n",
    "d=N\n",
    "while(N!=0):\n",
    "    r=N%10\n",
    "    if(N%2==0):\n",
    "\n",
    "        e=e+r\n",
    "    else:\n",
    "\n",
    "        o=o+r\n",
    "    N=N//10\n",
    "print(e,o)            "
   ]
  },
  {
   "cell_type": "markdown",
   "id": "320e26fb",
   "metadata": {},
   "source": [
    "### Pattern"
   ]
  },
  {
   "cell_type": "code",
   "execution_count": 5,
   "id": "a054396e",
   "metadata": {},
   "outputs": [
    {
     "name": "stdout",
     "output_type": "stream",
     "text": [
      "6\n",
      "* * * * * * \n",
      "* * * * * * \n",
      "* * * * * * \n",
      "* * * * * * \n",
      "* * * * * * \n",
      "* * * * * * \n"
     ]
    }
   ],
   "source": [
    "n=int(input())\n",
    "i=1\n",
    "while i<=n:\n",
    "    j=1\n",
    "    while j<=n:\n",
    "        print('*',end=' ')\n",
    "        j=j+1\n",
    "    print()\n",
    "    i=i+1"
   ]
  },
  {
   "cell_type": "markdown",
   "id": "999b328b",
   "metadata": {},
   "source": [
    "# square patterns\n",
    "11111\n",
    "22222\n",
    "33333\n",
    "44444...\n"
   ]
  },
  {
   "cell_type": "code",
   "execution_count": 8,
   "id": "10bf323f",
   "metadata": {},
   "outputs": [
    {
     "name": "stdout",
     "output_type": "stream",
     "text": [
      "8\n",
      "11111111\n",
      "22222222\n",
      "33333333\n",
      "44444444\n",
      "55555555\n",
      "66666666\n",
      "77777777\n",
      "88888888\n"
     ]
    }
   ],
   "source": [
    "n=int(input())\n",
    "i=1\n",
    "while (i<=n):\n",
    "    j=1\n",
    "    while (j<=n):\n",
    "        print(i,end='')\n",
    "        j=j+1\n",
    "    print()\n",
    "    i=i+1"
   ]
  },
  {
   "cell_type": "markdown",
   "id": "4e8f8e21",
   "metadata": {},
   "source": [
    "1234...\n",
    "1234...\n",
    "1234...\n",
    "1234..."
   ]
  },
  {
   "cell_type": "code",
   "execution_count": 12,
   "id": "5c1bf411",
   "metadata": {},
   "outputs": [
    {
     "name": "stdout",
     "output_type": "stream",
     "text": [
      "10\n",
      "12345678910\n",
      "12345678910\n",
      "12345678910\n",
      "12345678910\n",
      "12345678910\n",
      "12345678910\n",
      "12345678910\n",
      "12345678910\n",
      "12345678910\n",
      "12345678910\n"
     ]
    }
   ],
   "source": [
    "n=int(input())\n",
    "i=1\n",
    "while (i<=n):\n",
    "    j=1\n",
    "    while (j<=n):\n",
    "        print(j,end='')\n",
    "        j=j+1\n",
    "    print()\n",
    "    i=i+1"
   ]
  },
  {
   "cell_type": "markdown",
   "id": "e6668ceb",
   "metadata": {},
   "source": [
    "4321\n",
    "4321...\n",
    "4321...\n",
    "4321...\n",
    "4321..."
   ]
  },
  {
   "cell_type": "code",
   "execution_count": 2,
   "id": "cfcef597",
   "metadata": {},
   "outputs": [
    {
     "name": "stdout",
     "output_type": "stream",
     "text": [
      "5\n",
      "54321\n",
      "54321\n",
      "54321\n",
      "54321\n",
      "54321\n"
     ]
    }
   ],
   "source": [
    "n=int(input())\n",
    "i=1\n",
    "while (i<=n):\n",
    "    j=1\n",
    "    while (j<=n):\n",
    "        print((n-j)+1,end='')\n",
    "        j=j+1\n",
    "    print()\n",
    "    i=i+1\n",
    "    "
   ]
  },
  {
   "cell_type": "markdown",
   "id": "22d6ac71",
   "metadata": {},
   "source": [
    "### Triangular patterns"
   ]
  },
  {
   "cell_type": "raw",
   "id": "8b1f684c",
   "metadata": {},
   "source": [
    "1\n",
    "12\n",
    "123\n",
    "1234..."
   ]
  },
  {
   "cell_type": "code",
   "execution_count": 1,
   "id": "7edea379",
   "metadata": {},
   "outputs": [
    {
     "name": "stdout",
     "output_type": "stream",
     "text": [
      "6\n",
      "1\n",
      "12\n",
      "123\n",
      "1234\n",
      "12345\n",
      "123456\n"
     ]
    }
   ],
   "source": [
    "n=int(input())\n",
    "i=1\n",
    "while i<=n:\n",
    "    j=1\n",
    "    while j<=i:\n",
    "        print(j,end='')\n",
    "        j=j+1\n",
    "    print()\n",
    "    i=i+1"
   ]
  },
  {
   "cell_type": "raw",
   "id": "1c16086b",
   "metadata": {},
   "source": [
    "1\n",
    "23\n",
    "345\n",
    "4567..."
   ]
  },
  {
   "cell_type": "code",
   "execution_count": 2,
   "id": "07526d40",
   "metadata": {},
   "outputs": [
    {
     "name": "stdout",
     "output_type": "stream",
     "text": [
      "5\n",
      "1\n",
      "23\n",
      "345\n",
      "4567\n",
      "56789\n"
     ]
    }
   ],
   "source": [
    "n=int(input())\n",
    "i=1\n",
    "while i<=n:\n",
    "    j=1\n",
    "    p=i\n",
    "    while j<=i:\n",
    "        print(p,end='')\n",
    "        j=j+1\n",
    "        p=p+1\n",
    "    print()\n",
    "    i=i+1"
   ]
  },
  {
   "cell_type": "code",
   "execution_count": 7,
   "id": "b16cc715",
   "metadata": {},
   "outputs": [
    {
     "name": "stdout",
     "output_type": "stream",
     "text": [
      "3\n",
      "1\n",
      "23\n",
      "456\n"
     ]
    }
   ],
   "source": [
    "n=int(input())\n",
    "i=1\n",
    "p=1\n",
    "while i<=n:\n",
    "    j=1\n",
    "    while j<=i:\n",
    "        print(p,end='')\n",
    "        j=j+1\n",
    "        p=p+1\n",
    "    print()\n",
    "    i=i+1"
   ]
  },
  {
   "cell_type": "code",
   "execution_count": 9,
   "id": "d8d1abc5",
   "metadata": {},
   "outputs": [
    {
     "name": "stdout",
     "output_type": "stream",
     "text": [
      "4\n",
      "1\n",
      "21\n",
      "321\n",
      "4321\n"
     ]
    }
   ],
   "source": [
    "N=int(input())\n",
    "i=1\n",
    "while (i<=N):\n",
    "    j=1\n",
    "    p=i\n",
    "    while(j<=i):\n",
    "        print((p-j)+1,end='')\n",
    "        j=j+1\n",
    "    print()\n",
    "    i=i+1    "
   ]
  },
  {
   "cell_type": "markdown",
   "id": "9d108979",
   "metadata": {},
   "source": [
    "### Character patterns"
   ]
  },
  {
   "cell_type": "raw",
   "id": "c06a4eb2",
   "metadata": {},
   "source": [
    "ABCD\n",
    "ABCD\n",
    "ABCD\n",
    "ABCD"
   ]
  },
  {
   "cell_type": "code",
   "execution_count": 16,
   "id": "6e46eceb",
   "metadata": {},
   "outputs": [
    {
     "name": "stdout",
     "output_type": "stream",
     "text": [
      "4\n",
      "ABCD\n",
      "ABCD\n",
      "ABCD\n",
      "ABCD\n"
     ]
    }
   ],
   "source": [
    "n=int(input())\n",
    "i=1\n",
    "while(i<=n):\n",
    "    j=1\n",
    "    while(j<=n):\n",
    "        charp=chr(ord('A')+j-1)\n",
    "        j=j+1\n",
    "        print(charp,end='')\n",
    "    print()\n",
    "    i=i+1"
   ]
  },
  {
   "cell_type": "raw",
   "id": "bae1a070",
   "metadata": {},
   "source": [
    "ABCD\n",
    "BCDE\n",
    "CDEF\n",
    "DEFG"
   ]
  },
  {
   "cell_type": "code",
   "execution_count": 18,
   "id": "60f0183f",
   "metadata": {},
   "outputs": [
    {
     "name": "stdout",
     "output_type": "stream",
     "text": [
      "6\n",
      "ABCDEF\n",
      "BCDEFG\n",
      "CDEFGH\n",
      "DEFGHI\n",
      "EFGHIJ\n",
      "FGHIJK\n"
     ]
    }
   ],
   "source": [
    "n=int(input())\n",
    "i=1\n",
    "while(i<=n):\n",
    "    j=1\n",
    "    star=chr(ord('A')+i-1)\n",
    "    while(j<=n):\n",
    "        charp=chr(ord(star)+j-1)\n",
    "        j=j+1\n",
    "        print(charp,end='')\n",
    "    print()\n",
    "    i=i+1\n",
    "        "
   ]
  },
  {
   "cell_type": "code",
   "execution_count": 7,
   "id": "0da93a7f",
   "metadata": {},
   "outputs": [
    {
     "name": "stdout",
     "output_type": "stream",
     "text": [
      "4\n",
      "A\n",
      "BB\n",
      "CCC\n",
      "DDDD\n"
     ]
    }
   ],
   "source": [
    "N=int(input())\n",
    "i=1\n",
    "while (i<=N):\n",
    "    star=chr(ord('A')+i-1)\n",
    "    j=1\n",
    "    while (j<=i):\n",
    "        print(star,end='')\n",
    "        j=j+1\n",
    "    print()\n",
    "    i=i+1    "
   ]
  },
  {
   "cell_type": "code",
   "execution_count": 19,
   "id": "87c956d2",
   "metadata": {},
   "outputs": [
    {
     "name": "stdout",
     "output_type": "stream",
     "text": [
      "5\n",
      "A\n",
      "BC\n",
      "CDE\n",
      "DEFG\n",
      "EFGHI\n"
     ]
    }
   ],
   "source": [
    "N=int(input())\n",
    "i=1\n",
    "while i<=N:\n",
    "    star=chr(ord('A')+i-1)\n",
    "    j=1\n",
    "    while j<=i:\n",
    "        charp=chr(ord(star)+j-1)\n",
    "        j=j+1\n",
    "        print(charp,end='')\n",
    "    print()\n",
    "    i=i+1    \n",
    "     "
   ]
  },
  {
   "cell_type": "code",
   "execution_count": 26,
   "id": "ec5a717b",
   "metadata": {},
   "outputs": [
    {
     "name": "stdout",
     "output_type": "stream",
     "text": [
      "5\n",
      "E\n",
      "DE\n",
      "CDE\n",
      "BCDE\n",
      "ABCDE\n"
     ]
    }
   ],
   "source": [
    "# good and important pattern question...\n",
    "N=int(input())\n",
    "i=1\n",
    "while i<=N:\n",
    "    star=chr(ord('A')+N-1)\n",
    "    j=1\n",
    "    while j<=i:\n",
    "        charp=chr(ord(star)-i+j)\n",
    "        j=j+1\n",
    "        print(charp,end='')\n",
    "    print()\n",
    "    i=i+1    \n"
   ]
  },
  {
   "cell_type": "markdown",
   "id": "354fe46c",
   "metadata": {},
   "source": [
    "### Special Patterns"
   ]
  },
  {
   "cell_type": "code",
   "execution_count": 4,
   "id": "a3dbfe57",
   "metadata": {},
   "outputs": [
    {
     "name": "stdout",
     "output_type": "stream",
     "text": [
      "4\n",
      "1\n",
      "11\n",
      "202\n",
      "3003\n"
     ]
    }
   ],
   "source": [
    "# good and imp. pattern question\n",
    "N=int(input())\n",
    "print(1)\n",
    "i=1\n",
    "while (i<=N-1):\n",
    "    j=1\n",
    "    while (j<=i+1):\n",
    "        if (j==1 or j>=i+1):\n",
    "            print(i,end='')\n",
    "        else:\n",
    "            print('0',end='')\n",
    "        j=j+1\n",
    "    print()\n",
    "    i=i+1    "
   ]
  },
  {
   "cell_type": "code",
   "execution_count": 5,
   "id": "94d15458",
   "metadata": {},
   "outputs": [
    {
     "name": "stdout",
     "output_type": "stream",
     "text": [
      "5\n",
      "1\n",
      "11\n",
      "121\n",
      "1221\n",
      "12221\n"
     ]
    }
   ],
   "source": [
    "N=int(input())\n",
    "i=1\n",
    "while (i<=N):\n",
    "    j=1\n",
    "    while (j<=i):\n",
    "        if (j==1 or j==i):\n",
    "            print(1,end='')\n",
    "        else:\n",
    "            print(2,end='')\n",
    "        \n",
    "        j=j+1\n",
    "    print()\n",
    "    i=i+1     "
   ]
  },
  {
   "cell_type": "code",
   "execution_count": 6,
   "id": "3d863451",
   "metadata": {},
   "outputs": [
    {
     "name": "stdout",
     "output_type": "stream",
     "text": [
      "4\n",
      "1234\n",
      "123\n",
      "12\n",
      "1\n"
     ]
    }
   ],
   "source": [
    "N=int(input())\n",
    "i=1\n",
    "while (i<=N):\n",
    "    j=N\n",
    "    p=1\n",
    "    while (j>=i):\n",
    "        print(p,end='')\n",
    "        p=p+1\n",
    "        j=j-1\n",
    "    print()\n",
    "    i=i+1    "
   ]
  },
  {
   "cell_type": "code",
   "execution_count": 4,
   "id": "0ec3fe2e",
   "metadata": {},
   "outputs": [
    {
     "name": "stdout",
     "output_type": "stream",
     "text": [
      "5\n",
      "*****\n",
      "****\n",
      "***\n",
      "**\n",
      "*\n"
     ]
    }
   ],
   "source": [
    "N=int(input())\n",
    "i=1\n",
    "while (i<=N):\n",
    "    j=N\n",
    "    while(j>=i):\n",
    "        print('*',end='')\n",
    "        j=j-1\n",
    "    print()\n",
    "    i=i+1"
   ]
  },
  {
   "cell_type": "code",
   "execution_count": 5,
   "id": "4e2f51ea",
   "metadata": {},
   "outputs": [
    {
     "name": "stdout",
     "output_type": "stream",
     "text": [
      "6\n",
      "666666\n",
      "55555\n",
      "4444\n",
      "333\n",
      "22\n",
      "1\n"
     ]
    }
   ],
   "source": [
    "N=int(input())                 \n",
    "i=1                          \n",
    "p=N                               \n",
    "while (i<=N):                  \n",
    "    j=N                        \n",
    "    while (j>=i):              \n",
    "        print(p,end='')        \n",
    "        j=j-1\n",
    "    print()\n",
    "    i=i+1\n",
    "    p=p-1   "
   ]
  },
  {
   "cell_type": "raw",
   "id": "392e5bee",
   "metadata": {},
   "source": [
    "    *\n",
    "   **\n",
    "  ***\n",
    " **** \n"
   ]
  },
  {
   "cell_type": "code",
   "execution_count": 7,
   "id": "7d93f642",
   "metadata": {},
   "outputs": [
    {
     "name": "stdout",
     "output_type": "stream",
     "text": [
      "5\n",
      "    *\n",
      "   **\n",
      "  ***\n",
      " ****\n",
      "*****\n"
     ]
    }
   ],
   "source": [
    "N=int(input())\n",
    "i=1\n",
    "while (i<=N):\n",
    "    spaces=1\n",
    "    while (spaces<=N-i):\n",
    "        print(' ',end='')\n",
    "        spaces=spaces+1\n",
    "    stars=1\n",
    "    while(stars<=i):\n",
    "        \n",
    "        print('*',end='')\n",
    "        stars=stars+1\n",
    "    print()\n",
    "    i=i+1\n",
    "    "
   ]
  },
  {
   "cell_type": "code",
   "execution_count": 16,
   "id": "f27281f0",
   "metadata": {},
   "outputs": [
    {
     "name": "stdout",
     "output_type": "stream",
     "text": [
      "4\n",
      "   1\n",
      "  12\n",
      " 123\n",
      "1234\n"
     ]
    }
   ],
   "source": [
    "N=int(input())\n",
    "i=1\n",
    "while(i<=N):\n",
    "    spaces=1\n",
    "    while(spaces<=N-i):\n",
    "        print(' ',end='')\n",
    "        spaces=spaces+1\n",
    "    number=1\n",
    "    while(number<=i):\n",
    "        print(number,end='')\n",
    "        number=number+1\n",
    "    print()\n",
    "    i=i+1 "
   ]
  },
  {
   "cell_type": "code",
   "execution_count": 15,
   "id": "278b8e23",
   "metadata": {},
   "outputs": [
    {
     "name": "stdout",
     "output_type": "stream",
     "text": [
      "4\n",
      "   1\n",
      "  23\n",
      " 456\n",
      "78910\n"
     ]
    }
   ],
   "source": [
    "N=int(input())\n",
    "i=1\n",
    "p=1\n",
    "while(i<=N):\n",
    "    spaces=1\n",
    "    while(spaces<=N-i):\n",
    "        print(' ',end='')\n",
    "        spaces=spaces+1\n",
    "    \n",
    "    number=1\n",
    "    while(number<=i):\n",
    "        print(p,end='')\n",
    "        number=number+1\n",
    "        p=p+1\n",
    "    print()\n",
    "    i=i+1 "
   ]
  },
  {
   "cell_type": "code",
   "execution_count": 26,
   "id": "d12f731a",
   "metadata": {},
   "outputs": [
    {
     "name": "stdout",
     "output_type": "stream",
     "text": [
      "5\n",
      "    1\n",
      "   121\n",
      "  12321\n",
      " 1234321\n",
      "123454321\n"
     ]
    }
   ],
   "source": [
    "N=int(input())\n",
    "i=1\n",
    "while (i<=N):\n",
    "    spaces=1\n",
    "    while(spaces<=N-i):\n",
    "        print(' ',end='')\n",
    "        spaces=spaces+1\n",
    "    num=1\n",
    "    while(num<=i):\n",
    "        print(num,end='')\n",
    "        num=num+1\n",
    "    p=i-1\n",
    "    while(p>=1):\n",
    "        \n",
    "        print(p,end='')\n",
    "        p=p-1\n",
    "    print()\n",
    "    i=i+1"
   ]
  },
  {
   "cell_type": "code",
   "execution_count": 29,
   "id": "513089f9",
   "metadata": {},
   "outputs": [
    {
     "name": "stdout",
     "output_type": "stream",
     "text": [
      "4\n",
      "   1\n",
      "  232\n",
      " 34543\n",
      "4567654\n"
     ]
    }
   ],
   "source": [
    "N = int(input())\n",
    "i = 1\n",
    "while (i <= N):\n",
    "    spaces = 1\n",
    "    while(spaces <= N-i):\n",
    "        print(' ', end='')\n",
    "        spaces = spaces+1\n",
    "    num = 1\n",
    "    p=i\n",
    "    while(num <= i):\n",
    "        print(p, end='')\n",
    "        num = num+1\n",
    "        p=p+1\n",
    "    a = 2*i-2\n",
    "    while(a >= i):\n",
    "\n",
    "        print(a, end='')\n",
    "        a = a-1\n",
    "    print()\n",
    "    i = i+1"
   ]
  },
  {
   "cell_type": "code",
   "execution_count": 37,
   "id": "ccbea02e",
   "metadata": {},
   "outputs": [
    {
     "name": "stdout",
     "output_type": "stream",
     "text": [
      "4\n",
      "   *\n",
      "  ***\n",
      " *****\n",
      "*******\n"
     ]
    }
   ],
   "source": [
    "N = int(input())\n",
    "i = 1\n",
    "while (i <= N):\n",
    "    spaces = 1\n",
    "    while(spaces <= N-i):\n",
    "        print(' ', end='')\n",
    "        spaces = spaces+1\n",
    "    num = 1\n",
    "    while(num <= i):\n",
    "        print('*', end='')\n",
    "        num = num+1\n",
    "    p = i-1\n",
    "    while(p >= 1):\n",
    "\n",
    "        print('*', end='')\n",
    "        p = p-1\n",
    "    print()\n",
    "    i = i+1"
   ]
  },
  {
   "cell_type": "code",
   "execution_count": 41,
   "id": "4c1cf1ca",
   "metadata": {},
   "outputs": [
    {
     "name": "stdout",
     "output_type": "stream",
     "text": [
      "4\n",
      "   *\n",
      "  ***\n",
      " *****\n",
      "*******\n"
     ]
    }
   ],
   "source": [
    "N = int(input())\n",
    "i = 1\n",
    "while (i <= N):\n",
    "    spaces = 1\n",
    "    while(spaces <= N-i):\n",
    "        print(' ', end='')\n",
    "        spaces = spaces+1\n",
    "    num = 1\n",
    "    while(num <= 2*i-1):\n",
    "        print('*', end='')\n",
    "        num = num+1\n",
    "    print()\n",
    "    i=i+1"
   ]
  },
  {
   "cell_type": "code",
   "execution_count": 47,
   "id": "96485263",
   "metadata": {},
   "outputs": [
    {
     "name": "stdout",
     "output_type": "stream",
     "text": [
      "4\n",
      "*******\n",
      " *****\n",
      "  ***\n",
      "   *\n"
     ]
    }
   ],
   "source": [
    "N = int(input())\n",
    "i = N\n",
    "while (i >= 1):\n",
    "    spaces = 1\n",
    "    while(spaces <= N-i):# since at the very first row no space is printed so N-i is valid\n",
    "        print(' ', end='')\n",
    "        spaces = spaces+1\n",
    "    num = 1\n",
    "    while(num <= 2*i-1):\n",
    "        print('*', end='')\n",
    "        num = num+1\n",
    "    print()\n",
    "    i=i-1"
   ]
  },
  {
   "cell_type": "code",
   "execution_count": 11,
   "id": "95749d42",
   "metadata": {},
   "outputs": [
    {
     "name": "stdout",
     "output_type": "stream",
     "text": [
      "7\n",
      "   *\n",
      "  ***\n",
      " *****\n",
      "*******\n",
      " *****\n",
      "  ***\n",
      "   *\n"
     ]
    }
   ],
   "source": [
    "N=int(input())\n",
    "if(N%2==0):\n",
    "    print(\"invalid input\")\n",
    "else:\n",
    "    N1=(N+1)/2\n",
    "    N2=N1-1\n",
    "    i=1\n",
    "    while(i<=N1):\n",
    "        space=1\n",
    "        while(space<=N1-i):\n",
    "            print(' ',end='')\n",
    "            space=space+1\n",
    "        num=1\n",
    "        while(num<=2*i-1):\n",
    "            print('*',end='')\n",
    "            num=num+1\n",
    "        print()\n",
    "        i=i+1\n",
    "    i=N2\n",
    "    while(i>=1):\n",
    "        space=1\n",
    "        while(space<=N2-i+1):#since at the dec part of stars i.e row 4 in this case one space has to be printed so N2-i+1 is used\n",
    "            print(' ',end='')\n",
    "            space=space+1\n",
    "        num=1\n",
    "        while(num<=2*i-1):\n",
    "            print('*',end='')\n",
    "            num=num+1\n",
    "        print()\n",
    "        i=i-1                 "
   ]
  },
  {
   "cell_type": "code",
   "execution_count": 13,
   "id": "1093d907",
   "metadata": {},
   "outputs": [
    {
     "name": "stdout",
     "output_type": "stream",
     "text": [
      "8\n",
      "1              1\n",
      "12            21\n",
      "123          321\n",
      "1234        4321\n",
      "12345      54321\n",
      "123456    654321\n",
      "1234567  7654321\n",
      "1234567887654321\n"
     ]
    }
   ],
   "source": [
    "N=int(input())\n",
    "i=1\n",
    "while(i<=N):\n",
    "    j=1\n",
    "    while(j<=i):\n",
    "        print(j,end='')\n",
    "        j=j+1\n",
    "    space=1\n",
    "    while(space<=2*(N-i)):\n",
    "        print(' ',end='')\n",
    "        space=space+1\n",
    "    p=i\n",
    "    while(p>=1):\n",
    "        print(p,end='')\n",
    "        p=p-1\n",
    "    print()\n",
    "    i=i+1"
   ]
  },
  {
   "cell_type": "code",
   "execution_count": 1,
   "id": "6e3f6ce5",
   "metadata": {},
   "outputs": [
    {
     "name": "stdout",
     "output_type": "stream",
     "text": [
      "31\n",
      "* \n",
      " * * \n",
      "  * * * \n",
      "   * * * * \n",
      "    * * * * * \n",
      "     * * * * * * \n",
      "      * * * * * * * \n",
      "       * * * * * * * * \n",
      "        * * * * * * * * * \n",
      "         * * * * * * * * * * \n",
      "          * * * * * * * * * * * \n",
      "           * * * * * * * * * * * * \n",
      "            * * * * * * * * * * * * * \n",
      "             * * * * * * * * * * * * * * \n",
      "              * * * * * * * * * * * * * * * \n",
      "               * * * * * * * * * * * * * * * * \n",
      "              * * * * * * * * * * * * * * * \n",
      "             * * * * * * * * * * * * * * \n",
      "            * * * * * * * * * * * * * \n",
      "           * * * * * * * * * * * * \n",
      "          * * * * * * * * * * * \n",
      "         * * * * * * * * * * \n",
      "        * * * * * * * * * \n",
      "       * * * * * * * * \n",
      "      * * * * * * * \n",
      "     * * * * * * \n",
      "    * * * * * \n",
      "   * * * * \n",
      "  * * * \n",
      " * * \n",
      "* \n"
     ]
    }
   ],
   "source": [
    "N=int(input())\n",
    "N1=(N+1)//2\n",
    "N2=N1-1\n",
    "i=1\n",
    "while(i<=N1):\n",
    "    space=1\n",
    "    while(space<=i-1):\n",
    "        print(' ',end='')\n",
    "        space=space+1\n",
    "    j=1\n",
    "    while(j<=i):\n",
    "        print('* ',end='')\n",
    "        j=j+1\n",
    "    print()\n",
    "    i=i+1\n",
    "i=N2\n",
    "while(i>=1):\n",
    "    space=1\n",
    "    while(space<=i-1):\n",
    "        print(' ',end='')\n",
    "        space=space+1\n",
    "    j=i\n",
    "    while(j>=1):\n",
    "        print('* ',end='')\n",
    "        j=j-1\n",
    "    print()\n",
    "    i=i-1                    "
   ]
  },
  {
   "cell_type": "code",
   "execution_count": 41,
   "id": "e6f10de2",
   "metadata": {},
   "outputs": [
    {
     "name": "stdout",
     "output_type": "stream",
     "text": [
      "23\n",
      "*0000000000000000000000*0000000000000000000000*\n",
      "0*000000000000000000000*000000000000000000000*0\n",
      "00*00000000000000000000*00000000000000000000*00\n",
      "000*0000000000000000000*0000000000000000000*000\n",
      "0000*000000000000000000*000000000000000000*0000\n",
      "00000*00000000000000000*00000000000000000*00000\n",
      "000000*0000000000000000*0000000000000000*000000\n",
      "0000000*000000000000000*000000000000000*0000000\n",
      "00000000*00000000000000*00000000000000*00000000\n",
      "000000000*0000000000000*0000000000000*000000000\n",
      "0000000000*000000000000*000000000000*0000000000\n",
      "00000000000*00000000000*00000000000*00000000000\n",
      "000000000000*0000000000*0000000000*000000000000\n",
      "0000000000000*000000000*000000000*0000000000000\n",
      "00000000000000*00000000*00000000*00000000000000\n",
      "000000000000000*0000000*0000000*000000000000000\n",
      "0000000000000000*000000*000000*0000000000000000\n",
      "00000000000000000*00000*00000*00000000000000000\n",
      "000000000000000000*0000*0000*000000000000000000\n",
      "0000000000000000000*000*000*0000000000000000000\n",
      "00000000000000000000*00*00*00000000000000000000\n",
      "000000000000000000000*0*0*000000000000000000000\n",
      "0000000000000000000000***0000000000000000000000\n"
     ]
    }
   ],
   "source": [
    "N=int(input())\n",
    "i=1\n",
    "col=2*N+1\n",
    "while(i<=N):\n",
    "    j=1\n",
    "    while(j<=col):\n",
    "        if(j==i or j==(col//2)+1 or j==col-i+1):\n",
    "            print('*',end='')\n",
    "        else:\n",
    "            print(0,end='')\n",
    "        j=j+1\n",
    "    print()\n",
    "    i=i+1        "
   ]
  }
 ],
 "metadata": {
  "kernelspec": {
   "display_name": "Python 3 (ipykernel)",
   "language": "python",
   "name": "python3"
  },
  "language_info": {
   "codemirror_mode": {
    "name": "ipython",
    "version": 3
   },
   "file_extension": ".py",
   "mimetype": "text/x-python",
   "name": "python",
   "nbconvert_exporter": "python",
   "pygments_lexer": "ipython3",
   "version": "3.11.5"
  }
 },
 "nbformat": 4,
 "nbformat_minor": 5
}
