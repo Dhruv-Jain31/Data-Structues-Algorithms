{
 "cells": [
  {
   "cell_type": "markdown",
   "id": "114f08e4-d9cd-4d6e-97d6-e2a82144a77f",
   "metadata": {},
   "source": [
    "### Queue using Array"
   ]
  },
  {
   "cell_type": "code",
   "execution_count": 9,
   "id": "60d9f290-b67a-4b8f-96c7-b7990a8dad9e",
   "metadata": {},
   "outputs": [
    {
     "name": "stdout",
     "output_type": "stream",
     "text": [
      "1\n",
      "3\n",
      "2\n",
      "4\n"
     ]
    }
   ],
   "source": [
    "class Queue_using_array:\n",
    "    def __init__(self):\n",
    "        self.__arr = []\n",
    "        self.__count = 0\n",
    "        self.__front = 0\n",
    "\n",
    "    def enqueue(self,data):\n",
    "        self.__arr.append(data)\n",
    "        self.__count += 1\n",
    "\n",
    "    def dequeue(self):\n",
    "        if self.__count == 0:\n",
    "            return -1\n",
    "        ele = self.__arr[self.__front]\n",
    "        self.__front += 1\n",
    "        self.__count -=1\n",
    "        return ele\n",
    "\n",
    "    def size(self):\n",
    "        return self.__count\n",
    "\n",
    "    def front(self):\n",
    "        if self.__count == 0:\n",
    "            return -1\n",
    "        return self.__arr[self.__front]\n",
    "    def isEmpty(self):\n",
    "        return self.size() == 0\n",
    "\n",
    "q = Queue_using_array()\n",
    "q.enqueue(1)\n",
    "q.enqueue(2)\n",
    "q.enqueue(3)\n",
    "q.enqueue(4)\n",
    "\n",
    "print(q.front())\n",
    "q.dequeue()\n",
    "print(q.size())\n",
    "print(q.front())\n",
    "q.enqueue(10)\n",
    "print(q.size())"
   ]
  },
  {
   "cell_type": "markdown",
   "id": "242b05c9-ddac-4aee-aeb1-99489856fade",
   "metadata": {},
   "source": [
    "### Queue using ll"
   ]
  },
  {
   "cell_type": "code",
   "execution_count": 3,
   "id": "600ab6a8-7e56-497d-a4c6-7459d02b6a75",
   "metadata": {},
   "outputs": [
    {
     "name": "stdout",
     "output_type": "stream",
     "text": [
      "1\n",
      "4\n",
      "3\n",
      "2\n"
     ]
    }
   ],
   "source": [
    "class Node:\n",
    "    def __init__(self,data):\n",
    "        self.data = data\n",
    "        self.next = None\n",
    "\n",
    "class Queue_using_ll:\n",
    "    def __init__(self):\n",
    "        self.__head = None\n",
    "        self.__count = 0\n",
    "        self.__tail = None\n",
    "\n",
    "    def enqueue(self,element):\n",
    "        newNode = Node(element)\n",
    "        if self.__head is None:\n",
    "            self.__head = newNode\n",
    "            self.__tail = newNode\n",
    "            \n",
    "        else:\n",
    "            self.__tail.next = newNode\n",
    "            self.__tail = newNode\n",
    "        self.__count +=1\n",
    "\n",
    "    def dequeue(self):\n",
    "        if self.__head == None:\n",
    "            print(\"empty queue\")\n",
    "            return\n",
    "        else:\n",
    "            data = self.__head.data\n",
    "            self.__head = self.__head.next\n",
    "            self.__count -=1 \n",
    "            return data\n",
    "          \n",
    "\n",
    "    def front(self):\n",
    "        if self.__count == 0:\n",
    "            return -1\n",
    "        else:\n",
    "            return self.__head.data\n",
    "\n",
    "    def size(self):\n",
    "        return self.__count\n",
    "\n",
    "    def isEmpty(self):\n",
    "        if self.__count == 0:\n",
    "            return True\n",
    "        else:\n",
    "            return False\n",
    "            \n",
    "            \n",
    "q = Queue_using_ll()\n",
    "q.enqueue(1)\n",
    "q.enqueue(2)\n",
    "q.enqueue(3)\n",
    "q.enqueue(4)\n",
    "print(q.front())\n",
    "print(q.size())\n",
    "q.dequeue()\n",
    "q.dequeue()\n",
    "print(q.front())\n",
    "print(q.size())\n",
    "\n",
    "\n",
    "            \n",
    "\n"
   ]
  },
  {
   "cell_type": "markdown",
   "id": "6484882e-9bcd-47b4-ab15-d2af0331b367",
   "metadata": {},
   "source": [
    "### inbulit stacks and queues"
   ]
  },
  {
   "cell_type": "markdown",
   "id": "e9bec9d2-17b7-49e4-be68-9933b1c88388",
   "metadata": {},
   "source": [
    "we can easily implement a stack and a queue using a queue library in python although stack can easily be\n",
    "implemented using a list but for queue one have to maintain a pointer pointing to first element which is \n",
    "sort of problematic."
   ]
  },
  {
   "cell_type": "markdown",
   "id": "081b2217-e8d9-4514-b0be-659c1185feb0",
   "metadata": {},
   "source": [
    "### implementation of queue "
   ]
  },
  {
   "cell_type": "code",
   "execution_count": 10,
   "id": "5688c3ed-d5e4-4710-b591-7d0321a2fe62",
   "metadata": {},
   "outputs": [
    {
     "name": "stdout",
     "output_type": "stream",
     "text": [
      "1\n",
      "False\n",
      "3\n"
     ]
    }
   ],
   "source": [
    "import queue\n",
    "q = queue.Queue() # library has a queue class\n",
    "# for enqueue\n",
    "q.put(1)\n",
    "q.put(2)\n",
    "q.put(3)\n",
    "q.put(4)\n",
    "\n",
    "# for dequeue\n",
    "r = q.get()\n",
    "print(r)\n",
    "\n",
    "# for empty function\n",
    "print(q.empty())\n",
    "\n",
    "# for size\n",
    "print(q.qsize())"
   ]
  },
  {
   "cell_type": "markdown",
   "id": "a073627d-ba45-43b2-904c-7ad185e8ef86",
   "metadata": {},
   "source": [
    "### implementation of stack using the queue library"
   ]
  },
  {
   "cell_type": "code",
   "execution_count": 11,
   "id": "4826f186-402e-4900-89d0-aa6bc833f247",
   "metadata": {},
   "outputs": [
    {
     "name": "stdout",
     "output_type": "stream",
     "text": [
      "4\n",
      "False\n",
      "3\n"
     ]
    }
   ],
   "source": [
    "import queue\n",
    "q = queue.LifoQueue() # this makes a stack class\n",
    "\n",
    "# for push\n",
    "q.put(1)\n",
    "q.put(2)\n",
    "q.put(3)\n",
    "q.put(4)\n",
    "\n",
    "# for pop\n",
    "r = q.get()\n",
    "print(r)\n",
    "\n",
    "# for empty function\n",
    "print(q.empty())\n",
    "\n",
    "# for size\n",
    "print(q.qsize())\n"
   ]
  },
  {
   "cell_type": "markdown",
   "id": "e6d07bcd-a4a7-4fcb-93c4-33481c5dc5d8",
   "metadata": {},
   "source": [
    "### Queue using two stacks"
   ]
  },
  {
   "cell_type": "markdown",
   "id": "3636d30f-d85a-4a0b-9aad-762b594ff266",
   "metadata": {},
   "source": [
    "in this if enqueue is O(1) then dequeue will be O(n) and vice verse. Firstly n-1 elements are to be \n",
    "moved in 2nd stack and then pop is performed and then all the elements from 2nd stack are to be moved \n",
    "in 1st stack."
   ]
  },
  {
   "cell_type": "code",
   "execution_count": 23,
   "id": "9dc3ab85-30a9-4f4c-8779-883d468d72d8",
   "metadata": {},
   "outputs": [
    {
     "name": "stdout",
     "output_type": "stream",
     "text": [
      "1\n",
      "4\n",
      "1\n",
      "2\n",
      "3\n",
      "4\n",
      "Empty\n"
     ]
    }
   ],
   "source": [
    "class Queue_using_two_stacks:\n",
    "    def __init__(self):\n",
    "        self.__s1 = []\n",
    "        self.__s2 = []\n",
    "    def enqueue(self,data):\n",
    "        #O(1)\n",
    "        return self.__s1.append(data)\n",
    "    def dequeue(self):\n",
    "        #O(n)\n",
    "        while(len(self.__s1)!=1): # it is done since (n-1) elements to be moved in s2 and then pop is done on s1\n",
    "            self.__s2.append(self.__s1.pop())\n",
    "        print(self.__s1.pop())    \n",
    "        while(len(self.__s2)!=0):\n",
    "            self.__s1.append(self.__s2.pop())\n",
    "        return\n",
    "\n",
    "    def front(self):\n",
    "        if (len(self.__s1) == 0):\n",
    "            return (\"Empty\")\n",
    "        else:\n",
    "            return self.__s1[0]\n",
    "\n",
    "    def size(self):\n",
    "        return len(self.__s1)\n",
    "\n",
    "    def isEmpty(self):\n",
    "        if (len(self.__s1) == 0):\n",
    "            return True\n",
    "        else:\n",
    "            return False\n",
    "\n",
    "q = Queue_using_two_stacks()\n",
    "q.enqueue(1)\n",
    "q.enqueue(2)\n",
    "q.enqueue(3)\n",
    "q.enqueue(4)\n",
    "print(q.front())\n",
    "\n",
    "print(q.size())\n",
    "\n",
    "\n",
    "while (q.isEmpty() is False):\n",
    "    q.dequeue()\n",
    "print(q.front())    \n",
    "  "
   ]
  },
  {
   "cell_type": "markdown",
   "id": "8d053fc6-a395-48ac-b249-48bc8c3e1cc4",
   "metadata": {},
   "source": [
    "### Stack using two queues"
   ]
  },
  {
   "cell_type": "code",
   "execution_count": null,
   "id": "fa32e653-e333-4979-ad26-b6e54b407597",
   "metadata": {},
   "outputs": [],
   "source": []
  }
 ],
 "metadata": {
  "kernelspec": {
   "display_name": "Python 3 (ipykernel)",
   "language": "python",
   "name": "python3"
  },
  "language_info": {
   "codemirror_mode": {
    "name": "ipython",
    "version": 3
   },
   "file_extension": ".py",
   "mimetype": "text/x-python",
   "name": "python",
   "nbconvert_exporter": "python",
   "pygments_lexer": "ipython3",
   "version": "3.11.5"
  }
 },
 "nbformat": 4,
 "nbformat_minor": 5
}
