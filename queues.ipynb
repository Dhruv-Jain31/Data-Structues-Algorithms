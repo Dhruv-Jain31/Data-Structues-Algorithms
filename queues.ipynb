{
 "cells": [
  {
   "cell_type": "markdown",
   "id": "114f08e4-d9cd-4d6e-97d6-e2a82144a77f",
   "metadata": {},
   "source": [
    "### Queue using Array"
   ]
  },
  {
   "cell_type": "code",
   "execution_count": 1,
   "id": "374fc127-15f3-4d75-9bc7-254de2243f39",
   "metadata": {},
   "outputs": [
    {
     "ename": "SyntaxError",
     "evalue": "incomplete input (2863730623.py, line 22)",
     "output_type": "error",
     "traceback": [
      "\u001b[1;36m  Cell \u001b[1;32mIn[1], line 22\u001b[1;36m\u001b[0m\n\u001b[1;33m    def front(self):\u001b[0m\n\u001b[1;37m                    ^\u001b[0m\n\u001b[1;31mSyntaxError\u001b[0m\u001b[1;31m:\u001b[0m incomplete input\n"
     ]
    }
   ],
   "source": [
    "class Queue_using_array:\n",
    "    def __init__(self):\n",
    "        self.__arr = []\n",
    "        self.__count = 0\n",
    "        self.__front = 0\n",
    "\n",
    "    def enqueue(self,data):\n",
    "        self.__arr.append(data)\n",
    "        self.__count += 1\n",
    "\n",
    "    def dequeue(self):\n",
    "        if self.__count == 0:\n",
    "            return -1\n",
    "        ele = self.__arr[self.__front]\n",
    "        self.__front += 1\n",
    "        self.__count -=1\n",
    "        return ele\n",
    "\n",
    "    def size(self):\n",
    "        return self.__count\n",
    "\n",
    "    def front(self):\n",
    "        if self.__count == 0:\n",
    "            return -1\n",
    "        return self.__arr[self.__front]\n",
    "    def isEmpty(self):\n",
    "        return self.size() == 0\n",
    "\n"
   ]
  },
  {
   "cell_type": "code",
   "execution_count": null,
   "id": "25ed9909-3df9-4c79-b110-3aacf8d6b0e6",
   "metadata": {},
   "outputs": [],
   "source": []
  }
 ],
 "metadata": {
  "kernelspec": {
   "display_name": "Python 3 (ipykernel)",
   "language": "python",
   "name": "python3"
  },
  "language_info": {
   "codemirror_mode": {
    "name": "ipython",
    "version": 3
   },
   "file_extension": ".py",
   "mimetype": "text/x-python",
   "name": "python",
   "nbconvert_exporter": "python",
   "pygments_lexer": "ipython3",
   "version": "3.11.5"
  }
 },
 "nbformat": 4,
 "nbformat_minor": 5
}
