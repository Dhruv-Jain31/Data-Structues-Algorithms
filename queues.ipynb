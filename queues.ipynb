{
 "cells": [
  {
   "cell_type": "markdown",
   "id": "114f08e4-d9cd-4d6e-97d6-e2a82144a77f",
   "metadata": {},
   "source": [
    "### Queue using Array"
   ]
  },
  {
   "cell_type": "code",
   "execution_count": 9,
   "id": "60d9f290-b67a-4b8f-96c7-b7990a8dad9e",
   "metadata": {},
   "outputs": [
    {
     "name": "stdout",
     "output_type": "stream",
     "text": [
      "1\n",
      "3\n",
      "2\n",
      "4\n"
     ]
    }
   ],
   "source": [
    "class Queue_using_array:\n",
    "    def __init__(self):\n",
    "        self.__arr = []\n",
    "        self.__count = 0\n",
    "        self.__front = 0\n",
    "\n",
    "    def enqueue(self,data):\n",
    "        self.__arr.append(data)\n",
    "        self.__count += 1\n",
    "\n",
    "    def dequeue(self):\n",
    "        if self.__count == 0:\n",
    "            return -1\n",
    "        ele = self.__arr[self.__front]\n",
    "        self.__front += 1\n",
    "        self.__count -=1\n",
    "        return ele\n",
    "\n",
    "    def size(self):\n",
    "        return self.__count\n",
    "\n",
    "    def front(self):\n",
    "        if self.__count == 0:\n",
    "            return -1\n",
    "        return self.__arr[self.__front]\n",
    "    def isEmpty(self):\n",
    "        return self.size() == 0\n",
    "\n",
    "q = Queue_using_array()\n",
    "q.enqueue(1)\n",
    "q.enqueue(2)\n",
    "q.enqueue(3)\n",
    "q.enqueue(4)\n",
    "\n",
    "print(q.front())\n",
    "q.dequeue()\n",
    "print(q.size())\n",
    "print(q.front())\n",
    "q.enqueue(10)\n",
    "print(q.size())"
   ]
  },
  {
   "cell_type": "markdown",
   "id": "242b05c9-ddac-4aee-aeb1-99489856fade",
   "metadata": {},
   "source": [
    "### Queue using ll"
   ]
  },
  {
   "cell_type": "code",
   "execution_count": 1,
   "id": "600ab6a8-7e56-497d-a4c6-7459d02b6a75",
   "metadata": {},
   "outputs": [
    {
     "ename": "AttributeError",
     "evalue": "'Queue_using_ll' object has no attribute '_Queue_using_ll__head'",
     "output_type": "error",
     "traceback": [
      "\u001b[1;31m---------------------------------------------------------------------------\u001b[0m",
      "\u001b[1;31mAttributeError\u001b[0m                            Traceback (most recent call last)",
      "Cell \u001b[1;32mIn[1], line 46\u001b[0m\n\u001b[0;32m     42\u001b[0m             \u001b[38;5;28;01mreturn\u001b[39;00m \u001b[38;5;28;01mFalse\u001b[39;00m\n\u001b[0;32m     45\u001b[0m q \u001b[38;5;241m=\u001b[39m Queue_using_ll()\n\u001b[1;32m---> 46\u001b[0m \u001b[43mq\u001b[49m\u001b[38;5;241;43m.\u001b[39;49m\u001b[43menqueue\u001b[49m\u001b[43m(\u001b[49m\u001b[38;5;241;43m1\u001b[39;49m\u001b[43m)\u001b[49m\n\u001b[0;32m     47\u001b[0m q\u001b[38;5;241m.\u001b[39menqueue(\u001b[38;5;241m2\u001b[39m)\n\u001b[0;32m     48\u001b[0m q\u001b[38;5;241m.\u001b[39menqueue(\u001b[38;5;241m3\u001b[39m)\n",
      "Cell \u001b[1;32mIn[1], line 14\u001b[0m, in \u001b[0;36mQueue_using_ll.enqueue\u001b[1;34m(self, element)\u001b[0m\n\u001b[0;32m     12\u001b[0m \u001b[38;5;28;01mdef\u001b[39;00m \u001b[38;5;21menqueue\u001b[39m(\u001b[38;5;28mself\u001b[39m,element):\n\u001b[0;32m     13\u001b[0m     newNode \u001b[38;5;241m=\u001b[39m Node(element)\n\u001b[1;32m---> 14\u001b[0m     \u001b[38;5;28;01mif\u001b[39;00m \u001b[38;5;28;43mself\u001b[39;49m\u001b[38;5;241;43m.\u001b[39;49m\u001b[43m__head\u001b[49m \u001b[38;5;129;01mis\u001b[39;00m \u001b[38;5;28;01mNone\u001b[39;00m:\n\u001b[0;32m     15\u001b[0m         \u001b[38;5;28mself\u001b[39m\u001b[38;5;241m.\u001b[39m__head \u001b[38;5;241m=\u001b[39m newNode\n\u001b[0;32m     16\u001b[0m         \u001b[38;5;28mself\u001b[39m\u001b[38;5;241m.\u001b[39m__tail \u001b[38;5;241m=\u001b[39m newNode\n",
      "\u001b[1;31mAttributeError\u001b[0m: 'Queue_using_ll' object has no attribute '_Queue_using_ll__head'"
     ]
    }
   ],
   "source": [
    "class Node:\n",
    "    def __init__(self,data):\n",
    "        self.data = data\n",
    "        self.next = None\n",
    "\n",
    "class Queue_using_ll:\n",
    "    def __init__(self):\n",
    "        self.__head = None\n",
    "        self.__count = 0\n",
    "        self.__tail = None\n",
    "\n",
    "    def enqueue(self,element):\n",
    "        newNode = Node(element)\n",
    "        if self.__head is None:\n",
    "            self.__head = newNode\n",
    "            self.__tail = newNode\n",
    "            \n",
    "        else:\n",
    "            self.__tail.next = newNode\n",
    "            self.__tail = newNode\n",
    "        self.__count +=1\n",
    "\n",
    "    def dequeue(self):\n",
    "        if self.__head == None:\n",
    "            print(\"empty queue\")\n",
    "            return\n",
    "        else:\n",
    "            data = self.__head.data\n",
    "            self.__head = self.__head.next\n",
    "             self.__count -=1 \n",
    "            return data\n",
    "          \n",
    "\n",
    "    def front(self):\n",
    "        if self.__count == 0:\n",
    "            return -1\n",
    "        else:\n",
    "            return self.__head.data\n",
    "\n",
    "    def size(self):\n",
    "        return self.__count\n",
    "\n",
    "    def isEmpty(self):\n",
    "        if self.__count == 0:\n",
    "            return True\n",
    "        else:\n",
    "            return False\n",
    "            \n",
    "            \n",
    "q = Queue_using_ll()\n",
    "q.enqueue(1)\n",
    "q.enqueue(2)\n",
    "q.enqueue(3)\n",
    "q.enqueue(4)\n",
    "print(q.front())\n",
    "print(q.size())\n",
    "q.dequeue()\n",
    "q.dequeue()\n",
    "print(q.front())\n",
    "print(q.size())\n",
    "\n",
    "\n",
    "            \n",
    "\n"
   ]
  }
 ],
 "metadata": {
  "kernelspec": {
   "display_name": "Python 3 (ipykernel)",
   "language": "python",
   "name": "python3"
  },
  "language_info": {
   "codemirror_mode": {
    "name": "ipython",
    "version": 3
   },
   "file_extension": ".py",
   "mimetype": "text/x-python",
   "name": "python",
   "nbconvert_exporter": "python",
   "pygments_lexer": "ipython3",
   "version": "3.11.5"
  }
 },
 "nbformat": 4,
 "nbformat_minor": 5
}
