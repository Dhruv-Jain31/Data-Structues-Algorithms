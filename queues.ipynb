{
 "cells": [
  {
   "cell_type": "markdown",
   "id": "114f08e4-d9cd-4d6e-97d6-e2a82144a77f",
   "metadata": {},
   "source": [
    "### Queue using Array"
   ]
  },
  {
   "cell_type": "code",
   "execution_count": null,
   "id": "374fc127-15f3-4d75-9bc7-254de2243f39",
   "metadata": {},
   "outputs": [],
   "source": []
  }
 ],
 "metadata": {
  "kernelspec": {
   "display_name": "Python 3 (ipykernel)",
   "language": "python",
   "name": "python3"
  },
  "language_info": {
   "codemirror_mode": {
    "name": "ipython",
    "version": 3
   },
   "file_extension": ".py",
   "mimetype": "text/x-python",
   "name": "python",
   "nbconvert_exporter": "python",
   "pygments_lexer": "ipython3",
   "version": "3.11.5"
  }
 },
 "nbformat": 4,
 "nbformat_minor": 5
}
