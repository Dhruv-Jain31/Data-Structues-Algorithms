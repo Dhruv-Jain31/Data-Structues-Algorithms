{
 "cells": [
  {
   "cell_type": "markdown",
   "id": "114f08e4-d9cd-4d6e-97d6-e2a82144a77f",
   "metadata": {},
   "source": [
    "### Queue using Array"
   ]
  },
  {
   "cell_type": "code",
   "execution_count": 9,
   "id": "60d9f290-b67a-4b8f-96c7-b7990a8dad9e",
   "metadata": {},
   "outputs": [
    {
     "name": "stdout",
     "output_type": "stream",
     "text": [
      "1\n",
      "3\n",
      "2\n",
      "4\n"
     ]
    }
   ],
   "source": [
    "class Queue_using_array:\n",
    "    def __init__(self):\n",
    "        self.__arr = []\n",
    "        self.__count = 0\n",
    "        self.__front = 0\n",
    "\n",
    "    def enqueue(self,data):\n",
    "        self.__arr.append(data)\n",
    "        self.__count += 1\n",
    "\n",
    "    def dequeue(self):\n",
    "        if self.__count == 0:\n",
    "            return -1\n",
    "        ele = self.__arr[self.__front]\n",
    "        self.__front += 1\n",
    "        self.__count -=1\n",
    "        return ele\n",
    "\n",
    "    def size(self):\n",
    "        return self.__count\n",
    "\n",
    "    def front(self):\n",
    "        if self.__count == 0:\n",
    "            return -1\n",
    "        return self.__arr[self.__front]\n",
    "    def isEmpty(self):\n",
    "        return self.size() == 0\n",
    "\n",
    "q = Queue_using_array()\n",
    "q.enqueue(1)\n",
    "q.enqueue(2)\n",
    "q.enqueue(3)\n",
    "q.enqueue(4)\n",
    "\n",
    "print(q.front())\n",
    "q.dequeue()\n",
    "print(q.size())\n",
    "print(q.front())\n",
    "q.enqueue(10)\n",
    "print(q.size())"
   ]
  },
  {
   "cell_type": "markdown",
   "id": "242b05c9-ddac-4aee-aeb1-99489856fade",
   "metadata": {},
   "source": [
    "### Queue using ll"
   ]
  },
  {
   "cell_type": "code",
   "execution_count": 3,
   "id": "600ab6a8-7e56-497d-a4c6-7459d02b6a75",
   "metadata": {},
   "outputs": [
    {
     "name": "stdout",
     "output_type": "stream",
     "text": [
      "1\n",
      "4\n",
      "3\n",
      "2\n"
     ]
    }
   ],
   "source": [
    "class Node:\n",
    "    def __init__(self,data):\n",
    "        self.data = data\n",
    "        self.next = None\n",
    "\n",
    "class Queue_using_ll:\n",
    "    def __init__(self):\n",
    "        self.__head = None\n",
    "        self.__count = 0\n",
    "        self.__tail = None\n",
    "\n",
    "    def enqueue(self,element):\n",
    "        newNode = Node(element)\n",
    "        if self.__head is None:\n",
    "            self.__head = newNode\n",
    "            self.__tail = newNode\n",
    "            \n",
    "        else:\n",
    "            self.__tail.next = newNode\n",
    "            self.__tail = newNode\n",
    "        self.__count +=1\n",
    "\n",
    "    def dequeue(self):\n",
    "        if self.__head == None:\n",
    "            print(\"empty queue\")\n",
    "            return\n",
    "        else:\n",
    "            data = self.__head.data\n",
    "            self.__head = self.__head.next\n",
    "            self.__count -=1 \n",
    "            return data\n",
    "          \n",
    "\n",
    "    def front(self):\n",
    "        if self.__count == 0:\n",
    "            return -1\n",
    "        else:\n",
    "            return self.__head.data\n",
    "\n",
    "    def size(self):\n",
    "        return self.__count\n",
    "\n",
    "    def isEmpty(self):\n",
    "        if self.__count == 0:\n",
    "            return True\n",
    "        else:\n",
    "            return False\n",
    "            \n",
    "            \n",
    "q = Queue_using_ll()\n",
    "q.enqueue(1)\n",
    "q.enqueue(2)\n",
    "q.enqueue(3)\n",
    "q.enqueue(4)\n",
    "print(q.front())\n",
    "print(q.size())\n",
    "q.dequeue()\n",
    "q.dequeue()\n",
    "print(q.front())\n",
    "print(q.size())\n",
    "\n",
    "\n",
    "            \n",
    "\n"
   ]
  },
  {
   "cell_type": "markdown",
   "id": "6484882e-9bcd-47b4-ab15-d2af0331b367",
   "metadata": {},
   "source": [
    "### Queue using two stacks"
   ]
  },
  {
   "cell_type": "code",
   "execution_count": null,
   "id": "854bd951-66af-4de0-9728-24207ad7ac05",
   "metadata": {},
   "outputs": [],
   "source": []
  }
 ],
 "metadata": {
  "kernelspec": {
   "display_name": "Python 3 (ipykernel)",
   "language": "python",
   "name": "python3"
  },
  "language_info": {
   "codemirror_mode": {
    "name": "ipython",
    "version": 3
   },
   "file_extension": ".py",
   "mimetype": "text/x-python",
   "name": "python",
   "nbconvert_exporter": "python",
   "pygments_lexer": "ipython3",
   "version": "3.11.5"
  }
 },
 "nbformat": 4,
 "nbformat_minor": 5
}
