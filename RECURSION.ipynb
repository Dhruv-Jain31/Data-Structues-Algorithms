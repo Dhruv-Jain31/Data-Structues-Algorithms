{
 "cells": [
  {
   "cell_type": "code",
   "execution_count": 4,
   "id": "2150968d",
   "metadata": {},
   "outputs": [],
   "source": [
    "def fact(n):\n",
    "    if n==0:\n",
    "        return 1\n",
    "    return n*fact(n-1)"
   ]
  },
  {
   "cell_type": "code",
   "execution_count": 5,
   "id": "ac872ee0",
   "metadata": {},
   "outputs": [
    {
     "name": "stdin",
     "output_type": "stream",
     "text": [
      " 6\n"
     ]
    },
    {
     "data": {
      "text/plain": [
       "720"
      ]
     },
     "execution_count": 5,
     "metadata": {},
     "output_type": "execute_result"
    }
   ],
   "source": [
    "n=int(input())\n",
    "fact(n)"
   ]
  },
  {
   "cell_type": "code",
   "execution_count": 7,
   "id": "0ffc70c8",
   "metadata": {},
   "outputs": [],
   "source": [
    "def sum_n (n):\n",
    "    if n == 0:\n",
    "        return 0\n",
    "    small_output = sum_n(n-1)\n",
    "    output= n + small_output\n",
    "    return output\n",
    "    "
   ]
  },
  {
   "cell_type": "code",
   "execution_count": 9,
   "id": "824f8487",
   "metadata": {},
   "outputs": [
    {
     "name": "stdout",
     "output_type": "stream",
     "text": [
      "10\n"
     ]
    },
    {
     "data": {
      "text/plain": [
       "55"
      ]
     },
     "execution_count": 9,
     "metadata": {},
     "output_type": "execute_result"
    }
   ],
   "source": [
    "n = int(input())\n",
    "sum_n(n)\n"
   ]
  },
  {
   "cell_type": "code",
   "execution_count": 24,
   "id": "9c150ebb",
   "metadata": {},
   "outputs": [
    {
     "name": "stdout",
     "output_type": "stream",
     "text": [
      "0 0\n"
     ]
    },
    {
     "data": {
      "text/plain": [
       "1"
      ]
     },
     "execution_count": 24,
     "metadata": {},
     "output_type": "execute_result"
    }
   ],
   "source": [
    "def power(a,b):\n",
    "    if b==0:\n",
    "        return 1\n",
    "    else:\n",
    "        small_output = power(a,(b-1))\n",
    "        output = a*small_output\n",
    "        return output\n",
    "\n",
    "x, y = input().split()\n",
    "x = int(x)\n",
    "y = int(y)\n",
    "power(x , y)  "
   ]
  },
  {
   "cell_type": "code",
   "execution_count": 1,
   "id": "64795cc7",
   "metadata": {},
   "outputs": [],
   "source": [
    "def print1_n(n):\n",
    "    if n==0:\n",
    "        return\n",
    "    print1_n(n-1)\n",
    "    print(n,end=' ')\n",
    "    \n",
    "    "
   ]
  },
  {
   "cell_type": "code",
   "execution_count": 2,
   "id": "c26a3154",
   "metadata": {},
   "outputs": [
    {
     "name": "stdout",
     "output_type": "stream",
     "text": [
      "24\n",
      "1 2 3 4 5 6 7 8 9 10 11 12 13 14 15 16 17 18 19 20 21 22 23 24 "
     ]
    }
   ],
   "source": [
    "n=int(input())\n",
    "print1_n(n)"
   ]
  },
  {
   "cell_type": "code",
   "execution_count": 6,
   "id": "d1d438ea",
   "metadata": {},
   "outputs": [],
   "source": [
    "def printn_1(n):\n",
    "    if n==0:\n",
    "        return\n",
    "    print(n,end=' ')\n",
    "    printn_1(n-1)\n",
    "    return"
   ]
  },
  {
   "cell_type": "code",
   "execution_count": 7,
   "id": "b77d1716",
   "metadata": {},
   "outputs": [
    {
     "name": "stdout",
     "output_type": "stream",
     "text": [
      "23\n",
      "23 22 21 20 19 18 17 16 15 14 13 12 11 10 9 8 7 6 5 4 3 2 1 "
     ]
    }
   ],
   "source": [
    "n=int(input())\n",
    "printn_1(n)"
   ]
  },
  {
   "cell_type": "code",
   "execution_count": 8,
   "id": "f7044fd1",
   "metadata": {},
   "outputs": [],
   "source": [
    "def fib(n):\n",
    "    if n==1 or n==2:\n",
    "        return 1\n",
    "    fib_n_1 = fib(n-1)\n",
    "    fib_n_2 = fib(n-2)\n",
    "    output = fib_n_1 + fib_n_2\n",
    "    return output"
   ]
  },
  {
   "cell_type": "code",
   "execution_count": 11,
   "id": "1e7aebcc",
   "metadata": {},
   "outputs": [
    {
     "name": "stdout",
     "output_type": "stream",
     "text": [
      "8\n",
      "21\n"
     ]
    }
   ],
   "source": [
    "n=int(input())\n",
    "print(fib(n))"
   ]
  },
  {
   "cell_type": "code",
   "execution_count": 5,
   "id": "fc797528",
   "metadata": {},
   "outputs": [
    {
     "name": "stdout",
     "output_type": "stream",
     "text": [
      "40\n"
     ]
    }
   ],
   "source": [
    "def fun(n):\n",
    "    if(n == 4):\n",
    "        return n + 1\n",
    "    else:\n",
    "        return 2*fun(n+1)\n",
    "\n",
    "\n",
    "print(fun(1))"
   ]
  },
  {
   "cell_type": "code",
   "execution_count": 15,
   "id": "8b1e28b5",
   "metadata": {},
   "outputs": [],
   "source": [
    "def is_sorted(a):\n",
    "    l= len(a)\n",
    "    if l == 0 or l == 1:\n",
    "        return True\n",
    "    if a[0] > a[1]:\n",
    "        return False\n",
    "    smaller_list = a[1:]\n",
    "    is_smaller_list_sorted = is_sorted(smaller_list)\n",
    "    if is_smaller_list_sorted:\n",
    "        return True\n",
    "    else:\n",
    "        return False\n",
    "    "
   ]
  },
  {
   "cell_type": "code",
   "execution_count": 16,
   "id": "cf2a253a",
   "metadata": {},
   "outputs": [
    {
     "data": {
      "text/plain": [
       "False"
      ]
     },
     "execution_count": 16,
     "metadata": {},
     "output_type": "execute_result"
    }
   ],
   "source": [
    "a = [1,3,5,4,6,7,4,78,7]\n",
    "is_sorted(a)"
   ]
  },
  {
   "cell_type": "code",
   "execution_count": 1,
   "id": "b6c29415",
   "metadata": {},
   "outputs": [],
   "source": [
    "def sumArray(arr):\n",
    "    # Please add your code here\n",
    "    if len(arr) == 1:\n",
    "        return arr[0]\n",
    "    else:\n",
    "        smallerlist = arr[1:]\n",
    "        sum_of_elements = sumArray(smallerlist)\n",
    "        sum_of_elements += arr[0]\n",
    "        return sum_of_elements "
   ]
  },
  {
   "cell_type": "markdown",
   "id": "dd5da919-9804-4021-922a-a9f9370894a1",
   "metadata": {},
   "source": [
    "call recursion on a smaller part of code until you reach where length of list is 1 then while returing \n",
    "add arr[0] to sum_of_elements variable."
   ]
  },
  {
   "cell_type": "code",
   "execution_count": 2,
   "id": "273d546f",
   "metadata": {},
   "outputs": [
    {
     "name": "stdin",
     "output_type": "stream",
     "text": [
      " 26\n",
      " 15 24 58 61 79 3 97 81 81 45 62 21 72 72 68 45 11 50 87 20 28 77 51 89 58 66 \n"
     ]
    },
    {
     "name": "stdout",
     "output_type": "stream",
     "text": [
      "1421\n"
     ]
    }
   ],
   "source": [
    "n=int(input())\n",
    "arr=list(int(i) for i in input().strip().split(' '))\n",
    "sum_ele = 0\n",
    "print(sumArray(arr))\n"
   ]
  },
  {
   "cell_type": "code",
   "execution_count": 5,
   "id": "d9be510b-6071-4750-932e-47d08b72aec5",
   "metadata": {},
   "outputs": [],
   "source": [
    "def subtractArray(arr):\n",
    "    # Please add your code here\n",
    "    if len(arr) == 1:\n",
    "        return arr[0]\n",
    "    else:\n",
    "        smallerlist = arr[1:]\n",
    "        diff_of_elements = subtractArray(smallerlist)\n",
    "        diff_of_elements -= arr[0]\n",
    "        return diff_of_elements "
   ]
  },
  {
   "cell_type": "code",
   "execution_count": 6,
   "id": "5a5272df-2ba1-43b4-abc7-1d6d71512886",
   "metadata": {},
   "outputs": [
    {
     "name": "stdin",
     "output_type": "stream",
     "text": [
      " 6\n",
      " 1 2 3 4 5 6\n"
     ]
    },
    {
     "name": "stdout",
     "output_type": "stream",
     "text": [
      "-9\n"
     ]
    }
   ],
   "source": [
    "n=int(input())\n",
    "arr=list(int(i) for i in input().strip().split(' '))\n",
    "diff_of_elements = 0\n",
    "print(subtractArray(arr))"
   ]
  },
  {
   "cell_type": "code",
   "execution_count": 1,
   "id": "9387d248",
   "metadata": {},
   "outputs": [],
   "source": [
    "def checkNumber(arr):\n",
    "    # Please add your code here\n",
    "   \n",
    "    if arr[0] == x:\n",
    "        return True\n",
    "    else:\n",
    "        smallerlist = arr[1:]\n",
    "        if smallerlist[0] == x:\n",
    "            return True\n",
    "        elif len(smallerlist) == 1:\n",
    "            return False\n",
    "        else:\n",
    "            ele_present = checkNumber(smallerlist)\n",
    "    return ele_present\n"
   ]
  },
  {
   "cell_type": "code",
   "execution_count": 2,
   "id": "1c1f3d38",
   "metadata": {},
   "outputs": [
    {
     "name": "stdout",
     "output_type": "stream",
     "text": [
      "10\n",
      "21 22 46 12 61 21 33 16 99 96 \n",
      "25\n",
      "false\n"
     ]
    }
   ],
   "source": [
    "n=int(input())\n",
    "arr=list(int(i) for i in input().strip().split(' '))\n",
    "x=int(input())\n",
    "if checkNumber(arr):\n",
    "    print('true')\n",
    "else:\n",
    "    print('false')"
   ]
  },
  {
   "cell_type": "code",
   "execution_count": 21,
   "id": "6f24f256-06a5-480a-a503-3b87684f4f57",
   "metadata": {},
   "outputs": [],
   "source": [
    "def is_sorted(a):\n",
    "    l = len(a)\n",
    "    if l == 0 or l == 1:\n",
    "        return True\n",
    "    if a[0] > a[1]:\n",
    "        return False\n",
    "    smallerlist = a[1:]\n",
    "    b = is_sorted(smallerlist)\n",
    "    return b\n",
    "        "
   ]
  },
  {
   "cell_type": "code",
   "execution_count": 23,
   "id": "4315c05e-3398-45b3-bdf1-ecabb54e8222",
   "metadata": {},
   "outputs": [
    {
     "data": {
      "text/plain": [
       "False"
      ]
     },
     "execution_count": 23,
     "metadata": {},
     "output_type": "execute_result"
    }
   ],
   "source": [
    "a = [1,2,3,4,6,5,6]\n",
    "is_sorted(a)"
   ]
  },
  {
   "cell_type": "markdown",
   "id": "7935064c-7b04-4c60-8adb-1013aafb4037",
   "metadata": {},
   "source": [
    "in the below code optimisation is performed in terms of space by passing a starting index so that\n",
    "a new list isn't created every time..."
   ]
  },
  {
   "cell_type": "code",
   "execution_count": 5,
   "id": "e081cd9e",
   "metadata": {},
   "outputs": [],
   "source": [
    "def issortedbetter(a,si):\n",
    "    l=len(a)\n",
    "    if si==l-1 or si==l: # checking if length of list is 0 or 1\n",
    "        return True\n",
    "    if a[si]>a[si+1]:\n",
    "        return False\n",
    "    issmallerlistsorted = issortedbetter(a,si+1)\n",
    "    return issmallerlistsorted"
   ]
  },
  {
   "cell_type": "code",
   "execution_count": 6,
   "id": "70966126",
   "metadata": {},
   "outputs": [
    {
     "data": {
      "text/plain": [
       "False"
      ]
     },
     "execution_count": 6,
     "metadata": {},
     "output_type": "execute_result"
    }
   ],
   "source": [
    "a = 1,2,40,3,4\n",
    "si = 0\n",
    "issortedbetter(a,si)"
   ]
  },
  {
   "cell_type": "code",
   "execution_count": 7,
   "id": "09ce43e1",
   "metadata": {},
   "outputs": [
    {
     "name": "stdout",
     "output_type": "stream",
     "text": [
      "8\n",
      "2 4 3 1 6 4 6 8\n",
      "6\n",
      "4\n"
     ]
    }
   ],
   "source": [
    "def firstIndex(arr, x):\n",
    "    # Please add your code here\n",
    "    if len(arr) == 0:\n",
    "        return -1\n",
    "    if arr[0] == x:\n",
    "        return 0\n",
    "    smallerlist = arr[1:]\n",
    "    smallerlistoutput = firstIndex(smallerlist,x)\n",
    "    if smallerlistoutput == -1:\n",
    "        return -1\n",
    "    else:\n",
    "        return smallerlistoutput+1    \n",
    "n=int(input())\n",
    "arr=list(int(i) for i in input().strip().split(' '))\n",
    "x=int(input())\n",
    "print(firstIndex(arr, x))"
   ]
  },
  {
   "cell_type": "code",
   "execution_count": 7,
   "id": "089ce67d",
   "metadata": {},
   "outputs": [],
   "source": [
    "def first_index_optimised(a ,x, si):\n",
    "    l = len(a)\n",
    "    if si == l:\n",
    "        return -1\n",
    "    if a[si] == x:\n",
    "        return si\n",
    "    smallerlistoutput = first_index_optimised(a ,x,si+1)\n",
    "    return smallerlistoutput"
   ]
  },
  {
   "cell_type": "code",
   "execution_count": 8,
   "id": "ccb55cd3",
   "metadata": {},
   "outputs": [
    {
     "data": {
      "text/plain": [
       "6"
      ]
     },
     "execution_count": 8,
     "metadata": {},
     "output_type": "execute_result"
    }
   ],
   "source": [
    "a =[1,3,4,5,6,32,2,3,2,42,32,4]\n",
    "x=2\n",
    "si=0\n",
    "first_index_optimised(a,x,si)"
   ]
  },
  {
   "cell_type": "code",
   "execution_count": 14,
   "id": "183aaa83",
   "metadata": {},
   "outputs": [],
   "source": [
    "def last_index(arr,x):\n",
    "    l=len(arr)\n",
    "    if l == 0:\n",
    "        return -1\n",
    "    smallerlist = arr[1:]\n",
    "    smallerlistoutput = last_index(smallerlist , x)\n",
    "    if smallerlistoutput != -1:\n",
    "        return smallerlistoutput + 1 # this is an very important step as in this step we have to increment by 1 because\n",
    "                                    # the sliced list returns the 0 index and then you have to increment it by 1 as part of \n",
    "                                    # the previous list...\n",
    "    else:\n",
    "        if arr[0] == x:\n",
    "            return 0\n",
    "        else:\n",
    "            return -1"
   ]
  },
  {
   "cell_type": "code",
   "execution_count": 15,
   "id": "c7573709-e3e6-49e6-b16a-a222d83c0048",
   "metadata": {},
   "outputs": [
    {
     "name": "stdout",
     "output_type": "stream",
     "text": [
      "7\n"
     ]
    }
   ],
   "source": [
    "a = [1,2,4,5,6,4,3,2]\n",
    "x = 2\n",
    "print(last_index(a,x))"
   ]
  },
  {
   "cell_type": "code",
   "execution_count": 17,
   "id": "ff3d3c68-1807-4f5d-9e8c-88ff9929826c",
   "metadata": {},
   "outputs": [],
   "source": [
    "def last_index_optimised(arr,x,si):\n",
    "    l = len(arr)\n",
    "    if si == l:\n",
    "        return -1\n",
    "    smallerlistoutput = last_index_optimised(arr,x,si+1)\n",
    "    if smallerlistoutput != -1:\n",
    "        return smallerlistoutput\n",
    "    else:\n",
    "        if arr[si] == x:\n",
    "            return si\n",
    "        else:\n",
    "            return -1"
   ]
  },
  {
   "cell_type": "code",
   "execution_count": 19,
   "id": "457969b1-763e-42c9-bf81-8487ea30b3a7",
   "metadata": {},
   "outputs": [
    {
     "name": "stdout",
     "output_type": "stream",
     "text": [
      "6\n"
     ]
    }
   ],
   "source": [
    "a = [1,2,4,5,6,4,2,3,4]\n",
    "x = 2\n",
    "si = 0\n",
    "print(last_index_optimised(a,x,si))"
   ]
  },
  {
   "cell_type": "markdown",
   "id": "fa1ffb0d-ddb9-4db7-abec-66ba678a25c6",
   "metadata": {},
   "source": [
    "Below method is not a feasible method as it acquires a lot of space Since it is slicing the list \n",
    "again and storing in a new variable."
   ]
  },
  {
   "cell_type": "code",
   "execution_count": 2,
   "id": "bea0e4c2-603e-46c6-8812-7376520b5c04",
   "metadata": {},
   "outputs": [],
   "source": [
    "def last_index_2(arr,x):\n",
    "    l = len(arr)\n",
    "    if l == 0:\n",
    "        return -1\n",
    "    if arr[-1] == x:\n",
    "        return l - 1 \n",
    "    smallerlist = arr[0:l-1] # most imp. part now we are slicing are list from the back instead of front\n",
    "    smallerlistoutput = last_index_2(smallerlist,x)\n",
    "    if smallerlistoutput == -1:\n",
    "        return -1\n",
    "\n",
    "    else:\n",
    "        return smallerlistoutput\n",
    "    \n",
    "    "
   ]
  },
  {
   "cell_type": "code",
   "execution_count": 3,
   "id": "2ccedf72-6c34-4a35-9c76-f74f09532bac",
   "metadata": {},
   "outputs": [
    {
     "data": {
      "text/plain": [
       "9"
      ]
     },
     "execution_count": 3,
     "metadata": {},
     "output_type": "execute_result"
    }
   ],
   "source": [
    "a = [1,2,3,4,5,1,7,8,1,2,3]\n",
    "x = 2\n",
    "last_index_2(a,x)"
   ]
  },
  {
   "cell_type": "markdown",
   "id": "ca7a3e98",
   "metadata": {},
   "source": [
    "### Recursion on strings"
   ]
  },
  {
   "cell_type": "markdown",
   "id": "3aaedc79-418d-4a9b-a248-9e289b23b01c",
   "metadata": {},
   "source": [
    "Replace characters in a string recursively"
   ]
  },
  {
   "cell_type": "code",
   "execution_count": 4,
   "id": "8238cd38-742b-4b54-bf70-237815f2d102",
   "metadata": {},
   "outputs": [],
   "source": [
    "def replace_char(s,a,b):\n",
    "    if len(s) == 0:\n",
    "        return s\n",
    "\n",
    "    small_output = replace_char(s[1:],a,b)\n",
    "    if s[0] == a:\n",
    "        return b + small_output\n",
    "\n",
    "    else:\n",
    "        return s[0] + small_output"
   ]
  },
  {
   "cell_type": "code",
   "execution_count": 6,
   "id": "20ec16b8-51d2-4eb4-bd1c-3d9c6e4b9758",
   "metadata": {},
   "outputs": [
    {
     "data": {
      "text/plain": [
       "'dxxbzaxx'"
      ]
     },
     "execution_count": 6,
     "metadata": {},
     "output_type": "execute_result"
    }
   ],
   "source": [
    "replace_char(\"dccbzaxc\",'c','x' )"
   ]
  },
  {
   "cell_type": "markdown",
   "id": "1e95895f-0457-419c-ae0b-c2c389211a96",
   "metadata": {},
   "source": [
    "Remove X \n",
    "given a string you have remove all 'x' where it occurs"
   ]
  },
  {
   "cell_type": "code",
   "execution_count": 8,
   "id": "4294c2bd-c61e-4924-8c65-7f403e35f7c5",
   "metadata": {},
   "outputs": [
    {
     "name": "stdin",
     "output_type": "stream",
     "text": [
      " dxxxaadfrzxxc\n"
     ]
    },
    {
     "name": "stdout",
     "output_type": "stream",
     "text": [
      "daadfrzc\n"
     ]
    }
   ],
   "source": [
    "\n",
    "def removeX(string): \n",
    "    if len(string) == 0:\n",
    "        return string\n",
    "\n",
    "    small_string = \"\"\n",
    "    \n",
    "    if (string[0] != 'x'):\n",
    "\n",
    "        small_string = small_string + string[0]\n",
    "\n",
    "\n",
    "\n",
    "    small_output = removeX(string[1:])\n",
    "    return small_string + small_output\n",
    "\n",
    "\n",
    "\n",
    "string = input()\n",
    "print(removeX(string))\n"
   ]
  },
  {
   "cell_type": "code",
   "execution_count": null,
   "id": "5a085e1c-d282-4dc0-be76-3235203795ff",
   "metadata": {},
   "outputs": [],
   "source": []
  }
 ],
 "metadata": {
  "kernelspec": {
   "display_name": "Python 3 (ipykernel)",
   "language": "python",
   "name": "python3"
  },
  "language_info": {
   "codemirror_mode": {
    "name": "ipython",
    "version": 3
   },
   "file_extension": ".py",
   "mimetype": "text/x-python",
   "name": "python",
   "nbconvert_exporter": "python",
   "pygments_lexer": "ipython3",
   "version": "3.11.5"
  }
 },
 "nbformat": 4,
 "nbformat_minor": 5
}
