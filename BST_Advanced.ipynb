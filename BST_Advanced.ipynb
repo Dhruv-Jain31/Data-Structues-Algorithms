{
 "cells": [
  {
   "cell_type": "code",
   "execution_count": 1,
   "id": "73ea772f-ed9c-40ae-9d4b-306dd03d7688",
   "metadata": {},
   "outputs": [],
   "source": [
    "class Binary_Tree_Node:\n",
    "    def __init__(self,data):\n",
    "        self.data = data\n",
    "        self.right = None\n",
    "        self.left = None\n",
    "\n",
    "btn1 = Binary_Tree_Node(1)\n",
    "btn2 = Binary_Tree_Node(2)\n",
    "btn3 = Binary_Tree_Node(3)\n",
    "\n",
    "btn1.left = btn2\n",
    "btn1.right = btn3\n",
    "\n",
    "\n",
    "def printTreeDetailed(root):\n",
    "    if root == None:\n",
    "        return\n",
    "\n",
    "    print(root.data, end = \" : \")\n",
    "    if root.left != None:\n",
    "        print(\"L\",root.left.data, end = \",\")\n",
    "    if root.right != None:\n",
    "        print(\"R\",root.right.data, end = \"\")\n",
    "    print()\n",
    "\n",
    "    printTreeDetailed(root.left)\n",
    "    printTreeDetailed(root.right)\n",
    "\n",
    "\n",
    "\n",
    "def TreeInput():\n",
    "    rootData = int(input())\n",
    "    if rootData == -1:\n",
    "        return None\n",
    "    root = Binary_Tree_Node(rootData)\n",
    "    left_tree = TreeInput()\n",
    "    right_tree = TreeInput()\n",
    "    root.left = left_tree\n",
    "    root.right = right_tree\n",
    "    return root"
   ]
  },
  {
   "cell_type": "code",
   "execution_count": 2,
   "id": "e1c71bbc-0934-4f67-a181-513db9c44bb4",
   "metadata": {},
   "outputs": [],
   "source": [
    "import queue\n",
    "\n",
    "def take_level_wise_input():\n",
    "    q = queue.Queue()\n",
    "    print(\"Enter root\")\n",
    "    rootdata = int(input())\n",
    "    if rootdata != -1:\n",
    "        root = Binary_Tree_Node(rootdata)\n",
    "        q.put(root)\n",
    "    else:\n",
    "        return None\n",
    "    while (not(q.empty())):\n",
    "        curr_node = q.get()\n",
    "        print(\"Enter left Child of \",curr_node.data)\n",
    "        left_child_data = int(input())\n",
    "        if left_child_data != -1 :\n",
    "            left_child = Binary_Tree_Node(left_child_data)\n",
    "            curr_node.left = left_child\n",
    "            q.put(left_child)\n",
    "\n",
    "        print(\"Enter right Child of\",curr_node.data)\n",
    "        right_child_data = int(input())\n",
    "        if right_child_data != -1:\n",
    "            right_child = Binary_Tree_Node(right_child_data)\n",
    "            curr_node.right = right_child\n",
    "            q.put(right_child)\n",
    "\n",
    "    return root"
   ]
  },
  {
   "cell_type": "markdown",
   "id": "f476e032-6d44-4268-ab04-aeb6212f7a7c",
   "metadata": {},
   "source": [
    "### Find node to path from node to root in BST"
   ]
  },
  {
   "cell_type": "code",
   "execution_count": 3,
   "id": "30a13753-e505-4355-9e78-e77a93ff2994",
   "metadata": {},
   "outputs": [],
   "source": [
    "def findPathBST(root,data):\n",
    "    if root == None:\n",
    "        return None\n",
    "    if root.data == data:\n",
    "        l = list()\n",
    "        l.append(root.data)\n",
    "        return l\n",
    "    if data > root.data :\n",
    "        rightoutput = findPathBST(root.right,data)\n",
    "        if rightoutput != None:\n",
    "            rightoutput.append(root.data)\n",
    "            return rightoutput\n",
    "    else:\n",
    "        leftoutput = findPathBST(root.left,data)\n",
    "        if leftoutput != None:\n",
    "            leftoutput.append(root.data)\n",
    "            return leftoutput\n",
    "    return None       "
   ]
  }
 ],
 "metadata": {
  "kernelspec": {
   "display_name": "Python 3 (ipykernel)",
   "language": "python",
   "name": "python3"
  },
  "language_info": {
   "codemirror_mode": {
    "name": "ipython",
    "version": 3
   },
   "file_extension": ".py",
   "mimetype": "text/x-python",
   "name": "python",
   "nbconvert_exporter": "python",
   "pygments_lexer": "ipython3",
   "version": "3.11.5"
  }
 },
 "nbformat": 4,
 "nbformat_minor": 5
}
