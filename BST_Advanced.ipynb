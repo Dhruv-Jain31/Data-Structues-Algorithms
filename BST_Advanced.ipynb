{
 "cells": [
  {
   "cell_type": "code",
   "execution_count": null,
   "id": "73ea772f-ed9c-40ae-9d4b-306dd03d7688",
   "metadata": {},
   "outputs": [],
   "source": []
  },
  {
   "cell_type": "markdown",
   "id": "f476e032-6d44-4268-ab04-aeb6212f7a7c",
   "metadata": {},
   "source": [
    "### Find node to path from node to root in BST"
   ]
  },
  {
   "cell_type": "code",
   "execution_count": null,
   "id": "30a13753-e505-4355-9e78-e77a93ff2994",
   "metadata": {},
   "outputs": [],
   "source": [
    "def findPathBST(root,data):\n",
    "    if root == None:\n",
    "        return None\n",
    "    if root.data == data:\n",
    "        l = list()\n",
    "        l.append(root.data)\n",
    "        return l\n",
    "    if data > root.data :\n",
    "        rightoutput = findPathBST(root.right,data)\n",
    "        if rightoutput != None:\n",
    "            rightoutput.append(root.data)\n",
    "            return rightoutput\n",
    "    else:\n",
    "        leftoutput = findPathBST(root.left,data)\n",
    "        if leftoutput != None:\n",
    "            leftoutput.append(root.data)\n",
    "            return leftoutput\n",
    "    return None       "
   ]
  }
 ],
 "metadata": {
  "kernelspec": {
   "display_name": "Python 3 (ipykernel)",
   "language": "python",
   "name": "python3"
  },
  "language_info": {
   "codemirror_mode": {
    "name": "ipython",
    "version": 3
   },
   "file_extension": ".py",
   "mimetype": "text/x-python",
   "name": "python",
   "nbconvert_exporter": "python",
   "pygments_lexer": "ipython3",
   "version": "3.11.5"
  }
 },
 "nbformat": 4,
 "nbformat_minor": 5
}
