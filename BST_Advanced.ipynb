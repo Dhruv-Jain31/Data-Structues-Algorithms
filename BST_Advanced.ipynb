{
 "cells": [
  {
   "cell_type": "code",
   "execution_count": 1,
   "id": "73ea772f-ed9c-40ae-9d4b-306dd03d7688",
   "metadata": {},
   "outputs": [],
   "source": [
    "class Binary_Tree_Node:\n",
    "    def __init__(self,data):\n",
    "        self.data = data\n",
    "        self.right = None\n",
    "        self.left = None\n",
    "\n",
    "btn1 = Binary_Tree_Node(1)\n",
    "btn2 = Binary_Tree_Node(2)\n",
    "btn3 = Binary_Tree_Node(3)\n",
    "\n",
    "btn1.left = btn2\n",
    "btn1.right = btn3\n",
    "\n",
    "\n",
    "def printTreeDetailed(root):\n",
    "    if root == None:\n",
    "        return\n",
    "\n",
    "    print(root.data, end = \" : \")\n",
    "    if root.left != None:\n",
    "        print(\"L\",root.left.data, end = \",\")\n",
    "    if root.right != None:\n",
    "        print(\"R\",root.right.data, end = \"\")\n",
    "    print()\n",
    "\n",
    "    printTreeDetailed(root.left)\n",
    "    printTreeDetailed(root.right)\n",
    "\n",
    "\n",
    "\n",
    "def TreeInput():\n",
    "    rootData = int(input())\n",
    "    if rootData == -1:\n",
    "        return None\n",
    "    root = Binary_Tree_Node(rootData)\n",
    "    left_tree = TreeInput()\n",
    "    right_tree = TreeInput()\n",
    "    root.left = left_tree\n",
    "    root.right = right_tree\n",
    "    return root"
   ]
  },
  {
   "cell_type": "code",
   "execution_count": 2,
   "id": "e1c71bbc-0934-4f67-a181-513db9c44bb4",
   "metadata": {},
   "outputs": [],
   "source": [
    "import queue\n",
    "\n",
    "def take_level_wise_input():\n",
    "    q = queue.Queue()\n",
    "    print(\"Enter root\")\n",
    "    rootdata = int(input())\n",
    "    if rootdata != -1:\n",
    "        root = Binary_Tree_Node(rootdata)\n",
    "        q.put(root)\n",
    "    else:\n",
    "        return None\n",
    "    while (not(q.empty())):\n",
    "        curr_node = q.get()\n",
    "        print(\"Enter left Child of \",curr_node.data)\n",
    "        left_child_data = int(input())\n",
    "        if left_child_data != -1 :\n",
    "            left_child = Binary_Tree_Node(left_child_data)\n",
    "            curr_node.left = left_child\n",
    "            q.put(left_child)\n",
    "\n",
    "        print(\"Enter right Child of\",curr_node.data)\n",
    "        right_child_data = int(input())\n",
    "        if right_child_data != -1:\n",
    "            right_child = Binary_Tree_Node(right_child_data)\n",
    "            curr_node.right = right_child\n",
    "            q.put(right_child)\n",
    "\n",
    "    return root"
   ]
  },
  {
   "cell_type": "markdown",
   "id": "f476e032-6d44-4268-ab04-aeb6212f7a7c",
   "metadata": {},
   "source": [
    "### Find node to path from node to root in BST"
   ]
  },
  {
   "cell_type": "code",
   "execution_count": 4,
   "id": "30a13753-e505-4355-9e78-e77a93ff2994",
   "metadata": {},
   "outputs": [],
   "source": [
    "def findPathBST(root,data):\n",
    "    if root == None:\n",
    "        return None\n",
    "    if root.data == data:\n",
    "        l = list()\n",
    "        l.append(root.data)\n",
    "        return l\n",
    "    if data > root.data :\n",
    "        rightoutput = findPathBST(root.right,data)\n",
    "        if rightoutput != None:\n",
    "            rightoutput.append(root.data)\n",
    "            return rightoutput\n",
    "    else:\n",
    "        leftoutput = findPathBST(root.left,data)\n",
    "        if leftoutput != None:\n",
    "            leftoutput.append(root.data)\n",
    "            return leftoutput\n",
    "    return None       "
   ]
  },
  {
   "cell_type": "code",
   "execution_count": 10,
   "id": "88d73715-875a-4f2b-815d-67a59562c0c5",
   "metadata": {},
   "outputs": [
    {
     "name": "stdout",
     "output_type": "stream",
     "text": [
      "Enter root\n"
     ]
    },
    {
     "name": "stdin",
     "output_type": "stream",
     "text": [
      " 20\n"
     ]
    },
    {
     "name": "stdout",
     "output_type": "stream",
     "text": [
      "Enter left Child of  20\n"
     ]
    },
    {
     "name": "stdin",
     "output_type": "stream",
     "text": [
      " 18\n"
     ]
    },
    {
     "name": "stdout",
     "output_type": "stream",
     "text": [
      "Enter right Child of 20\n"
     ]
    },
    {
     "name": "stdin",
     "output_type": "stream",
     "text": [
      " 22\n"
     ]
    },
    {
     "name": "stdout",
     "output_type": "stream",
     "text": [
      "Enter left Child of  18\n"
     ]
    },
    {
     "name": "stdin",
     "output_type": "stream",
     "text": [
      " 16\n"
     ]
    },
    {
     "name": "stdout",
     "output_type": "stream",
     "text": [
      "Enter right Child of 18\n"
     ]
    },
    {
     "name": "stdin",
     "output_type": "stream",
     "text": [
      " 19\n"
     ]
    },
    {
     "name": "stdout",
     "output_type": "stream",
     "text": [
      "Enter left Child of  22\n"
     ]
    },
    {
     "name": "stdin",
     "output_type": "stream",
     "text": [
      " 21\n"
     ]
    },
    {
     "name": "stdout",
     "output_type": "stream",
     "text": [
      "Enter right Child of 22\n"
     ]
    },
    {
     "name": "stdin",
     "output_type": "stream",
     "text": [
      " 24\n"
     ]
    },
    {
     "name": "stdout",
     "output_type": "stream",
     "text": [
      "Enter left Child of  16\n"
     ]
    },
    {
     "name": "stdin",
     "output_type": "stream",
     "text": [
      " 13\n"
     ]
    },
    {
     "name": "stdout",
     "output_type": "stream",
     "text": [
      "Enter right Child of 16\n"
     ]
    },
    {
     "name": "stdin",
     "output_type": "stream",
     "text": [
      " 15\n"
     ]
    },
    {
     "name": "stdout",
     "output_type": "stream",
     "text": [
      "Enter left Child of  19\n"
     ]
    },
    {
     "name": "stdin",
     "output_type": "stream",
     "text": [
      " -1\n"
     ]
    },
    {
     "name": "stdout",
     "output_type": "stream",
     "text": [
      "Enter right Child of 19\n"
     ]
    },
    {
     "name": "stdin",
     "output_type": "stream",
     "text": [
      " -1\n"
     ]
    },
    {
     "name": "stdout",
     "output_type": "stream",
     "text": [
      "Enter left Child of  21\n"
     ]
    },
    {
     "name": "stdin",
     "output_type": "stream",
     "text": [
      " -1\n"
     ]
    },
    {
     "name": "stdout",
     "output_type": "stream",
     "text": [
      "Enter right Child of 21\n"
     ]
    },
    {
     "name": "stdin",
     "output_type": "stream",
     "text": [
      " -1\n"
     ]
    },
    {
     "name": "stdout",
     "output_type": "stream",
     "text": [
      "Enter left Child of  24\n"
     ]
    },
    {
     "name": "stdin",
     "output_type": "stream",
     "text": [
      " 23\n"
     ]
    },
    {
     "name": "stdout",
     "output_type": "stream",
     "text": [
      "Enter right Child of 24\n"
     ]
    },
    {
     "name": "stdin",
     "output_type": "stream",
     "text": [
      " 26\n"
     ]
    },
    {
     "name": "stdout",
     "output_type": "stream",
     "text": [
      "Enter left Child of  13\n"
     ]
    },
    {
     "name": "stdin",
     "output_type": "stream",
     "text": [
      " -1\n"
     ]
    },
    {
     "name": "stdout",
     "output_type": "stream",
     "text": [
      "Enter right Child of 13\n"
     ]
    },
    {
     "name": "stdin",
     "output_type": "stream",
     "text": [
      " -1\n"
     ]
    },
    {
     "name": "stdout",
     "output_type": "stream",
     "text": [
      "Enter left Child of  15\n"
     ]
    },
    {
     "name": "stdin",
     "output_type": "stream",
     "text": [
      " -1\n"
     ]
    },
    {
     "name": "stdout",
     "output_type": "stream",
     "text": [
      "Enter right Child of 15\n"
     ]
    },
    {
     "name": "stdin",
     "output_type": "stream",
     "text": [
      " -1\n"
     ]
    },
    {
     "name": "stdout",
     "output_type": "stream",
     "text": [
      "Enter left Child of  23\n"
     ]
    },
    {
     "name": "stdin",
     "output_type": "stream",
     "text": [
      " -1\n"
     ]
    },
    {
     "name": "stdout",
     "output_type": "stream",
     "text": [
      "Enter right Child of 23\n"
     ]
    },
    {
     "name": "stdin",
     "output_type": "stream",
     "text": [
      " -1\n"
     ]
    },
    {
     "name": "stdout",
     "output_type": "stream",
     "text": [
      "Enter left Child of  26\n"
     ]
    },
    {
     "name": "stdin",
     "output_type": "stream",
     "text": [
      " -1\n"
     ]
    },
    {
     "name": "stdout",
     "output_type": "stream",
     "text": [
      "Enter right Child of 26\n"
     ]
    },
    {
     "name": "stdin",
     "output_type": "stream",
     "text": [
      " -1\n"
     ]
    },
    {
     "name": "stdout",
     "output_type": "stream",
     "text": [
      "20 : L 18,R 22\n",
      "18 : L 16,R 19\n",
      "16 : L 13,R 15\n",
      "13 : \n",
      "15 : \n",
      "19 : \n",
      "22 : L 21,R 24\n",
      "21 : \n",
      "24 : L 23,R 26\n",
      "23 : \n",
      "26 : \n",
      "enter element to be searched\n"
     ]
    },
    {
     "name": "stdin",
     "output_type": "stream",
     "text": [
      " 23\n"
     ]
    },
    {
     "data": {
      "text/plain": [
       "[23, 24, 22, 20]"
      ]
     },
     "execution_count": 10,
     "metadata": {},
     "output_type": "execute_result"
    }
   ],
   "source": [
    "root = take_level_wise_input()\n",
    "printTreeDetailed(root)\n",
    "print(\"enter element to be searched\")\n",
    "data = int(input())\n",
    "findPathBST(root,data)"
   ]
  },
  {
   "cell_type": "markdown",
   "id": "d6bdfd09-83a2-47b0-a6bf-d07e75c8f0c3",
   "metadata": {},
   "source": [
    "### Structure of a BST class"
   ]
  },
  {
   "cell_type": "markdown",
   "id": "b0d062d6-fcc7-4af7-bc6f-cf396171a592",
   "metadata": {},
   "source": [
    "Create a class of bst with some functionality and person don't have to worry where data is going,\n",
    "it must be as per bst rules only"
   ]
  },
  {
   "cell_type": "code",
   "execution_count": 11,
   "id": "214d211f-87c1-4b1a-a64e-bbd7a8fd6e5d",
   "metadata": {},
   "outputs": [],
   "source": [
    "class BST:\n",
    "    def __init__(self):\n",
    "        self.root = None\n",
    "        self.numnodes = 0\n",
    "    \n",
    "    \n",
    "    \n",
    "    def isPresent(self,data):\n",
    "        return False\n",
    "\n",
    "\n",
    "    def insert(self,data):\n",
    "        return\n",
    "\n",
    "    def deleteData(self,data):\n",
    "        return False\n",
    "\n",
    "    def count(self):\n",
    "        return 0\n",
    "        "
   ]
  }
 ],
 "metadata": {
  "kernelspec": {
   "display_name": "Python 3 (ipykernel)",
   "language": "python",
   "name": "python3"
  },
  "language_info": {
   "codemirror_mode": {
    "name": "ipython",
    "version": 3
   },
   "file_extension": ".py",
   "mimetype": "text/x-python",
   "name": "python",
   "nbconvert_exporter": "python",
   "pygments_lexer": "ipython3",
   "version": "3.11.5"
  }
 },
 "nbformat": 4,
 "nbformat_minor": 5
}
