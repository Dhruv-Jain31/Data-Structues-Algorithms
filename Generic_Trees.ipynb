{
 "cells": [
  {
   "cell_type": "markdown",
   "id": "90a04d1e-e322-493c-8bf5-fabb49342956",
   "metadata": {},
   "source": [
    "In generic trees instead of 2 children there can be multiple children. So we'll be passing a list instead\n",
    "of children."
   ]
  },
  {
   "cell_type": "code",
   "execution_count": 3,
   "id": "e0cff835-e9ad-4f43-81c5-e4ad585a279b",
   "metadata": {},
   "outputs": [],
   "source": [
    "class Generic_Tree_Node:\n",
    "    def __init__(self,data):\n",
    "        self.data = data\n",
    "        self.children = list()"
   ]
  },
  {
   "cell_type": "code",
   "execution_count": 5,
   "id": "edda73bb-4b5b-41bb-bd77-b75c436f1c95",
   "metadata": {},
   "outputs": [],
   "source": [
    "n1 = Generic_Tree_Node(2)\n",
    "n2 = Generic_Tree_Node(9)\n",
    "n3=  Generic_Tree_Node(8)\n",
    "n4 = Generic_Tree_Node(7)\n",
    "n5 = Generic_Tree_Node(15)\n",
    "n6 = Generic_Tree_Node(1)\n",
    "n7 = Generic_Tree_Node(5)\n",
    "\n",
    "n1.children.append(n2)\n",
    "n1.children.append(n3)\n",
    "n1.children.append(n4)\n",
    "n1.children.append(n5)\n",
    "n3.children.append(n6)\n",
    "n3.children.append(n7)\n",
    "\n"
   ]
  }
 ],
 "metadata": {
  "kernelspec": {
   "display_name": "Python 3 (ipykernel)",
   "language": "python",
   "name": "python3"
  },
  "language_info": {
   "codemirror_mode": {
    "name": "ipython",
    "version": 3
   },
   "file_extension": ".py",
   "mimetype": "text/x-python",
   "name": "python",
   "nbconvert_exporter": "python",
   "pygments_lexer": "ipython3",
   "version": "3.11.5"
  }
 },
 "nbformat": 4,
 "nbformat_minor": 5
}
