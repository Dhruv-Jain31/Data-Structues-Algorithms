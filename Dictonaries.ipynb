{
 "cells": [
  {
   "cell_type": "code",
   "execution_count": 1,
   "id": "c165926f-d621-4986-a37b-1397e552bdf4",
   "metadata": {},
   "outputs": [],
   "source": [
    "a = {}\n"
   ]
  },
  {
   "cell_type": "code",
   "execution_count": 2,
   "id": "35d18b11-5cb2-41b5-a809-172c5e8d11c8",
   "metadata": {},
   "outputs": [
    {
     "data": {
      "text/plain": [
       "dict"
      ]
     },
     "execution_count": 2,
     "metadata": {},
     "output_type": "execute_result"
    }
   ],
   "source": [
    "type(a)"
   ]
  },
  {
   "cell_type": "code",
   "execution_count": 6,
   "id": "02204879-bff7-450c-8b2b-3c045e087bde",
   "metadata": {},
   "outputs": [
    {
     "name": "stdout",
     "output_type": "stream",
     "text": [
      "{'the': 2, 'a': 5, 100: 'str'}\n"
     ]
    }
   ],
   "source": [
    "a = {\"the\":2,\"a\":5,100:\"str\"}\n",
    "print(a)"
   ]
  },
  {
   "cell_type": "code",
   "execution_count": 8,
   "id": "ce25e148-8cfe-4c5c-a1fb-9d490239fb3f",
   "metadata": {},
   "outputs": [
    {
     "name": "stdout",
     "output_type": "stream",
     "text": [
      "{'the': 3, 'a': 5, 100: 'str'}\n"
     ]
    }
   ],
   "source": [
    "c = dict([(\"the\",3),(\"a\",5),(100,\"str\")])\n",
    "print(c)"
   ]
  },
  {
   "cell_type": "code",
   "execution_count": 10,
   "id": "41f5954e-f2bb-4358-b0b6-b5085d516d06",
   "metadata": {},
   "outputs": [],
   "source": [
    "d = dict.fromkeys([\"abc\",32,4])"
   ]
  },
  {
   "cell_type": "code",
   "execution_count": 11,
   "id": "3ee2a8f9-a8eb-4d5a-8732-0356b5044359",
   "metadata": {},
   "outputs": [
    {
     "name": "stdout",
     "output_type": "stream",
     "text": [
      "{'abc': None, 32: None, 4: None}\n"
     ]
    }
   ],
   "source": [
    "print(d)"
   ]
  },
  {
   "cell_type": "code",
   "execution_count": 12,
   "id": "cf968bf4-84a6-47c8-afff-4766f330666f",
   "metadata": {},
   "outputs": [
    {
     "name": "stdout",
     "output_type": "stream",
     "text": [
      "{'abc': 10, 32: 10, 4: 10}\n"
     ]
    }
   ],
   "source": [
    "e = dict.fromkeys([\"abc\",32,4],10)\n",
    "print(e)"
   ]
  },
  {
   "cell_type": "markdown",
   "id": "9d84fec5-5239-4aef-81b3-825eba547282",
   "metadata": {},
   "source": [
    "### Dictionary Functions"
   ]
  },
  {
   "cell_type": "code",
   "execution_count": 13,
   "id": "0b385506-dd87-4e76-98a8-b121c1aee54b",
   "metadata": {},
   "outputs": [
    {
     "name": "stdout",
     "output_type": "stream",
     "text": [
      "{1: 2, 3: 4, 'list': [1, 2, 3], 'dict': {1, 2, 3}}\n"
     ]
    }
   ],
   "source": [
    "a = {1:2, 3:4, \"list\":[1,2,3], \"dict\":{1,2,3}}\n",
    "print(a)"
   ]
  },
  {
   "cell_type": "code",
   "execution_count": 14,
   "id": "88f4e17b-2db0-40ad-97b6-b0f08cc8553d",
   "metadata": {},
   "outputs": [
    {
     "ename": "KeyError",
     "evalue": "0",
     "output_type": "error",
     "traceback": [
      "\u001b[1;31m---------------------------------------------------------------------------\u001b[0m",
      "\u001b[1;31mKeyError\u001b[0m                                  Traceback (most recent call last)",
      "Cell \u001b[1;32mIn[14], line 1\u001b[0m\n\u001b[1;32m----> 1\u001b[0m \u001b[43ma\u001b[49m\u001b[43m[\u001b[49m\u001b[38;5;241;43m0\u001b[39;49m\u001b[43m]\u001b[49m\n",
      "\u001b[1;31mKeyError\u001b[0m: 0"
     ]
    }
   ],
   "source": [
    "a[0] # only the keys present in the actual dictionary must be passed"
   ]
  },
  {
   "cell_type": "code",
   "execution_count": 16,
   "id": "59137b3a-f228-4188-9796-fc3eff581a50",
   "metadata": {},
   "outputs": [
    {
     "name": "stdout",
     "output_type": "stream",
     "text": [
      "2\n",
      "4\n",
      "[1, 2, 3]\n",
      "{1, 2, 3}\n"
     ]
    }
   ],
   "source": [
    "print(a[1])\n",
    "print(a[3])\n",
    "print(a[\"list\"])\n",
    "print(a[\"dict\"])"
   ]
  },
  {
   "cell_type": "code",
   "execution_count": 18,
   "id": "0c9934fc-7a44-4256-b2f3-aeeedb666fb7",
   "metadata": {},
   "outputs": [
    {
     "name": "stdout",
     "output_type": "stream",
     "text": [
      "2\n",
      "[1, 2, 3]\n",
      "None\n",
      "0\n"
     ]
    }
   ],
   "source": [
    "print(a.get(1))\n",
    "print(a.get(\"list\"))\n",
    "print(a.get(0))\n",
    "print(a.get('li',0))\n",
    "# get will return the value associated with key if key is present otherwise\n",
    "# the second argument is returned"
   ]
  },
  {
   "cell_type": "code",
   "execution_count": 22,
   "id": "3884c4b1-a1f2-44e1-a5d9-88dcff50c758",
   "metadata": {},
   "outputs": [
    {
     "name": "stdout",
     "output_type": "stream",
     "text": [
      "dict_keys([1, 3, 'list', 'dict'])\n",
      "dict_values([2, 4, [1, 2, 3], {1, 2, 3}])\n",
      "dict_items([(1, 2), (3, 4), ('list', [1, 2, 3]), ('dict', {1, 2, 3})])\n"
     ]
    }
   ],
   "source": [
    "print(a.keys())\n",
    "print(a.values())\n",
    "print(a.items())"
   ]
  },
  {
   "cell_type": "code",
   "execution_count": 25,
   "id": "2b395622-b73f-455c-97f4-aecb9ea3d93f",
   "metadata": {},
   "outputs": [
    {
     "name": "stdout",
     "output_type": "stream",
     "text": [
      "1\n",
      "3\n",
      "list\n",
      "dict\n"
     ]
    }
   ],
   "source": [
    "for i in a:\n",
    "    print(i)"
   ]
  },
  {
   "cell_type": "code",
   "execution_count": 26,
   "id": "9fc6c970-1e21-413a-b978-97da38ca11d4",
   "metadata": {},
   "outputs": [
    {
     "name": "stdout",
     "output_type": "stream",
     "text": [
      "1 2\n",
      "3 4\n",
      "list [1, 2, 3]\n",
      "dict {1, 2, 3}\n"
     ]
    }
   ],
   "source": [
    "for i in a:\n",
    "    print(i,a[i])"
   ]
  },
  {
   "cell_type": "code",
   "execution_count": 27,
   "id": "91bcee1a-f315-405d-950d-006c612b9152",
   "metadata": {},
   "outputs": [
    {
     "name": "stdout",
     "output_type": "stream",
     "text": [
      "2\n",
      "4\n",
      "[1, 2, 3]\n",
      "{1, 2, 3}\n"
     ]
    }
   ],
   "source": [
    "for i in a.values():\n",
    "    print(i)"
   ]
  },
  {
   "cell_type": "code",
   "execution_count": 28,
   "id": "42bfb0ee-0f5d-43f6-862d-afc9abe26d23",
   "metadata": {},
   "outputs": [
    {
     "data": {
      "text/plain": [
       "True"
      ]
     },
     "execution_count": 28,
     "metadata": {},
     "output_type": "execute_result"
    }
   ],
   "source": [
    "\"list\" in a"
   ]
  },
  {
   "cell_type": "code",
   "execution_count": 33,
   "id": "18c701b2-35a5-4287-b5b3-730dbc8c9f18",
   "metadata": {},
   "outputs": [
    {
     "data": {
      "text/plain": [
       "False"
      ]
     },
     "execution_count": 33,
     "metadata": {},
     "output_type": "execute_result"
    }
   ],
   "source": [
    "\"3\" in a"
   ]
  },
  {
   "cell_type": "code",
   "execution_count": 32,
   "id": "a8cceb59-5a9f-4ec2-912e-1cc2c8c825ef",
   "metadata": {},
   "outputs": [
    {
     "data": {
      "text/plain": [
       "True"
      ]
     },
     "execution_count": 32,
     "metadata": {},
     "output_type": "execute_result"
    }
   ],
   "source": [
    "3 in a # only keys can be passed no values can be passed"
   ]
  }
 ],
 "metadata": {
  "kernelspec": {
   "display_name": "Python 3 (ipykernel)",
   "language": "python",
   "name": "python3"
  },
  "language_info": {
   "codemirror_mode": {
    "name": "ipython",
    "version": 3
   },
   "file_extension": ".py",
   "mimetype": "text/x-python",
   "name": "python",
   "nbconvert_exporter": "python",
   "pygments_lexer": "ipython3",
   "version": "3.11.5"
  }
 },
 "nbformat": 4,
 "nbformat_minor": 5
}
