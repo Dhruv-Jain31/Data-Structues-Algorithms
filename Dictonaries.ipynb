{
 "cells": [
  {
   "cell_type": "code",
   "execution_count": 36,
   "id": "c165926f-d621-4986-a37b-1397e552bdf4",
   "metadata": {},
   "outputs": [],
   "source": [
    "a = {}\n"
   ]
  },
  {
   "cell_type": "code",
   "execution_count": 37,
   "id": "35d18b11-5cb2-41b5-a809-172c5e8d11c8",
   "metadata": {},
   "outputs": [
    {
     "data": {
      "text/plain": [
       "dict"
      ]
     },
     "execution_count": 37,
     "metadata": {},
     "output_type": "execute_result"
    }
   ],
   "source": [
    "type(a)"
   ]
  },
  {
   "cell_type": "code",
   "execution_count": 38,
   "id": "02204879-bff7-450c-8b2b-3c045e087bde",
   "metadata": {},
   "outputs": [
    {
     "name": "stdout",
     "output_type": "stream",
     "text": [
      "{'the': 2, 'a': 5, 100: 'str'}\n"
     ]
    }
   ],
   "source": [
    "a = {\"the\":2,\"a\":5,100:\"str\"}\n",
    "print(a)"
   ]
  },
  {
   "cell_type": "code",
   "execution_count": 39,
   "id": "ce25e148-8cfe-4c5c-a1fb-9d490239fb3f",
   "metadata": {},
   "outputs": [
    {
     "name": "stdout",
     "output_type": "stream",
     "text": [
      "{'the': 3, 'a': 5, 100: 'str'}\n"
     ]
    }
   ],
   "source": [
    "c = dict([(\"the\",3),(\"a\",5),(100,\"str\")])\n",
    "print(c)"
   ]
  },
  {
   "cell_type": "code",
   "execution_count": 40,
   "id": "41f5954e-f2bb-4358-b0b6-b5085d516d06",
   "metadata": {},
   "outputs": [],
   "source": [
    "d = dict.fromkeys([\"abc\",32,4])"
   ]
  },
  {
   "cell_type": "code",
   "execution_count": 41,
   "id": "3ee2a8f9-a8eb-4d5a-8732-0356b5044359",
   "metadata": {},
   "outputs": [
    {
     "name": "stdout",
     "output_type": "stream",
     "text": [
      "{'abc': None, 32: None, 4: None}\n"
     ]
    }
   ],
   "source": [
    "print(d)"
   ]
  },
  {
   "cell_type": "code",
   "execution_count": 42,
   "id": "cf968bf4-84a6-47c8-afff-4766f330666f",
   "metadata": {},
   "outputs": [
    {
     "name": "stdout",
     "output_type": "stream",
     "text": [
      "{'abc': 10, 32: 10, 4: 10}\n"
     ]
    }
   ],
   "source": [
    "e = dict.fromkeys([\"abc\",32,4],10)\n",
    "print(e)"
   ]
  },
  {
   "cell_type": "markdown",
   "id": "9d84fec5-5239-4aef-81b3-825eba547282",
   "metadata": {},
   "source": [
    "### Dictionary Functions"
   ]
  },
  {
   "cell_type": "code",
   "execution_count": 43,
   "id": "0b385506-dd87-4e76-98a8-b121c1aee54b",
   "metadata": {},
   "outputs": [
    {
     "name": "stdout",
     "output_type": "stream",
     "text": [
      "{1: 2, 3: 4, 'list': [1, 2, 3], 'dict': {1, 2, 3}}\n"
     ]
    }
   ],
   "source": [
    "a = {1:2, 3:4, \"list\":[1,2,3], \"dict\":{1,2,3}}\n",
    "print(a)"
   ]
  },
  {
   "cell_type": "code",
   "execution_count": 44,
   "id": "88f4e17b-2db0-40ad-97b6-b0f08cc8553d",
   "metadata": {},
   "outputs": [
    {
     "ename": "KeyError",
     "evalue": "0",
     "output_type": "error",
     "traceback": [
      "\u001b[1;31m---------------------------------------------------------------------------\u001b[0m",
      "\u001b[1;31mKeyError\u001b[0m                                  Traceback (most recent call last)",
      "Cell \u001b[1;32mIn[44], line 1\u001b[0m\n\u001b[1;32m----> 1\u001b[0m \u001b[43ma\u001b[49m\u001b[43m[\u001b[49m\u001b[38;5;241;43m0\u001b[39;49m\u001b[43m]\u001b[49m \u001b[38;5;66;03m# only the keys present in the actual dictionary must be passed\u001b[39;00m\n",
      "\u001b[1;31mKeyError\u001b[0m: 0"
     ]
    }
   ],
   "source": [
    "a[0] # only the keys present in the actual dictionary must be passed"
   ]
  },
  {
   "cell_type": "code",
   "execution_count": 45,
   "id": "59137b3a-f228-4188-9796-fc3eff581a50",
   "metadata": {},
   "outputs": [
    {
     "name": "stdout",
     "output_type": "stream",
     "text": [
      "2\n",
      "4\n",
      "[1, 2, 3]\n",
      "{1, 2, 3}\n"
     ]
    }
   ],
   "source": [
    "print(a[1])\n",
    "print(a[3])\n",
    "print(a[\"list\"])\n",
    "print(a[\"dict\"])"
   ]
  },
  {
   "cell_type": "code",
   "execution_count": 46,
   "id": "0c9934fc-7a44-4256-b2f3-aeeedb666fb7",
   "metadata": {},
   "outputs": [
    {
     "name": "stdout",
     "output_type": "stream",
     "text": [
      "2\n",
      "[1, 2, 3]\n",
      "None\n",
      "0\n"
     ]
    }
   ],
   "source": [
    "print(a.get(1))\n",
    "print(a.get(\"list\"))\n",
    "print(a.get(0))\n",
    "print(a.get('li',0))\n",
    "# get will return the value associated with key if key is present otherwise\n",
    "# the second argument is returned"
   ]
  },
  {
   "cell_type": "code",
   "execution_count": 47,
   "id": "3884c4b1-a1f2-44e1-a5d9-88dcff50c758",
   "metadata": {},
   "outputs": [
    {
     "name": "stdout",
     "output_type": "stream",
     "text": [
      "dict_keys([1, 3, 'list', 'dict'])\n",
      "dict_values([2, 4, [1, 2, 3], {1, 2, 3}])\n",
      "dict_items([(1, 2), (3, 4), ('list', [1, 2, 3]), ('dict', {1, 2, 3})])\n"
     ]
    }
   ],
   "source": [
    "print(a.keys())\n",
    "print(a.values())\n",
    "print(a.items())"
   ]
  },
  {
   "cell_type": "code",
   "execution_count": 48,
   "id": "2b395622-b73f-455c-97f4-aecb9ea3d93f",
   "metadata": {},
   "outputs": [
    {
     "name": "stdout",
     "output_type": "stream",
     "text": [
      "1\n",
      "3\n",
      "list\n",
      "dict\n"
     ]
    }
   ],
   "source": [
    "for i in a:\n",
    "    print(i)"
   ]
  },
  {
   "cell_type": "code",
   "execution_count": 49,
   "id": "9fc6c970-1e21-413a-b978-97da38ca11d4",
   "metadata": {},
   "outputs": [
    {
     "name": "stdout",
     "output_type": "stream",
     "text": [
      "1 2\n",
      "3 4\n",
      "list [1, 2, 3]\n",
      "dict {1, 2, 3}\n"
     ]
    }
   ],
   "source": [
    "for i in a:\n",
    "    print(i,a[i])"
   ]
  },
  {
   "cell_type": "code",
   "execution_count": 50,
   "id": "91bcee1a-f315-405d-950d-006c612b9152",
   "metadata": {},
   "outputs": [
    {
     "name": "stdout",
     "output_type": "stream",
     "text": [
      "2\n",
      "4\n",
      "[1, 2, 3]\n",
      "{1, 2, 3}\n"
     ]
    }
   ],
   "source": [
    "for i in a.values():\n",
    "    print(i)"
   ]
  },
  {
   "cell_type": "code",
   "execution_count": 51,
   "id": "42bfb0ee-0f5d-43f6-862d-afc9abe26d23",
   "metadata": {},
   "outputs": [
    {
     "data": {
      "text/plain": [
       "True"
      ]
     },
     "execution_count": 51,
     "metadata": {},
     "output_type": "execute_result"
    }
   ],
   "source": [
    "\"list\" in a"
   ]
  },
  {
   "cell_type": "code",
   "execution_count": 52,
   "id": "18c701b2-35a5-4287-b5b3-730dbc8c9f18",
   "metadata": {},
   "outputs": [
    {
     "data": {
      "text/plain": [
       "False"
      ]
     },
     "execution_count": 52,
     "metadata": {},
     "output_type": "execute_result"
    }
   ],
   "source": [
    "\"3\" in a"
   ]
  },
  {
   "cell_type": "code",
   "execution_count": 53,
   "id": "a8cceb59-5a9f-4ec2-912e-1cc2c8c825ef",
   "metadata": {},
   "outputs": [
    {
     "data": {
      "text/plain": [
       "True"
      ]
     },
     "execution_count": 53,
     "metadata": {},
     "output_type": "execute_result"
    }
   ],
   "source": [
    "3 in a # only keys can be passed no values can be passed"
   ]
  },
  {
   "cell_type": "markdown",
   "id": "d5c4e52b-478d-482d-bc6d-e2ce72ddb83c",
   "metadata": {},
   "source": [
    "### Adding and removing from dictionary "
   ]
  },
  {
   "cell_type": "code",
   "execution_count": 54,
   "id": "39ecece4-a39c-48f9-9cae-77dcb7f7dd0a",
   "metadata": {},
   "outputs": [
    {
     "data": {
      "text/plain": [
       "{1: 2, 3: 4, 'list': [1, 2, 3], 'dict': {1, 2, 3}, 't': (1, 2, 3)}"
      ]
     },
     "execution_count": 54,
     "metadata": {},
     "output_type": "execute_result"
    }
   ],
   "source": [
    "a['t'] = (1,2,3)\n",
    "a"
   ]
  },
  {
   "cell_type": "code",
   "execution_count": 55,
   "id": "55bc0d3a-fbf7-45c5-bec1-4bc8613b9736",
   "metadata": {},
   "outputs": [],
   "source": [
    "b = {3:5,'the':2, 2:10}"
   ]
  },
  {
   "cell_type": "code",
   "execution_count": 56,
   "id": "10143e47-d7c7-4c2d-a0d0-59f40d35687a",
   "metadata": {},
   "outputs": [
    {
     "data": {
      "text/plain": [
       "{1: 2,\n",
       " 3: 5,\n",
       " 'list': [1, 2, 3],\n",
       " 'dict': {1, 2, 3},\n",
       " 't': (1, 2, 3),\n",
       " 'the': 2,\n",
       " 2: 10}"
      ]
     },
     "execution_count": 56,
     "metadata": {},
     "output_type": "execute_result"
    }
   ],
   "source": [
    "a.update(b)\n",
    "a"
   ]
  },
  {
   "cell_type": "code",
   "execution_count": 57,
   "id": "85a7bf52-9eb0-471e-84aa-4a01b87347c3",
   "metadata": {},
   "outputs": [
    {
     "data": {
      "text/plain": [
       "(1, 2, 3)"
      ]
     },
     "execution_count": 57,
     "metadata": {},
     "output_type": "execute_result"
    }
   ],
   "source": [
    "a.pop('t') # removes the passed key- value pair and returns the asso. value as well"
   ]
  },
  {
   "cell_type": "code",
   "execution_count": 58,
   "id": "40c67cbf-6c4b-4065-825f-b2451b24a9d6",
   "metadata": {},
   "outputs": [],
   "source": [
    "del a[3]"
   ]
  },
  {
   "cell_type": "code",
   "execution_count": 59,
   "id": "7718de65-3c76-4c80-90a1-19edf9c8fa45",
   "metadata": {},
   "outputs": [
    {
     "data": {
      "text/plain": [
       "{}"
      ]
     },
     "execution_count": 59,
     "metadata": {},
     "output_type": "execute_result"
    }
   ],
   "source": [
    "a.clear() # removes everything but there is a empty dictionary as well\n",
    "a"
   ]
  },
  {
   "cell_type": "code",
   "execution_count": 60,
   "id": "4490aa6e-9ec0-4240-a538-1c2bf9ee2eed",
   "metadata": {},
   "outputs": [],
   "source": [
    "del a # deletes the whole dictionary"
   ]
  },
  {
   "cell_type": "markdown",
   "id": "9fdc6c80-ebf4-42ab-becd-01eb4df6f71a",
   "metadata": {},
   "source": [
    "### Print all words with frequency K "
   ]
  },
  {
   "cell_type": "code",
   "execution_count": null,
   "id": "219525cb-5f0d-48d1-8c0f-a2f324a39f95",
   "metadata": {},
   "outputs": [],
   "source": []
  }
 ],
 "metadata": {
  "kernelspec": {
   "display_name": "Python 3 (ipykernel)",
   "language": "python",
   "name": "python3"
  },
  "language_info": {
   "codemirror_mode": {
    "name": "ipython",
    "version": 3
   },
   "file_extension": ".py",
   "mimetype": "text/x-python",
   "name": "python",
   "nbconvert_exporter": "python",
   "pygments_lexer": "ipython3",
   "version": "3.11.5"
  }
 },
 "nbformat": 4,
 "nbformat_minor": 5
}
