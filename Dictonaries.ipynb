{
 "cells": [
  {
   "cell_type": "code",
   "execution_count": 1,
   "id": "c165926f-d621-4986-a37b-1397e552bdf4",
   "metadata": {},
   "outputs": [],
   "source": [
    "a = {}\n"
   ]
  },
  {
   "cell_type": "code",
   "execution_count": 2,
   "id": "35d18b11-5cb2-41b5-a809-172c5e8d11c8",
   "metadata": {},
   "outputs": [
    {
     "data": {
      "text/plain": [
       "dict"
      ]
     },
     "execution_count": 2,
     "metadata": {},
     "output_type": "execute_result"
    }
   ],
   "source": [
    "type(a)"
   ]
  },
  {
   "cell_type": "code",
   "execution_count": 6,
   "id": "02204879-bff7-450c-8b2b-3c045e087bde",
   "metadata": {},
   "outputs": [
    {
     "name": "stdout",
     "output_type": "stream",
     "text": [
      "{'the': 2, 'a': 5, 100: 'str'}\n"
     ]
    }
   ],
   "source": [
    "a = {\"the\":2,\"a\":5,100:\"str\"}\n",
    "print(a)"
   ]
  },
  {
   "cell_type": "code",
   "execution_count": 8,
   "id": "ce25e148-8cfe-4c5c-a1fb-9d490239fb3f",
   "metadata": {},
   "outputs": [
    {
     "name": "stdout",
     "output_type": "stream",
     "text": [
      "{'the': 3, 'a': 5, 100: 'str'}\n"
     ]
    }
   ],
   "source": [
    "c = dict([(\"the\",3),(\"a\",5),(100,\"str\")])\n",
    "print(c)"
   ]
  },
  {
   "cell_type": "code",
   "execution_count": 10,
   "id": "41f5954e-f2bb-4358-b0b6-b5085d516d06",
   "metadata": {},
   "outputs": [],
   "source": [
    "d = dict.fromkeys([\"abc\",32,4])"
   ]
  },
  {
   "cell_type": "code",
   "execution_count": 11,
   "id": "3ee2a8f9-a8eb-4d5a-8732-0356b5044359",
   "metadata": {},
   "outputs": [
    {
     "name": "stdout",
     "output_type": "stream",
     "text": [
      "{'abc': None, 32: None, 4: None}\n"
     ]
    }
   ],
   "source": [
    "print(d)"
   ]
  },
  {
   "cell_type": "code",
   "execution_count": 12,
   "id": "cf968bf4-84a6-47c8-afff-4766f330666f",
   "metadata": {},
   "outputs": [
    {
     "name": "stdout",
     "output_type": "stream",
     "text": [
      "{'abc': 10, 32: 10, 4: 10}\n"
     ]
    }
   ],
   "source": [
    "e = dict.fromkeys([\"abc\",32,4],10)\n",
    "print(e)"
   ]
  }
 ],
 "metadata": {
  "kernelspec": {
   "display_name": "Python 3 (ipykernel)",
   "language": "python",
   "name": "python3"
  },
  "language_info": {
   "codemirror_mode": {
    "name": "ipython",
    "version": 3
   },
   "file_extension": ".py",
   "mimetype": "text/x-python",
   "name": "python",
   "nbconvert_exporter": "python",
   "pygments_lexer": "ipython3",
   "version": "3.11.5"
  }
 },
 "nbformat": 4,
 "nbformat_minor": 5
}
